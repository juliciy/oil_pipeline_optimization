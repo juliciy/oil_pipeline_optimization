{
 "cells": [
  {
   "cell_type": "code",
   "execution_count": 65,
   "metadata": {
    "scrolled": true
   },
   "outputs": [],
   "source": [
    "import time\n",
    "from pyomo.environ import *\n",
    "import sys\n",
    "import os\n",
    "from os.path import dirname\n",
    "import  numpy as np\n",
    "import pandas as pd\n",
    "import math\n",
    "from bump_choose import get_bumps_data_mysql\n",
    "sys.path.insert(0, \"c:\\\\Users\\\\Administrator\\\\Desktop\\\\虹桥工业\\\\微信发的代码 - pycharm调试\\\\history-model\")\n",
    "sys.path.insert(0, \"c:\\\\Users\\\\Administrator\\\\Desktop\\\\虹桥工业\\\\微信发的代码 - vscod调试\\\\history-model\\\\riyi_line\\\\data\\\\0\\\\pressure\")\n",
    "#sys.path.insert(0, PACKAGE_DIR)\n",
    "from base.config import *\n",
    "from riyi_line.bump_choose import bump_choose\n",
    "from bump_choose import get_bumps_open_mysql,open_bump_num\n",
    "from riyi_line.bump_power import predict_fixed_frequency_power,predict_variable_frequency_power\n",
    "from riyi_line.bump_settings import get_max_num_bumps, get_started_num_bumps\n",
    "from riyi_line.bump_pressure import regularize, predict_fixed_frequency_bump_pressure_v3,predict_var_frequency_bump_pressure_v3,\\\n",
    "    predict_var_frequency_bump_pressure_v2,predict_fixed_frequency_bump_pressure_v2, \\\n",
    "    predict_var_frequency_bump_pressure_v1,predict_fixed_frequency_bump_pressure_v1\n",
    "from riyi_line.output_to_json import get_json_from_records\n",
    "from riyi_line.station_settings import predict_diff_pressure_between_stations, \\\n",
    "    get_min_inbound_pressure, get_max_outbound_pressure, get_elec_price, \\\n",
    "    get_next_min_inbound_pressure,get_next_max_inbound_pressure,\\\n",
    "    get_flow_in, get_diff_pressure_between_stations,get_last_in_pressure, get_max_inbound_pressure,get_config_flow,get_diff_pressure_between_stations_config\n",
    "from riyi_line.info_to_json import get_info_json,get_bump_df\n",
    "from riyi_line.input_to_json import get_input_json,get_df\n",
    "\n",
    "from utils.input import write_optimize_model_result_to_mysql, write_failed_result_to_mysql, \\\n",
    "    write_data_problem_result_to_mysql\n",
    "import warnings\n",
    "warnings.filterwarnings(\"ignore\")   #忽略警告\n",
    "import matplotlib.pyplot as plt\n",
    "%matplotlib inline\n",
    "plt.rcParams['font.sans-serif']=['Simhei'] #显示中文\n",
    "plt.rcParams['axes.unicode_minus']=False   #显示负号"
   ]
  },
  {
   "cell_type": "code",
   "execution_count": 66,
   "metadata": {},
   "outputs": [
    {
     "ename": "OperationalError",
     "evalue": "(2003, \"Can't connect to MySQL server on '222.240.1.180' (timed out)\")",
     "output_type": "error",
     "traceback": [
      "\u001b[1;31m---------------------------------------------------------------------------\u001b[0m",
      "\u001b[1;31mTimeoutError\u001b[0m                              Traceback (most recent call last)",
      "File \u001b[1;32mD:\\ruanjian\\Anaconda\\lib\\site-packages\\pymysql\\connections.py:644\u001b[0m, in \u001b[0;36mConnection.connect\u001b[1;34m(self, sock)\u001b[0m\n\u001b[0;32m    643\u001b[0m \u001b[38;5;28;01mtry\u001b[39;00m:\n\u001b[1;32m--> 644\u001b[0m     sock \u001b[38;5;241m=\u001b[39m socket\u001b[38;5;241m.\u001b[39mcreate_connection(\n\u001b[0;32m    645\u001b[0m         (\u001b[38;5;28mself\u001b[39m\u001b[38;5;241m.\u001b[39mhost, \u001b[38;5;28mself\u001b[39m\u001b[38;5;241m.\u001b[39mport), \u001b[38;5;28mself\u001b[39m\u001b[38;5;241m.\u001b[39mconnect_timeout, \u001b[38;5;241m*\u001b[39m\u001b[38;5;241m*\u001b[39mkwargs\n\u001b[0;32m    646\u001b[0m     )\n\u001b[0;32m    647\u001b[0m     \u001b[38;5;28;01mbreak\u001b[39;00m\n",
      "File \u001b[1;32mD:\\ruanjian\\Anaconda\\lib\\socket.py:845\u001b[0m, in \u001b[0;36mcreate_connection\u001b[1;34m(address, timeout, source_address)\u001b[0m\n\u001b[0;32m    844\u001b[0m \u001b[38;5;28;01mtry\u001b[39;00m:\n\u001b[1;32m--> 845\u001b[0m     \u001b[38;5;28;01mraise\u001b[39;00m err\n\u001b[0;32m    846\u001b[0m \u001b[38;5;28;01mfinally\u001b[39;00m:\n\u001b[0;32m    847\u001b[0m     \u001b[38;5;66;03m# Break explicitly a reference cycle\u001b[39;00m\n",
      "File \u001b[1;32mD:\\ruanjian\\Anaconda\\lib\\socket.py:833\u001b[0m, in \u001b[0;36mcreate_connection\u001b[1;34m(address, timeout, source_address)\u001b[0m\n\u001b[0;32m    832\u001b[0m     sock\u001b[38;5;241m.\u001b[39mbind(source_address)\n\u001b[1;32m--> 833\u001b[0m \u001b[43msock\u001b[49m\u001b[38;5;241;43m.\u001b[39;49m\u001b[43mconnect\u001b[49m\u001b[43m(\u001b[49m\u001b[43msa\u001b[49m\u001b[43m)\u001b[49m\n\u001b[0;32m    834\u001b[0m \u001b[38;5;66;03m# Break explicitly a reference cycle\u001b[39;00m\n",
      "\u001b[1;31mTimeoutError\u001b[0m: timed out",
      "\nDuring handling of the above exception, another exception occurred:\n",
      "\u001b[1;31mOperationalError\u001b[0m                          Traceback (most recent call last)",
      "Cell \u001b[1;32mIn[66], line 2\u001b[0m\n\u001b[0;32m      1\u001b[0m \u001b[38;5;66;03m# 实际开泵数量\u001b[39;00m\n\u001b[1;32m----> 2\u001b[0m bump_data \u001b[38;5;241m=\u001b[39m \u001b[43mget_bumps_data_mysql\u001b[49m\u001b[43m(\u001b[49m\u001b[43m)\u001b[49m  \u001b[38;5;66;03m# 从数据库读取泵数据\u001b[39;00m\n\u001b[0;32m      3\u001b[0m     \u001b[38;5;66;03m# print('bump_data')\u001b[39;00m\n\u001b[0;32m      4\u001b[0m     \u001b[38;5;66;03m# print(bump_data)\u001b[39;00m\n\u001b[0;32m      5\u001b[0m mean_bump_data \u001b[38;5;241m=\u001b[39m []\n",
      "File \u001b[1;32m~\\Desktop\\虹桥工业\\微信发的代码 - pycharm调试\\history-model\\riyi_line\\bump_choose.py:66\u001b[0m, in \u001b[0;36mget_bumps_data_mysql\u001b[1;34m()\u001b[0m\n\u001b[0;32m     65\u001b[0m \u001b[38;5;28;01mdef\u001b[39;00m \u001b[38;5;21mget_bumps_data_mysql\u001b[39m():\n\u001b[1;32m---> 66\u001b[0m     conn \u001b[38;5;241m=\u001b[39m \u001b[43mget_conn\u001b[49m\u001b[43m(\u001b[49m\u001b[43m)\u001b[49m\n\u001b[0;32m     68\u001b[0m     sql \u001b[38;5;241m=\u001b[39m \u001b[38;5;124m\"\"\"\u001b[39m\n\u001b[0;32m     69\u001b[0m \u001b[38;5;124m    select a.station_name,IFNULL(b.tagc_fz08,0) as tagValue \u001b[39m\n\u001b[0;32m     70\u001b[0m \u001b[38;5;124m    from  fz_tag_station  a  left join  fz_tag_config b \u001b[39m\n\u001b[0;32m     71\u001b[0m \u001b[38;5;124m    on  a.tag_name =b.tagc_name  \u001b[39m\n\u001b[0;32m     72\u001b[0m \u001b[38;5;124m    where  a.type =2 order by   a.station_id,a.sort\u001b[39m\n\u001b[0;32m     73\u001b[0m \u001b[38;5;124m    \u001b[39m\u001b[38;5;124m\"\"\"\u001b[39m\n\u001b[0;32m     75\u001b[0m     result \u001b[38;5;241m=\u001b[39m [[]]\n",
      "File \u001b[1;32m~\\Desktop\\虹桥工业\\微信发的代码 - pycharm调试\\history-model\\base\\mysql_conn.py:7\u001b[0m, in \u001b[0;36mget_conn\u001b[1;34m()\u001b[0m\n\u001b[0;32m      6\u001b[0m \u001b[38;5;28;01mdef\u001b[39;00m \u001b[38;5;21mget_conn\u001b[39m():\n\u001b[1;32m----> 7\u001b[0m     conn \u001b[38;5;241m=\u001b[39m \u001b[43mpymysql\u001b[49m\u001b[38;5;241;43m.\u001b[39;49m\u001b[43mconnect\u001b[49m\u001b[43m(\u001b[49m\u001b[43mhost\u001b[49m\u001b[38;5;241;43m=\u001b[39;49m\u001b[43mmysql_host\u001b[49m\u001b[43m,\u001b[49m\u001b[43m \u001b[49m\u001b[43muser\u001b[49m\u001b[38;5;241;43m=\u001b[39;49m\u001b[43mmysql_user\u001b[49m\u001b[43m,\u001b[49m\n\u001b[0;32m      8\u001b[0m \u001b[43m                           \u001b[49m\u001b[43mpassword\u001b[49m\u001b[38;5;241;43m=\u001b[39;49m\u001b[43mmysql_password\u001b[49m\u001b[43m,\u001b[49m\u001b[43m \u001b[49m\u001b[43mdb\u001b[49m\u001b[38;5;241;43m=\u001b[39;49m\u001b[43mmysql_db\u001b[49m\u001b[43m,\u001b[49m\u001b[43m \u001b[49m\u001b[43mport\u001b[49m\u001b[38;5;241;43m=\u001b[39;49m\u001b[43mmysql_port\u001b[49m\u001b[43m,\u001b[49m\n\u001b[0;32m      9\u001b[0m \u001b[43m                           \u001b[49m\u001b[43mcharset\u001b[49m\u001b[38;5;241;43m=\u001b[39;49m\u001b[38;5;124;43m'\u001b[39;49m\u001b[38;5;124;43mutf8mb4\u001b[39;49m\u001b[38;5;124;43m'\u001b[39;49m\u001b[43m,\u001b[49m\u001b[43m \u001b[49m\u001b[43mcursorclass\u001b[49m\u001b[38;5;241;43m=\u001b[39;49m\u001b[43mpymysql\u001b[49m\u001b[38;5;241;43m.\u001b[39;49m\u001b[43mcursors\u001b[49m\u001b[38;5;241;43m.\u001b[39;49m\u001b[43mDictCursor\u001b[49m\u001b[43m,\u001b[49m\u001b[43m \u001b[49m\u001b[43mautocommit\u001b[49m\u001b[38;5;241;43m=\u001b[39;49m\u001b[38;5;28;43;01mTrue\u001b[39;49;00m\u001b[43m)\u001b[49m\n\u001b[0;32m     11\u001b[0m     \u001b[38;5;28;01mreturn\u001b[39;00m conn\n",
      "File \u001b[1;32mD:\\ruanjian\\Anaconda\\lib\\site-packages\\pymysql\\connections.py:358\u001b[0m, in \u001b[0;36mConnection.__init__\u001b[1;34m(self, user, password, host, database, unix_socket, port, charset, collation, sql_mode, read_default_file, conv, use_unicode, client_flag, cursorclass, init_command, connect_timeout, read_default_group, autocommit, local_infile, max_allowed_packet, defer_connect, auth_plugin_map, read_timeout, write_timeout, bind_address, binary_prefix, program_name, server_public_key, ssl, ssl_ca, ssl_cert, ssl_disabled, ssl_key, ssl_verify_cert, ssl_verify_identity, compress, named_pipe, passwd, db)\u001b[0m\n\u001b[0;32m    356\u001b[0m     \u001b[38;5;28mself\u001b[39m\u001b[38;5;241m.\u001b[39m_sock \u001b[38;5;241m=\u001b[39m \u001b[38;5;28;01mNone\u001b[39;00m\n\u001b[0;32m    357\u001b[0m \u001b[38;5;28;01melse\u001b[39;00m:\n\u001b[1;32m--> 358\u001b[0m     \u001b[38;5;28;43mself\u001b[39;49m\u001b[38;5;241;43m.\u001b[39;49m\u001b[43mconnect\u001b[49m\u001b[43m(\u001b[49m\u001b[43m)\u001b[49m\n",
      "File \u001b[1;32mD:\\ruanjian\\Anaconda\\lib\\site-packages\\pymysql\\connections.py:711\u001b[0m, in \u001b[0;36mConnection.connect\u001b[1;34m(self, sock)\u001b[0m\n\u001b[0;32m    709\u001b[0m     \u001b[38;5;28;01mif\u001b[39;00m DEBUG:\n\u001b[0;32m    710\u001b[0m         \u001b[38;5;28mprint\u001b[39m(exc\u001b[38;5;241m.\u001b[39mtraceback)\n\u001b[1;32m--> 711\u001b[0m     \u001b[38;5;28;01mraise\u001b[39;00m exc\n\u001b[0;32m    713\u001b[0m \u001b[38;5;66;03m# If e is neither DatabaseError or IOError, It's a bug.\u001b[39;00m\n\u001b[0;32m    714\u001b[0m \u001b[38;5;66;03m# But raising AssertionError hides original error.\u001b[39;00m\n\u001b[0;32m    715\u001b[0m \u001b[38;5;66;03m# So just reraise it.\u001b[39;00m\n\u001b[0;32m    716\u001b[0m \u001b[38;5;28;01mraise\u001b[39;00m\n",
      "\u001b[1;31mOperationalError\u001b[0m: (2003, \"Can't connect to MySQL server on '222.240.1.180' (timed out)\")"
     ]
    }
   ],
   "source": [
    "# 实际开泵数量\n",
    "bump_data = get_bumps_data_mysql()  # 从数据库读取泵数据\n",
    "    # print('bump_data')\n",
    "    # print(bump_data)\n",
    "mean_bump_data = []\n",
    "for i in range(len(bump_data[0])):\n",
    "    mean_bump_data.append(np.mean(bump_data[0][i]))  # 对输油泵数据进行均值处理,现在只有一个值\n",
    "\n",
    "# 筛选有功率的泵口\n",
    "real_open_bump = [[] for i in range(4)]  # 存储当前正在开启状态的泵口\n",
    "\n",
    "\n",
    "for i in range(4):\n",
    "    temp = 0\n",
    "    for j in range(i * 14, i * 14 + 11, 2):  # 泵压差大于0.3为开启状态\n",
    "        temp = j\n",
    "        if mean_bump_data[j + 1] - mean_bump_data[j] > 0.3:\n",
    "            real_open_bump[i].append(mean_bump_data[j + 1] - mean_bump_data[j])\n",
    "        else:\n",
    "            x = 0\n",
    "            real_open_bump[i].append(x)\n",
    "\n",
    "    #print(len(real_open_bump))\n",
    "    for k in range(2):  # 变频器频率大于20为开启状态\n",
    "        if mean_bump_data[temp + 2 + k] >= 20:\n",
    "            real_open_bump[i].append(mean_bump_data[temp + 2 + k])\n",
    "        else:\n",
    "            x = 0\n",
    "            real_open_bump[i].append(x)\n",
    "# real_open_bump\n",
    "\n",
    "real_open=[]\n",
    "for i in range(4):\n",
    "    per_station_data = real_open_bump[i].copy()\n",
    "    per_bump_weight = []\n",
    "    # 计算工频泵权值\n",
    "    for j in range(6):\n",
    "        if per_station_data[j] > 0.3:\n",
    "            #开启状态\n",
    "            per_bump_weight.append(1)\n",
    "        else:\n",
    "            per_bump_weight.append(0)\n",
    "    real_open.append(per_bump_weight)\n",
    "    # print(per_bump_weight)\n",
    "real_open=pd.DataFrame(real_open)\n",
    "real_open"
   ]
  },
  {
   "cell_type": "code",
   "execution_count": null,
   "metadata": {},
   "outputs": [],
   "source": [
    "real_open_bump = pd.DataFrame(real_open_bump)\n",
    "real_open_bump"
   ]
  },
  {
   "cell_type": "code",
   "execution_count": null,
   "metadata": {},
   "outputs": [],
   "source": [
    "real_open_bump1 = real_open_bump.iloc[:,0:2].copy()\n",
    "real_open_bump1[real_open_bump1>1] = 1\n",
    "real_open_bump1"
   ]
  },
  {
   "cell_type": "code",
   "execution_count": null,
   "metadata": {},
   "outputs": [],
   "source": [
    "gongpin_guding = list(real_open_bump1.values.flatten())\n",
    "gongpin_guding"
   ]
  },
  {
   "cell_type": "code",
   "execution_count": null,
   "metadata": {},
   "outputs": [],
   "source": [
    "gongpin_indices = [index for index, value in enumerate(gongpin_guding) if value == 1]\n",
    "gongpin_indices"
   ]
  },
  {
   "cell_type": "code",
   "execution_count": null,
   "metadata": {},
   "outputs": [],
   "source": [
    "real_open_bump2 = real_open_bump.iloc[:,2:6].copy()\n",
    "real_open_bump3 = real_open_bump.iloc[:,2:6].copy()\n",
    "real_open_bump2"
   ]
  },
  {
   "cell_type": "code",
   "execution_count": null,
   "metadata": {},
   "outputs": [],
   "source": [
    "# 对每行应用操作\n",
    "for i in range(len(real_open_bump2)):\n",
    "    row = real_open_bump2.iloc[i,:]\n",
    "    positive_values = row[row > 0]\n",
    "    if len(positive_values) == 1:\n",
    "        row[row > 0] = real_open_bump.iloc[i,7]\n",
    "    elif len(positive_values) > 1:\n",
    "        min_positive = np.min(positive_values)\n",
    "        row[row > 0] = np.where(row == min_positive, real_open_bump.iloc[i,7], 50)\n",
    "    real_open_bump2.iloc[i,:] = row\n",
    "real_open_bump2"
   ]
  },
  {
   "cell_type": "code",
   "execution_count": null,
   "metadata": {},
   "outputs": [],
   "source": [
    "real_open_bump4=real_open_bump2.copy()"
   ]
  },
  {
   "cell_type": "code",
   "execution_count": null,
   "metadata": {},
   "outputs": [],
   "source": [
    "for i in range(4):\n",
    "    for j in range(4):\n",
    "        if real_open_bump2.iloc[i,j]>0:\n",
    "            real_open_bump2.iloc[i,j]=(real_open_bump2.iloc[i,j]-30) /50\n",
    "real_open_bump2"
   ]
  },
  {
   "cell_type": "code",
   "execution_count": null,
   "metadata": {},
   "outputs": [],
   "source": [
    "# 对每行应用操作\n",
    "for i in range(len(real_open_bump3)):\n",
    "    row = real_open_bump3.iloc[i,:]\n",
    "    positive_values = row[row > 0]\n",
    "    if len(positive_values) == 1:\n",
    "        row[row > 0] = 0\n",
    "    elif len(positive_values) > 1:\n",
    "        min_positive = np.min(positive_values)\n",
    "        row[row > 0] = np.where(row == min_positive, 0, 1)\n",
    "    real_open_bump3.iloc[i,:] = row\n",
    "real_open_bump3"
   ]
  },
  {
   "cell_type": "code",
   "execution_count": null,
   "metadata": {},
   "outputs": [],
   "source": [
    "bianpin_guding = list(real_open_bump3.values.flatten())\n",
    "bianpin_guding"
   ]
  },
  {
   "cell_type": "code",
   "execution_count": null,
   "metadata": {},
   "outputs": [],
   "source": [
    "bianpin_indices = [index for index, value in enumerate(bianpin_guding) if value == 1]\n",
    "bianpin_indices"
   ]
  },
  {
   "cell_type": "code",
   "execution_count": null,
   "metadata": {
    "scrolled": true
   },
   "outputs": [],
   "source": [
    "# flow = get_flow_in(minutes=flow_minutes)        # 取指定时长流量均值，设定的2分钟\n",
    "flow=get_config_flow().iloc[0,0]\n",
    "#*************************实例化模型*******************************\n",
    "model = ConcreteModel()  \n",
    "\n",
    "# 初始化集合\n",
    "model.gongpin = Set(initialize=[0, 1, 2, 3, 4, 5 ,6, 7])\n",
    "model.bianpin = Set(initialize=[0, 1, 2, 3, 4, 5 ,6, 7, 8, 9, 10, 11, 12, 13, 14, 15])\n",
    "model.station = Set(initialize=[0, 1, 2, 3])\n",
    "\n",
    "#**********************优化变量************************************\n",
    "model.x= Var( model.gongpin, within=Binary,initialize=[0,0,0,0,0,0,0,0])\n",
    "model.y= Var( model.bianpin, within=Binary,initialize=[0,0,0,0,0,0,0,0,0,0,0,0,0,0,0,0])\n",
    "model.freq= Var( model.bianpin, within=NonNegativeReals, bounds=(0,0.4),initialize=[0,0,0,0,0,0,0,0,0,0,0,0,0,0,0,0])\n",
    "# model.x= Var( model.gongpin, within=Binary,initialize=list(real_open.iloc[:,0:2].values.flatten()))\n",
    "# model.y= Var( model.bianpin, within=Binary,initialize=list(real_open.iloc[:,2:].values.flatten()))\n",
    "# model.freq= Var( model.bianpin, within=NonNegativeReals, bounds=(0,0.4),initialize=list(real_open_bump2.values.flatten()))\n",
    "\n",
    "for i in gongpin_indices:\n",
    "    model.x[i].fix(1)\n",
    "    \n",
    "for i in bianpin_indices:\n",
    "    print(i)\n",
    "    model.y[i].fix(1)\n",
    "    model.freq[i].fix(0.4)\n",
    "    \n",
    "model.pprint()"
   ]
  },
  {
   "cell_type": "code",
   "execution_count": null,
   "metadata": {
    "scrolled": false
   },
   "outputs": [],
   "source": [
    "# 工频、变频电价参数\n",
    "elec_price = get_elec_price()\n",
    "model.gpElecPrice = Param(model.gongpin,initialize=[value for value in elec_price.values() for _ in range(2)])\n",
    "model.bpElecPrice = Param(model.bianpin,initialize=[value for value in elec_price.values() for _ in range(4)])\n",
    "# 最小进站压力限制\n",
    "model.MinPressureInbound = Param(model.station,initialize=get_next_min_inbound_pressure())  # !!! 进站要往后移一位,取数是下一站的进站限制\n",
    "# 最大压力进站限制\n",
    "model.MaxPressureInbound = Param(model.station, initialize=get_next_max_inbound_pressure()) # !!! 进站要往后移一位,取数是下一站的进站限制\n",
    "# 最大出站压力限制\n",
    "model.MaxPressureOutbound = Param(model.station, initialize=get_max_outbound_pressure())\n",
    "# 各站目前开启的泵个数\n",
    "model.StartedBumps = Param(model.station, default=0, initialize=get_started_num_bumps()) \n",
    "# 各站调整系数参数 & 第0站初始压力取出\n",
    "reg, initial_pressure = regularize(flow)      \n",
    "# model.gpReg= Param(model.gongpin,initialize=[value for value in reg.values() for _ in range(2)])\n",
    "# model.bpReg= Param(model.bianpin,initialize=[value for value in reg.values() for _ in range(4)])\n",
    "model.gpReg= Param(model.gongpin,initialize=([0] * 8))\n",
    "model.bpReg= Param(model.bianpin,initialize=([0] * 16))\n",
    "# 站间压力计算\n",
    "model.DiffPressureLasttime = Param(model.station, initialize=get_diff_pressure_between_stations_config())"
   ]
  },
  {
   "cell_type": "code",
   "execution_count": null,
   "metadata": {},
   "outputs": [],
   "source": [
    "flow"
   ]
  },
  {
   "cell_type": "markdown",
   "metadata": {},
   "source": [
    "# power = flow * pressure * w"
   ]
  },
  {
   "cell_type": "markdown",
   "metadata": {},
   "source": [
    "拟合后的函数: power = flow * (0.3350) * (-2.0706e-8 * flow^2 + 1.0057e-4 * flow + 1.6359)"
   ]
  },
  {
   "cell_type": "code",
   "execution_count": null,
   "metadata": {},
   "outputs": [],
   "source": [
    "#**********************目标函数************************\n",
    "# 定义泵的 cost 计算公式  f(flow)*pricr = power * price\n",
    "# 我自己拟的\n",
    "# def pump_gp_cost(flow,elec_price):\n",
    "#     return {0:(-0.000196366818 * pow(flow,2) + 1.9728697492 * flow + -2330.6580461268) * elec_price,\n",
    "#      1:(0.000005196996 * pow(flow,2) + 0.2319827906 * flow + 1356.0905110654) * elec_price,\n",
    "#      2:(395.6312 + 0.7192 * flow - 5.2654 * pow(10,-5) * pow(flow, 2)) * elec_price,\n",
    "#      3:(395.6312 + 0.7192 * flow - 5.2654 * pow(10,-5) * pow(flow, 2)) * elec_price,\n",
    "#      4:(-0.000077803417 * pow(flow,2) + 0.9166485886 * flow + -22.4469743862) * elec_price,\n",
    "#      5:(-0.000105530243 * pow(flow,2) + 1.1780735616 * flow + -619.7910122382) * elec_price,\n",
    "#      6:(395.6312 + 0.7192 * flow - 5.2654 * pow(10,-5) * pow(flow, 2)) * elec_price,\n",
    "#      7:(395.6312 + 0.7192 * flow - 5.2654 * pow(10,-5) * pow(flow, 2)) * elec_price\n",
    "#     }\n",
    "\n",
    "# # 邱经理\n",
    "def pump_gp_cost(flow,elec_price):\n",
    "    return {0:(flow * (0.33725175635761406) * (-0.000000094675 * pow(flow, 2) +0.0007256603 * flow +  0.3259694955)) * elec_price,\n",
    "     1:(flow * (0.33145380509258104) * (-0.000000005331 * pow(flow, 2) + -0.0000271323 * flow + 1.9025624965)) * elec_price,\n",
    "     2:(flow * (0.36600262052566543) * (-2.0706e-8 * pow(flow, 2) + 1.0057e-4 * flow + 1.6359)) * elec_price,\n",
    "     3:(flow * (0.3500262052566543) * (-2.0706e-8 * pow(flow, 2) + 1.0057e-4 * flow + 1.6359)) * elec_price,\n",
    "     4:(flow * (0.33112134816507) * (-0.000000044731 * pow(flow, 2) + 0.0002942832 * flow + 1.2588246840)) * elec_price,\n",
    "     5:(flow * (0.3326978802487336) * (-0.000000020706 * pow(flow, 2) + 0.0001005700 * flow + 1.6359)) * elec_price,\n",
    "     6:(flow * (0.33249882021238303) * (-0.000000041413 * pow(flow, 2) +0.0002705021 * flow + 1.2816978385)) * elec_price,\n",
    "     7:(flow * (0.3388542396970702) * (-0.000000056491 * pow(flow, 2) + 0.0004074756 * flow + 0.9866817504)) * elec_price\n",
    "    }\n",
    "\n",
    "#原始工频\n",
    "# def pump_gp_cost(flow,elec_price):\n",
    "#     return {0:(395.6312 + 0.7192 * flow - 5.2654 * math.pow(10,-5) * math.pow(flow, 2)) * elec_price,\n",
    "#      1:(395.6312 + 0.7192 * flow - 5.2654 * math.pow(10,-5) * math.pow(flow, 2)) * elec_price,\n",
    "#      2:(395.6312 + 0.7192 * flow - 5.2654 * math.pow(10,-5) * math.pow(flow, 2)) * elec_price,\n",
    "#      3:(395.6312 + 0.7192 * flow - 5.2654 * math.pow(10,-5) * math.pow(flow, 2)) * elec_price,\n",
    "#      4:(395.6312 + 0.7192 * flow - 5.2654 * math.pow(10,-5) * math.pow(flow, 2)) * elec_price,\n",
    "#      5:(395.6312 + 0.7192 * flow - 5.2654 * math.pow(10,-5) * math.pow(flow, 2)) * elec_price,\n",
    "#      6:(395.6312 + 0.7192 * flow - 5.2654 * math.pow(10,-5) * math.pow(flow, 2)) * elec_price,\n",
    "#      7:(395.6312 + 0.7192 * flow - 5.2654 * math.pow(10,-5) * math.pow(flow, 2)) * elec_price  \n",
    "#     }\n",
    "\n",
    "# 我自己拟的\n",
    "# def pump_bp_cost(flow,freq,elec_price):\n",
    "#     return {0:(3206.153593476785 * ((freq+0.6)**3) + -0.364155993720161 * flow * ((freq+0.6)**2) + 5.641467322825844e-05 * (freq+0.6) * (flow ** 2)) * elec_price,\n",
    "#              1:(-370.515554392117 * ((freq+0.6)**3) + 0.8610922441406661 * flow * ((freq+0.6)**2) + -4.4740147543446294e-05 * (freq+0.6) * (flow ** 2)) * elec_price,\n",
    "#              2:(-5063.0095399369675 * ((freq+0.6)**3) + 3.0818267081395434 * flow * ((freq+0.6)**2) + -0.00029956802532720767 * (freq+0.6) * (flow ** 2)) * elec_price,\n",
    "#              3:(2130.0806092407106 * ((freq+0.6)**3) + -0.01808427417282718 * flow * ((freq+0.6)**2) + 3.185195340260132e-05 * (freq+0.6) * (flow ** 2)) * elec_price,\n",
    "\n",
    "#              4:(flow *(((freq + 0.6)**2) * 1.6359 + (freq + 0.6) * 1.0057 * pow(10, -4) * flow - 2.0706 * pow(10, -8) * pow(flow, 2))* (0.34635286608847915)) * elec_price,\n",
    "#              5:(flow *(((freq + 0.6)**2) * 1.6359 + (freq + 0.6) * 1.0057 * pow(10, -4) * flow - 2.0706 * pow(10, -8) * pow(flow, 2))* (0.34635286608847915))* elec_price,\n",
    "#              6:(flow *(((freq + 0.6)**2) * 1.6359 + (freq + 0.6) * 1.0057 * pow(10, -4) * flow - 2.0706 * pow(10, -8) * pow(flow, 2))* (0.34635286608847915)) * elec_price,\n",
    "#              7:(flow *(((freq + 0.6)**2) * 1.6359 + (freq + 0.6) * 1.0057 * pow(10, -4) * flow - 2.0706 * pow(10, -8) * pow(flow, 2))* (0.34635286608847915))* elec_price,\n",
    "\n",
    "#              8:(3610.614097892745 * ((freq+0.6)**3) + -0.7248814108728492 * flow * ((freq+0.6)**2) + 0.0001120545813593005 * (freq+0.6) * (flow ** 2)) * elec_price,\n",
    "#              9:(-1080.6304559741122 * ((freq+0.6)**3) + 1.1853981152050477 * flow * ((freq+0.6)**2) + -7.501874723080773e-05 * (freq+0.6) * (flow ** 2))* elec_price,\n",
    "#              10:(2166.4502459503897 * ((freq+0.6)**3) + -0.032972569655144446 * flow * ((freq+0.6)**2) + 3.0558299606270235e-05 * (freq+0.6) * (flow ** 2)) * elec_price,\n",
    "#              11:(flow *(((freq + 0.6)**2) * 1.6359 + (freq + 0.6) * 1.0057 * pow(10, -4) * flow - 2.0706 * pow(10, -8) * pow(flow, 2))* (0.34635286608847915)) * elec_price,\n",
    "             \n",
    "#              12:(314.4252917142493 * ((freq+0.6)**3) + 0.7634468753050043 * flow * ((freq+0.6)**2) + -4.758084118754196e-05 * (freq+0.6) * (flow ** 2))* elec_price,\n",
    "#              13:(flow *(((freq + 0.6)**2) * 1.6359 + (freq + 0.6) * 1.0057 * pow(10, -4) * flow - 2.0706 * pow(10, -8) * pow(flow, 2))* (0.34635286608847915))* elec_price,\n",
    "#              14:(3498.5426343798545 * ((freq+0.6)**3) + -0.6023412392167177 * flow * ((freq+0.6)**2) + 9.494829106150304e-05 * (freq+0.6) * (flow ** 2))* elec_price,\n",
    "#              15:(2103.7321059524747 * ((freq+0.6)**3) + 0.017512965848471996 * flow * ((freq+0.6)**2) + 2.9274002347366507e-05 * (freq+0.6) * (flow ** 2)) * elec_price\n",
    "#     }\n",
    "\n",
    "\n",
    "# 邱经理变频\n",
    "def pump_bp_cost(flow,freq,elec_price):\n",
    "    return {0:(flow * (((pow((freq + 0.6),2)) * -2652460.23277160 + (freq + 0.6) * -208.62946650 * flow + 0.01872940 * pow(flow, 2)) * -0.00000050) * (0.35880283)) * elec_price,\n",
    "             1:(flow * (((pow((freq + 0.6),2)) * 39.29999420 + (freq + 0.6) * 0.00204710 * flow + -0.00000030 * pow(flow, 2)) * 0.04005090) * (0.33032906)) * elec_price,\n",
    "             2:(flow * (((pow((freq + 0.6),2)) * 1.63590000 + (freq + 0.6) * 0.00010057 * flow + -0.00000002 * pow(flow, 2)) * 1.00000000) * (0.36091030)) * elec_price,\n",
    "             3:(flow * (((pow((freq + 0.6),2)) * -1295.54424360 + (freq + 0.6) * 0.10480640 * flow + -0.00000560 * pow(flow, 2)) * -0.00179400) * (0.36032962)) * elec_price,\n",
    "\n",
    "             4:flow *(((freq + 0.6)**2) * 1.6359 + (freq + 0.6) * 1.0057 * pow(10, -4) * flow - 2.0706 * pow(10, -8) * pow(flow, 2))* (0.34635286608847915) *1.05* elec_price,\n",
    "             5:flow *(((freq + 0.6)**2) * 1.6359 + (freq + 0.6) * 1.0057 * pow(10, -4) * flow - 2.0706 * pow(10, -8) * pow(flow, 2))* (0.34635286608847915)*1.05* elec_price,\n",
    "             6:flow *(((freq + 0.6)**2) * 1.6359 + (freq + 0.6) * 1.0057 * pow(10, -4) * flow - 2.0706 * pow(10, -8) * pow(flow, 2))* (0.34635286608847915)*1.05 * elec_price,\n",
    "             7:flow *(((freq + 0.6)**2) * 1.6359 + (freq + 0.6) * 1.0057 * pow(10, -4) * flow - 2.0706 * pow(10, -8) * pow(flow, 2))* (0.34635286608847915)*1.05* elec_price,\n",
    "\n",
    "             8:flow *(((freq + 0.6)**2) * 1.6359 + (freq + 0.6) * 1.0057 * pow(10, -4) * flow - 2.0706 * pow(10, -8) * pow(flow, 2))* (0.34635286608847915)*1.05 * elec_price,\n",
    "             9:(flow * (((pow((freq + 0.6),2)) * -122246.60549440 + (freq + 0.6) * -44.49584150 * flow + 0.00474740 * pow(flow, 2)) * -0.00000750) * (0.35017641))* elec_price,\n",
    "             10:(flow * (((pow((freq + 0.6),2)) * 220829.77895530 + (freq + 0.6) * 11.25782680 * flow + -0.00203460 * pow(flow, 2)) * 0.00000720) * (0.34447708))* elec_price,\n",
    "             11:flow *(((freq + 0.6)**2) * 1.6359 + (freq + 0.6) * 1.0057 * pow(10, -4) * flow - 2.0706 * pow(10, -8) * pow(flow, 2))* (0.34635286608847915)*1.05 * elec_price,\n",
    "             \n",
    "             12:flow *(((freq + 0.6)**2) * 1.6359 + (freq + 0.6) * 1.0057 * pow(10, -4) * flow - 2.0706 * pow(10, -8) * pow(flow, 2))* (0.34635286608847915)*1.05 * elec_price,\n",
    "             13:flow *(((freq + 0.6)**2) * 1.6359 + (freq + 0.6) * 1.0057 * pow(10, -4) * flow - 2.0706 * pow(10, -8) * pow(flow, 2))* (0.34635286608847915)*1.05 * elec_price,\n",
    "             14:flow *(((freq + 0.6)**2) * 1.6359 + (freq + 0.6) * 1.0057 * pow(10, -4) * flow - 2.0706 * pow(10, -8) * pow(flow, 2))* (0.34635286608847915)*1.05 * elec_price,\n",
    "             15:flow *(((freq + 0.6)**2) * 1.6359 + (freq + 0.6) * 1.0057 * pow(10, -4) * flow - 2.0706 * pow(10, -8) * pow(flow, 2))* (0.34635286608847915)*1.05 * elec_price\n",
    "    }\n",
    "\n",
    "# 原始变频\n",
    "# def pump_bp_cost(flow,freq,elec_price):\n",
    "#     return {0:((((freq+0.6)**3)*395.6312 + ((freq+0.6)**2)*0.7192*flow + (freq+0.6)*(-5.2654)*math.pow(10,-5)*math.pow(flow,2))*1.0) * elec_price,\n",
    "#      1:((((freq+0.6)**3)*395.6312 + ((freq+0.6)**2)*0.7192*flow + (freq+0.6)*(-5.2654)*math.pow(10,-5)*math.pow(flow,2))*1.0) * elec_price,\n",
    "#      2:((((freq+0.6)**3)*395.6312 + ((freq+0.6)**2)*0.7192*flow + (freq+0.6)*(-5.2654)*math.pow(10,-5)*math.pow(flow,2))*1.0) * elec_price,\n",
    "#      3:((((freq+0.6)**3)*395.6312 + ((freq+0.6)**2)*0.7192*flow + (freq+0.6)*(-5.2654)*math.pow(10,-5)*math.pow(flow,2))*1.0) * elec_price,\n",
    "#      4:((((freq+0.6)**3)*395.6312 + ((freq+0.6)**2)*0.7192*flow + (freq+0.6)*(-5.2654)*math.pow(10,-5)*math.pow(flow,2))*1.0) * elec_price,\n",
    "#      5:((((freq+0.6)**3)*395.6312 + ((freq+0.6)**2)*0.7192*flow + (freq+0.6)*(-5.2654)*math.pow(10,-5)*math.pow(flow,2))*1.0) * elec_price,\n",
    "#      6:((((freq+0.6)**3)*395.6312 + ((freq+0.6)**2)*0.7192*flow + (freq+0.6)*(-5.2654)*math.pow(10,-5)*math.pow(flow,2))*1.0) * elec_price,\n",
    "#      7:((((freq+0.6)**3)*395.6312 + ((freq+0.6)**2)*0.7192*flow + (freq+0.6)*(-5.2654)*math.pow(10,-5)*math.pow(flow,2))*1.0) * elec_price,\n",
    "#      8:((((freq+0.6)**3)*395.6312 + ((freq+0.6)**2)*0.7192*flow + (freq+0.6)*(-5.2654)*math.pow(10,-5)*math.pow(flow,2))*1.0) * elec_price,\n",
    "#      9:((((freq+0.6)**3)*395.6312 + ((freq+0.6)**2)*0.7192*flow + (freq+0.6)*(-5.2654)*math.pow(10,-5)*math.pow(flow,2))*1.0) * elec_price,\n",
    "#      10:((((freq+0.6)**3)*395.6312 + ((freq+0.6)**2)*0.7192*flow + (freq+0.6)*(-5.2654)*math.pow(10,-5)*math.pow(flow,2))*1.0) * elec_price,\n",
    "#      11:((((freq+0.6)**3)*395.6312 + ((freq+0.6)**2)*0.7192*flow + (freq+0.6)*(-5.2654)*math.pow(10,-5)*math.pow(flow,2))*1.0) * elec_price,\n",
    "#      12:((((freq+0.6)**3)*395.6312 + ((freq+0.6)**2)*0.7192*flow + (freq+0.6)*(-5.2654)*math.pow(10,-5)*math.pow(flow,2))*1.0) * elec_price,\n",
    "#      13:((((freq+0.6)**3)*395.6312 + ((freq+0.6)**2)*0.7192*flow + (freq+0.6)*(-5.2654)*math.pow(10,-5)*math.pow(flow,2))*1.0) * elec_price,\n",
    "#      14:((((freq+0.6)**3)*395.6312 + ((freq+0.6)**2)*0.7192*flow + (freq+0.6)*(-5.2654)*math.pow(10,-5)*math.pow(flow,2))*1.0) * elec_price,\n",
    "#      15:((((freq+0.6)**3)*395.6312 + ((freq+0.6)**2)*0.7192*flow + (freq+0.6)*(-5.2654)*math.pow(10,-5)*math.pow(flow,2))*1.0) * elec_price\n",
    "#     }"
   ]
  },
  {
   "cell_type": "code",
   "execution_count": null,
   "metadata": {},
   "outputs": [],
   "source": [
    "real_open=open_bump_num()\n",
    "model.gp_real_open= Param(model.gongpin,initialize=list(real_open.iloc[:,0:2].values.flatten()))\n",
    "model.bp_real_open= Param(model.bianpin,initialize=list(real_open.iloc[:,2:].values.flatten()))"
   ]
  },
  {
   "cell_type": "raw",
   "metadata": {},
   "source": [
    "list(real_open.iloc[:,0:2].values.flatten())  # 工频实际开启   [0, 0, 1, 0, 0, 1, 0, 1]\n",
    "\n",
    "list(real_open.iloc[:,2:].values.flatten())  # 变频实际开启   [1, 1, 0, 0, 0, 0, 0, 1, 0, 1, 0, 0, 0, 1, 0, 0]"
   ]
  },
  {
   "cell_type": "code",
   "execution_count": null,
   "metadata": {},
   "outputs": [],
   "source": [
    "def sum_cost(model):\n",
    "    all_cost =  pump_gp_cost(flow , model.gpElecPrice[0])[0]*model.x[0]+pump_gp_cost(flow , model.gpElecPrice[1])[1]*model.x[1]+pump_bp_cost(flow,model.freq[0], model.bpElecPrice[0])[0]*model.y[0]+pump_bp_cost(flow,model.freq[1], model.bpElecPrice[1])[1]*model.y[1]+pump_bp_cost(flow,model.freq[2], model.bpElecPrice[2])[2]*model.y[2]+pump_bp_cost(flow,model.freq[3], model.bpElecPrice[3])[3]*model.y[3]+ \\\n",
    "                pump_gp_cost(flow , model.gpElecPrice[2])[2]*model.x[2]+pump_gp_cost(flow , model.gpElecPrice[3])[3]*model.x[3]+pump_bp_cost(flow,model.freq[4], model.bpElecPrice[4])[4]*model.y[4]+pump_bp_cost(flow,model.freq[5], model.bpElecPrice[5])[5]*model.y[5]+pump_bp_cost(flow,model.freq[6], model.bpElecPrice[6])[6]*model.y[6]+pump_bp_cost(flow,model.freq[7], model.bpElecPrice[7])[7]*model.y[7]+ \\\n",
    "                pump_gp_cost(flow , model.gpElecPrice[4])[4]*model.x[4]+pump_gp_cost(flow , model.gpElecPrice[5])[5]*model.x[5]+pump_bp_cost(flow,model.freq[8], model.bpElecPrice[8])[8]*model.y[8]+pump_bp_cost(flow,model.freq[9], model.bpElecPrice[9])[9]*model.y[9]+pump_bp_cost(flow,model.freq[10], model.bpElecPrice[10])[10]*model.y[10]+pump_bp_cost(flow,model.freq[11], model.bpElecPrice[11])[11]*model.y[11]+ \\\n",
    "                pump_gp_cost(flow , model.gpElecPrice[6])[6]*model.x[6]+pump_gp_cost(flow , model.gpElecPrice[7])[7]*model.x[7]+pump_bp_cost(flow,model.freq[12], model.bpElecPrice[12])[12]*model.y[12]+pump_bp_cost(flow,model.freq[13], model.bpElecPrice[13])[13]*model.y[13]+pump_bp_cost(flow,model.freq[14], model.bpElecPrice[14])[14]*model.y[14]+pump_bp_cost(flow,model.freq[15], model.bpElecPrice[15])[15]*model.y[15]+ \\\n",
    "    sum(abs(model.x[i]-model.gp_real_open[i])*500 for i in model.gongpin)+\\\n",
    "    sum(abs(model.y[i]-model.bp_real_open[i])*500 for i in model.bianpin)+\\\n",
    "    (sum(model.x[i] for i in model.gongpin)+ (sum(model.y[i] for i in model.bianpin)))* 300\n",
    "    \n",
    "#  sum(abs(model.x[i]-model.gp_real_open[i])*100 for i in model.gongpin)+\\\n",
    "#     sum((-((model.bp_real_open[i]+1)* (2*model.bp_real_open[i]-model.y[i]+1)-1)*((model.bp_real_open[i]+1)* (2*model.bp_real_open[i]-model.y[i]+1)-6)*((model.bp_real_open[i]+1)* (2*model.bp_real_open[i]-model.y[i]+1)-4)/24)*100 for i in model.bianpin)\n",
    "\n",
    "    #                (sum(model.x[i] for i in model.gongpin)+ (sum(model.y[i] for i in model.bianpin)))**2* 50 + \\\n",
    "    return all_cost\n",
    "model.obj1 = Objective(rule = sum_cost, sense=minimize)"
   ]
  },
  {
   "cell_type": "markdown",
   "metadata": {},
   "source": [
    " sum((-((model.bp_real_open[i]+1)* (2*model.bp_real_open[i]-model.y[i]+1)-1)*((model.bp_real_open[i]+1)* (2*model.bp_real_open[i]-model.y[i]+1)-6)*((model.bp_real_open[i]+1)* (2*model.bp_real_open[i]-model.y[i]+1)-4)/24)*300 for i in model.bianpin)+ \\\n"
   ]
  },
  {
   "cell_type": "raw",
   "metadata": {},
   "source": [
    "data = pd.DataFrame({'x1': [0, 0, 1, 1], \"x2\": [0, 1, 0, 1]})\n",
    "data['计算']= -((data['x1']+1)* (2*data['x1']-data['x2']+1)-1)*((data['x1']+1)* (2*data['x1']-data['x2']+1)-6)*((data['x1']+1)* (2*data['x1']-data['x2']+1)-4)/24\n",
    "data"
   ]
  },
  {
   "cell_type": "raw",
   "metadata": {},
   "source": [
    "# data=[[1,2],[1,2],[1,2]]\n",
    "#data1=[[1,2],[1,2],[1,2]]\n",
    "data=pd.DataFrame(data)\n",
    "data\n",
    "list((data.iloc[i,0]-data.iloc[i,1])*1000 for i in range(3))\n",
    "sum((data.iloc[i,0]-data.iloc[i,1])*1000 for i in range(3))"
   ]
  },
  {
   "cell_type": "code",
   "execution_count": null,
   "metadata": {},
   "outputs": [],
   "source": [
    "# **************定义约束条件*******************\n",
    "model.cons1 = Constraint(expr= model.y[0]*model.y[2]==0)\n",
    "model.cons2 = Constraint(expr= model.y[1]*model.y[3]==0)\n",
    "\n",
    "model.cons3 = Constraint(expr= model.y[4]*model.y[6]==0)\n",
    "model.cons4 = Constraint(expr= model.y[5]*model.y[7]==0)\n",
    "\n",
    "model.cons5 = Constraint(expr= model.y[8]*model.y[10]==0)\n",
    "model.cons6 = Constraint(expr= model.y[9]*model.y[11]==0)\n",
    "\n",
    "model.cons7 = Constraint(expr= model.y[12]*model.y[14]==0)\n",
    "model.cons8 = Constraint(expr= model.y[13]*model.y[15]==0)\n",
    "\n",
    "# 4个变频只能开一个工频  （！！！但是没有限制住！！！）\n",
    "model.cons9  = Constraint(expr= (model.y[0]*model.freq[0]+model.y[2]*model.freq[2])*    (model.y[1]*model.freq[1]+model.y[3]*model.freq[3])*    (0.4-(model.y[0]*model.freq[0]+model.y[2]*model.freq[2]))*    (0.4-(model.y[1]*model.freq[1]+model.y[3]*model.freq[3]))     == 0)\n",
    "model.cons10 = Constraint(expr= (model.y[4]*model.freq[4]+model.y[6]*model.freq[6])*    (model.y[5]*model.freq[5]+model.y[7]*model.freq[7])*    (0.4-(model.y[4]*model.freq[4]+model.y[6]*model.freq[6]))*    (0.4-(model.y[5]*model.freq[5]+model.y[7]*model.freq[7]))    == 0)\n",
    "model.cons11 = Constraint(expr= (model.y[8]*model.freq[8]+model.y[10]*model.freq[10])*  (model.y[9]*model.freq[9]+model.y[11]*model.freq[11])*  (0.4-(model.y[8]*model.freq[8]+model.y[10]*model.freq[10]))*  (0.4-(model.y[9]*model.freq[9]+model.y[11]*model.freq[11]))   == 0)\n",
    "model.cons12 = Constraint(expr= (model.y[12]*model.freq[12]+model.y[14]*model.freq[14])*(model.y[13]*model.freq[13]+model.y[15]*model.freq[15])*(0.4-(model.y[12]*model.freq[12]+model.y[14]*model.freq[14]))*(0.4-(model.y[13]*model.freq[13]+model.y[15]*model.freq[15])) == 0)\n"
   ]
  },
  {
   "cell_type": "code",
   "execution_count": null,
   "metadata": {},
   "outputs": [],
   "source": [
    "#2、变频开启，频率才有值\n",
    "def cons_bump_rule3(model, i):\n",
    "    return model.freq[i] <= model.y[i]\n",
    "model.bpbump_cons = Constraint(model.bianpin, rule=cons_bump_rule3)"
   ]
  },
  {
   "cell_type": "code",
   "execution_count": null,
   "metadata": {},
   "outputs": [],
   "source": [
    "# 3、出站压力限制\n",
    "# 泵压力计算公式，再是站点压力计算公式\n",
    "# 工频  自己拟合\n",
    "def do_predict(flow):\n",
    "    return {0:-0.000000094675 * flow ** 2 + 0.0007256603 * flow + 0.3259694955, # 日照1\n",
    "             1:-0.000000005331 * flow ** 2 + -0.0000271323 * flow + 1.9025624965,# 日照2\n",
    "             2:-0.000000019866 * flow ** 2 + 0.0000678761 * flow + 1.7679022152,  # 东海1\n",
    "             3:-0.000000108118 * flow ** 2 + 0.0008077043 * flow + 0.2038966221, # 东海2\n",
    "             4:-0.000000041413 * flow ** 2 + 0.0002705021 * flow + 1.2816978385,  # 淮安1\n",
    "             5:-0.000000056491 * flow ** 2 + 0.0004074756 * flow + 0.9866817504,  # 淮安2\n",
    "             6:-0.000000044731 * flow ** 2 + 0.0002942832 * flow + 1.2588246840,  # 观音1\n",
    "             7:-0.000000020706 * flow ** 2 + 0.0001005700 * flow + 1.6359         # 观音2         \n",
    "              }\n",
    "# ！！！！！！！！！！！原始公式！！！！！！！！！\n",
    "# def do_predict(flow):\n",
    "#     return {0: 1.6359 +  1.0057 * pow(10,-4) * flow + -2.0706 * pow(10,-8) * pow(flow, 2),\n",
    "#      1: 1.6359 +  1.0057 * pow(10,-4) * flow + -2.0706 * pow(10,-8) * pow(flow, 2),\n",
    "#      2: 1.6359 +  1.0057 * pow(10,-4) * flow + -2.0706 * pow(10,-8) * pow(flow, 2),\n",
    "#      3: 1.6359 +  1.0057 * pow(10,-4) * flow + -2.0706 * pow(10,-8) * pow(flow, 2),\n",
    "#      4: 1.6359 +  1.0057 * pow(10,-4) * flow + -2.0706 * pow(10,-8) * pow(flow, 2),\n",
    "#      5: 1.6359 +  1.0057 * pow(10,-4) * flow + -2.0706 * pow(10,-8) * pow(flow, 2),\n",
    "#      6: 1.6359 +  1.0057 * pow(10,-4) * flow + -2.0706 * pow(10,-8) * pow(flow, 2),\n",
    "#      7: 1.6359 +  1.0057 * pow(10,-4) * flow + -2.0706 * pow(10,-8) * pow(flow, 2)}\n",
    "\n",
    "# 自己拟合\n",
    "# 变频  flow--press\n",
    "# def var_do_predict(flow,freq):\n",
    "#     return {0:(-2652460.2327716 * (freq + 0.6)**2 + -208.6294665 * (freq + 0.6) * flow + 0.0187294 * flow**2) * -0.0000005,\n",
    "#             1:(39.2999942 * (freq + 0.6)**2 + 0.0020471 * (freq + 0.6) * flow + -0.0000003 * flow**2) * 0.0400509,\n",
    "#             2:(1.6359 * (freq + 0.6)**2 + 0.00010057 * (freq + 0.6) * flow + -0.000000020706  * flow**2) * 1,\n",
    "#             3:(-1295.5442436 * (freq + 0.6)**2 + 0.1048064 * (freq + 0.6) * flow + -0.0000056 * flow**2) * -0.0017940,\n",
    "            \n",
    "#             4:(167.3397374 * (freq + 0.6)**2 + -0.0017207 * (freq + 0.6) * flow + -0.0000003 * flow**2) * 0.0110540,\n",
    "#             5:(523567.3784744 * (freq + 0.6)**2 + -209.1970785 * (freq + 0.6) * flow + 0.0214270 * flow**2) * 0.0001318,\n",
    "#             6:(-187483.5966987 * (freq + 0.6)**2 + -107.4527942 * (freq + 0.6) * flow + 0.0150083 * flow**2) * -0.0000047,\n",
    "#             7:(37890018.3645441 * (freq + 0.6)**2 + -1820.0716376 * (freq + 0.6) * flow + 0.0116878 * flow**2) * 0.0000001,\n",
    "            \n",
    "#             8:(-185793.4742081 * (freq + 0.6)**2 + -3.3157951 * (freq + 0.6) * flow + 0.0009063 * flow**2) * -0.0000089,\n",
    "#             9:(-122246.6054944 * (freq + 0.6)**2 + -44.4958415 * (freq + 0.6) * flow + 0.0047474 * flow**2) * -0.0000075,\n",
    "#             10:(220829.7789553 * (freq + 0.6)**2 + 11.2578268 * (freq + 0.6) * flow + -0.0020346 * flow**2) * 0.0000072,\n",
    "#             11:(1.6359 * (freq + 0.6)**2 + 0.00010057 * (freq + 0.6) * flow + -0.000000020706  * flow**2) * 1,\n",
    "            \n",
    "#             12:(-276271.7589354 * (freq + 0.6)**2 + -12.8700326 * (freq + 0.6) * flow + 0.0029378 * flow**2) * -0.0000064,\n",
    "#             13:(-483.3216402 * (freq + 0.6)**2 + 0.1366338 * (freq + 0.6) * flow + -0.0000132 * flow**2) * -0.0127857,\n",
    "#             14:(66.5218345 * (freq + 0.6)**2 + 0.0014976 * (freq + 0.6) * flow + -0.0000004 * flow**2) * 0.0272683,\n",
    "#             15:(-9181152.7520526 * (freq + 0.6)**2 + 267.0006291 * (freq + 0.6) * flow + 0.0100057 * flow**2) * -0.0000002\n",
    "#            }\n",
    "# ！！！！！！！！！！！！！！！！原始公式！！！！！！！！！！！！\n",
    "def var_do_predict(flow,freq):\n",
    "    return {0:((freq+0.6)**2) * 1.6359 + (freq+0.6) * 1.0057 * pow(10,-4) * flow + -2.0706 * pow(10,-8) * pow(flow, 2),\n",
    "            1:((freq+0.6)**2) * 1.6359 + (freq+0.6) * 1.0057 * pow(10,-4) * flow + -2.0706 * pow(10,-8) * pow(flow, 2),\n",
    "            2:((freq+0.6)**2) * 1.6359 + (freq+0.6) * 1.0057 * pow(10,-4) * flow + -2.0706 * pow(10,-8) * pow(flow, 2),\n",
    "            3:((freq+0.6)**2) * 1.6359 + (freq+0.6) * 1.0057 * pow(10,-4) * flow + -2.0706 * pow(10,-8) * pow(flow, 2),\n",
    "            \n",
    "            4:((freq+0.6)**2) * 1.6359 + (freq+0.6) * 1.0057 * pow(10,-4) * flow + -2.0706 * pow(10,-8) * pow(flow, 2),\n",
    "            5:((freq+0.6)**2) * 1.6359 + (freq+0.6) * 1.0057 * pow(10,-4) * flow + -2.0706 * pow(10,-8) * pow(flow, 2),\n",
    "            6:((freq+0.6)**2) * 1.6359 + (freq+0.6) * 1.0057 * pow(10,-4) * flow + -2.0706 * pow(10,-8) * pow(flow, 2),\n",
    "            7:((freq+0.6)**2) * 1.6359 + (freq+0.6) * 1.0057 * pow(10,-4) * flow + -2.0706 * pow(10,-8) * pow(flow, 2),\n",
    "            \n",
    "            8:((freq+0.6)**2) * 1.6359 + (freq+0.6) * 1.0057 * pow(10,-4) * flow + -2.0706 * pow(10,-8) * pow(flow, 2),\n",
    "            9:((freq+0.6)**2) * 1.6359 + (freq+0.6) * 1.0057 * pow(10,-4) * flow + -2.0706 * pow(10,-8) * pow(flow, 2),\n",
    "            10:((freq+0.6)**2) * 1.6359 + (freq+0.6) * 1.0057 * pow(10,-4) * flow + -2.0706 * pow(10,-8) * pow(flow, 2),\n",
    "            11:((freq+0.6)**2) * 1.6359 + (freq+0.6) * 1.0057 * pow(10,-4) * flow + -2.0706 * pow(10,-8) * pow(flow, 2),\n",
    "            \n",
    "            12:((freq+0.6)**2) * 1.6359 + (freq+0.6) * 1.0057 * pow(10,-4) * flow + -2.0706 * pow(10,-8) * pow(flow, 2),\n",
    "            13:((freq+0.6)**2) * 1.6359 + (freq+0.6) * 1.0057 * pow(10,-4) * flow + -2.0706 * pow(10,-8) * pow(flow, 2),\n",
    "            14:((freq+0.6)**2) * 1.6359 + (freq+0.6) * 1.0057 * pow(10,-4) * flow + -2.0706 * pow(10,-8) * pow(flow, 2),\n",
    "            15:((freq+0.6)**2) * 1.6359 + (freq+0.6) * 1.0057 * pow(10,-4) * flow + -2.0706 * pow(10,-8) * pow(flow, 2)} \n",
    "\n",
    "#工频泵flow--press * 调整系数\n",
    "# def predict_fixed_frequency_bump_pressure_v1(flow, regularization, index):\n",
    "#     pressure = do_predict(flow)[index] * (1 + regularization[index])\n",
    "#     return pressure\n",
    "\n",
    "def predict_fixed_frequency_bump_pressure_v1(flow, regularization, index):\n",
    "    pressure = do_predict(flow)[index]\n",
    "    return pressure\n",
    "\n",
    "#变频泵flow--press\n",
    "def predict_var_frequency_bump_pressure_v1(flow, freq, regularization, index):\n",
    "    return var_do_predict(flow,freq)[index] * (1+regularization[index])"
   ]
  },
  {
   "cell_type": "code",
   "execution_count": null,
   "metadata": {},
   "outputs": [],
   "source": [
    "# 站间压降拟合公式\n",
    "def fitting_pressure_drop(out_press,flow):\n",
    "    return {0:-0.350860504737142 * pow(out_press,1.75) + 2.1212981192898086 * out_press + -5.67336272824096e-08 * pow(flow,1.75) + 0.0006581954347385173 * flow + -4.538665308552071,  # 日照出 - 东海进\n",
    "            1:-0.03058876609781728 * pow(out_press,1.75) + 0.49931893192768784 * out_press + 1.22349716817076e-06 * pow(flow,1.75) + -0.0006039556630746097 * flow + 0.9596992463945984, # 东海出 - 淮安进\n",
    "            2:-0.03058876609781728 * pow(out_press,1.75) + 0.49931893192768784 * out_press + 1.22349716817076e-06 * pow(flow,1.75) + -0.0006039556630746097 * flow + 0.9596992463945984, # 淮安出 - 观音进\n",
    "            3:-0.03058876609781728 * pow(out_press,1.75) + 0.49931893192768784 * out_press + 1.22349716817076e-06 * pow(flow,1.75) + -0.0006039556630746097 * flow + 0.9596992463945984  # 观音出 - 仪征进     \n",
    "    }\n",
    "# def fitting_pressure_drop(out_press,flow):\n",
    "#     return {0:-0.350860504737142 * pow(out_press,1.75) + 2.1212981192898086 * out_press + -5.67336272824096e-08 * pow(flow,1.75) + 0.0006581954347385173 * flow + -4.538665308552071,  # 日照出 - 东海进\n",
    "#             1:-0.03058876609781728 * pow(out_press,1.75) + 0.49931893192768784 * out_press + 1.22349716817076e-06 * pow(flow,1.75) + -0.0006039556630746097 * flow + 0.9596992463945984, # 东海出 - 淮安进\n",
    "#             2:-0.17402762913352368 * pow(out_press,1.75) + 1.3714814087934344 * out_press + 2.015651681771263e-06 * pow(flow,1.75) + -0.0012944084423692419 * flow + 0.2129733978252715, # 淮安出 - 观音进\n",
    "#             3:-0.003102889724234117 * pow(out_press,1.75) + 0.9904326627752923 * out_press + -2.5004825404359886e-07 * pow(flow,1.75) + 0.00019788864848800634 * flow + -0.3581558410149965  # 观音出 - 仪征进     \n",
    "#     }\n",
    "def pressure_drop(out_press,flow,index):\n",
    "    return fitting_pressure_drop(out_press,flow)[index]"
   ]
  },
  {
   "cell_type": "code",
   "execution_count": null,
   "metadata": {
    "scrolled": true
   },
   "outputs": [],
   "source": [
    "# 第0站出站压力计算\n",
    "def predict_station0_outbound_pressure(model):\n",
    "    predict_station0_outbound_pressure = initial_pressure + \\\n",
    "                                         predict_fixed_frequency_bump_pressure_v1(flow,  model.gpReg, 0)*model.x[0]  + \\\n",
    "                                         predict_fixed_frequency_bump_pressure_v1(flow,  model.gpReg, 1)*model.x[1]  + \\\n",
    "                                         predict_var_frequency_bump_pressure_v1(flow, model.freq[0], model.bpReg,0)*model.y[0]+  \\\n",
    "                                         predict_var_frequency_bump_pressure_v1(flow, model.freq[1], model.bpReg,1)*model.y[1]+  \\\n",
    "                                         predict_var_frequency_bump_pressure_v1(flow, model.freq[2], model.bpReg,2)*model.y[2]+  \\\n",
    "                                         predict_var_frequency_bump_pressure_v1(flow, model.freq[3], model.bpReg,3)*model.y[3]\n",
    "    return predict_station0_outbound_pressure\n",
    "# 第1站出站压力计算\n",
    "def get_station1_outbound_pressure(model):\n",
    "    station0_outbound_pressure = predict_station0_outbound_pressure(model)\n",
    "    predict_station1_outbound_pressure = station0_outbound_pressure - \\\n",
    "                                         pressure_drop(predict_station0_outbound_pressure(model),flow,0)+ \\\n",
    "                                         predict_fixed_frequency_bump_pressure_v1(flow,  model.gpReg, 2)*model.x[2]  + \\\n",
    "                                         predict_fixed_frequency_bump_pressure_v1(flow,  model.gpReg, 3)*model.x[3]  + \\\n",
    "                                         predict_var_frequency_bump_pressure_v1(flow, model.freq[4], model.bpReg,4)*model.y[4]+  \\\n",
    "                                         predict_var_frequency_bump_pressure_v1(flow, model.freq[5], model.bpReg,5)*model.y[5]+  \\\n",
    "                                         predict_var_frequency_bump_pressure_v1(flow, model.freq[6], model.bpReg,6)*model.y[6]+  \\\n",
    "                                         predict_var_frequency_bump_pressure_v1(flow, model.freq[7], model.bpReg,7)*model.y[7]\n",
    "    return predict_station1_outbound_pressure\n",
    "# 第2站出站压力计算\n",
    "def get_station2_outbound_pressure(model):\n",
    "    station1_outbound_pressure = get_station1_outbound_pressure(model)\n",
    "    predict_station2_outbound_pressure = station1_outbound_pressure - \\\n",
    "                                         pressure_drop(get_station1_outbound_pressure(model),flow,1) + \\\n",
    "                                         predict_fixed_frequency_bump_pressure_v1(flow,  model.gpReg, 4)*model.x[4]  + \\\n",
    "                                         predict_fixed_frequency_bump_pressure_v1(flow,  model.gpReg, 5)*model.x[5]  + \\\n",
    "                                         predict_var_frequency_bump_pressure_v1(flow, model.freq[8], model.bpReg,8)*model.y[8]+  \\\n",
    "                                         predict_var_frequency_bump_pressure_v1(flow, model.freq[9], model.bpReg,9)*model.y[9]+  \\\n",
    "                                         predict_var_frequency_bump_pressure_v1(flow, model.freq[10], model.bpReg,10)*model.y[10]+  \\\n",
    "                                         predict_var_frequency_bump_pressure_v1(flow, model.freq[11], model.bpReg,11)*model.y[11]\n",
    "    return predict_station2_outbound_pressure\n",
    "# 第3站出站压力计算\n",
    "def get_station3_outbound_pressure(model):\n",
    "    station2_outbound_pressure = get_station2_outbound_pressure(model)\n",
    "    predict_station3_outbound_pressure = station2_outbound_pressure - \\\n",
    "                                         pressure_drop(get_station2_outbound_pressure(model),flow,2) + \\\n",
    "                                         predict_fixed_frequency_bump_pressure_v1(flow,  model.gpReg, 6)*model.x[6]  + \\\n",
    "                                         predict_fixed_frequency_bump_pressure_v1(flow,  model.gpReg, 7)*model.x[7]  + \\\n",
    "                                         predict_var_frequency_bump_pressure_v1(flow, model.freq[12], model.bpReg,12)*model.y[12]+  \\\n",
    "                                         predict_var_frequency_bump_pressure_v1(flow, model.freq[13], model.bpReg,13)*model.y[13]+  \\\n",
    "                                         predict_var_frequency_bump_pressure_v1(flow, model.freq[14], model.bpReg,14)*model.y[14]+  \\\n",
    "                                         predict_var_frequency_bump_pressure_v1(flow, model.freq[15], model.bpReg,15)*model.y[15]\n",
    "    return predict_station3_outbound_pressure\n",
    "\n",
    "# 第0站出站<max\n",
    "def cons_outbound_rule1(model):\n",
    "    station0_outbound_pressure = predict_station0_outbound_pressure(model)   # 出站值\n",
    "    return station0_outbound_pressure <= model.MaxPressureOutbound[0] \n",
    "def cons_outbound_rule2(model):\n",
    "    station1_outbound_pressure = get_station1_outbound_pressure(model)\n",
    "    return station1_outbound_pressure <= model.MaxPressureOutbound[1]\n",
    "def cons_outbound_rule3(model):\n",
    "    station2_outbound_pressure = get_station2_outbound_pressure(model)\n",
    "    return station2_outbound_pressure <= model.MaxPressureOutbound[2]\n",
    "def cons_outbound_rule4(model):\n",
    "    station3_outbound_pressure = get_station3_outbound_pressure(model)\n",
    "    return station3_outbound_pressure <= model.MaxPressureOutbound[3]\n",
    "\n",
    "# 出站压力>0      0——3\n",
    "def cons_outbound_rule5(model):\n",
    "    station0_outbound_pressure = predict_station0_outbound_pressure(model)\n",
    "    return station0_outbound_pressure >= 0\n",
    "def cons_outbound_rule6(model):\n",
    "    station1_outbound_pressure = get_station1_outbound_pressure(model)\n",
    "    return station1_outbound_pressure >= 0\n",
    "def cons_outbound_rule7(model):\n",
    "    station2_outbound_pressure = get_station2_outbound_pressure(model)\n",
    "    return station2_outbound_pressure >= 0\n",
    "def cons_outbound_rule8(model):\n",
    "    station3_outbound_pressure = get_station3_outbound_pressure(model)\n",
    "    return station3_outbound_pressure >= 0\n",
    "\n",
    "model.outbound_cons1 = Constraint(rule=cons_outbound_rule1)  \n",
    "model.outbound_cons2 = Constraint(rule=cons_outbound_rule2) \n",
    "model.outbound_cons3 = Constraint(rule=cons_outbound_rule3) \n",
    "model.outbound_cons4 = Constraint(rule=cons_outbound_rule4)\n",
    "\n",
    "model.outbound_cons5 = Constraint(rule=cons_outbound_rule5) \n",
    "model.outbound_cons6 = Constraint(rule=cons_outbound_rule6)\n",
    "model.outbound_cons7 = Constraint(rule=cons_outbound_rule7)\n",
    "model.outbound_cons8 = Constraint(rule=cons_outbound_rule8)  \n",
    "\n",
    "# 4、进站压力限制\n",
    "#计算公式\n",
    "def get_station1_inbound_pressure(model):      # 上一站的出站压力 - 站间的压降\n",
    "    station0_inbound_pressure = predict_station0_outbound_pressure(model) - pressure_drop(predict_station0_outbound_pressure(model),flow,0)\n",
    "    return station0_inbound_pressure\n",
    "def get_station2_inbound_pressure(model):\n",
    "    station1_outbound_pressure = get_station1_outbound_pressure(model) - pressure_drop(get_station1_outbound_pressure(model),flow,1)\n",
    "    return station1_outbound_pressure\n",
    "\n",
    "def get_station3_inbound_pressure(model):\n",
    "    station2_inbound_pressure = get_station2_outbound_pressure(model) - pressure_drop(get_station2_outbound_pressure(model),flow,2)\n",
    "    return station2_inbound_pressure\n",
    "\n",
    "def get_station4_inbound_pressure(model):\n",
    "    station3_inbound_pressure = get_station3_outbound_pressure(model) - pressure_drop(get_station3_outbound_pressure(model),flow,3)\n",
    "    return station3_inbound_pressure\n",
    "\n",
    "# 入站压力 > min\n",
    "def cons_inbound_rule1(model):\n",
    "    return get_station1_inbound_pressure(model) >= model.MinPressureInbound[0]     # 最小进站压力限制  {0: 0.4, 1: 0.5, 2: 0.5, 3: 0.5}\n",
    "def cons_inbound_rule2(model):\n",
    "    return get_station2_inbound_pressure(model) >= model.MinPressureInbound[1]\n",
    "def cons_inbound_rule3(model):\n",
    "    return get_station3_inbound_pressure(model) >= model.MinPressureInbound[2]\n",
    "def cons_inbound_rule4(model):\n",
    "    return get_station4_inbound_pressure(model) >= model.MinPressureInbound[3]\n",
    "\n",
    "# 入站压力 < max\n",
    "def cons_inbound_rule5(model):\n",
    "    return get_station1_inbound_pressure(model) <= model.MaxPressureInbound[0]\n",
    "def cons_inbound_rule6(model):\n",
    "    return get_station2_inbound_pressure(model) <= model.MaxPressureInbound[1]\n",
    "def cons_inbound_rule7(model):\n",
    "    return get_station3_inbound_pressure(model) <= model.MaxPressureInbound[2]\n",
    "def cons_inbound_rule8(model):\n",
    "    return get_station4_inbound_pressure(model) <= model.MaxPressureInbound[3]\n",
    "\n",
    "# 进站限制写到constraint里面\n",
    "model.inbound_cons1 = Constraint(rule=cons_inbound_rule1)\n",
    "model.inbound_cons2 = Constraint(rule=cons_inbound_rule2)\n",
    "model.inbound_cons3 = Constraint(rule=cons_inbound_rule3)\n",
    "model.inbound_cons4 = Constraint(rule=cons_inbound_rule4)\n",
    "model.inbound_cons5 = Constraint(rule=cons_inbound_rule5)\n",
    "model.inbound_cons6 = Constraint(rule=cons_inbound_rule6)\n",
    "model.inbound_cons7 = Constraint(rule=cons_inbound_rule7)\n",
    "model.inbound_cons8 = Constraint(rule=cons_inbound_rule8)\n",
    "\n",
    "# 禁用泵不参与优化计算\n",
    "forbidden_message=get_bumps_open_mysql()\n",
    "if len(forbidden_message[forbidden_message.iloc[:,3]==1])>0:\n",
    "    gp_forbidden_message = forbidden_message.iloc[[0,1,6,7,12,13,18,19],3].tolist()\n",
    "    bp_forbidden_message = forbidden_message.iloc[[2,3,4,5,8,9,10,11,14,15,16,17,20,21,22,23],3].tolist()\n",
    "    # 找工频禁用编号,有禁用的话，将变量固定为0，就是不启用\n",
    "    # 1是禁用，2是启用。返回禁用的索引,例如[0,1] 就是第一个站前两个泵都禁用\n",
    "    gp_indices = [index for index, value in enumerate(gp_forbidden_message) if value == 1]  \n",
    "    if len(gp_indices)>0:\n",
    "        for i in gp_indices:\n",
    "            model.x[i].fix(0)\n",
    "    # 找变频禁用编号\n",
    "    bp_indices = [index for index, value in enumerate(bp_forbidden_message) if value == 1]  \n",
    "    if len(bp_indices)>0:\n",
    "        for i in bp_indices:\n",
    "            model.y[i].fix(0)\n",
    "            \n",
    "# *************************模型求解********************************\n",
    "opt = SolverFactory('scip', executable= 'C:/Program Files/SCIPOptSuite 8.0.3/bin/scip')  # 指定求解器\n",
    "solution = opt.solve(model, tee=True)#, timelimit=60)  # 调用求解器求解, tee = True 表示打印求解器的输出\n",
    "\n",
    "# ***********************模型结果打印******************************\n",
    "x_opt = np.array([round(value(model.x[i]), 0) for i in model.gongpin])  # 提取最优解\n",
    "y_opt = np.array([round(value(model.y[j]), 0) for j in model.bianpin])\n",
    "z_opt = np.array([round(value(model.freq[j]), 6) for j in model.bianpin])\n",
    "obj_values = value(model.obj1)\n",
    "print('模型状态打印',solution.solver.termination_condition)\n",
    "print(\"目标函数为: \",obj_values)\n",
    "print('各站工频开启情况',x_opt)\n",
    "print('各站变频开启情况',y_opt)\n",
    "print('变频频率',z_opt)"
   ]
  },
  {
   "cell_type": "code",
   "execution_count": null,
   "metadata": {
    "scrolled": true
   },
   "outputs": [],
   "source": [
    "# if solution.solver.termination_condition != 'optimal':\n",
    "#     print('在线寻优失败！')\n",
    "# else:\n",
    "x_opt=pd.DataFrame(x_opt.reshape(4,2))   # 工频是否开启，0 /1 变量\n",
    "\n",
    "# 工频泵优化功率计算\n",
    "x_opt_optimize_power =  x_opt.copy()\n",
    "u = 0\n",
    "for i in range(4):\n",
    "    for j in range(2):\n",
    "        x_opt_optimize_power.iloc[i,j] = pump_gp_cost(flow,1)[u]*x_opt.iloc[i,j]    # 功率 = 功率 * 是否开启\n",
    "        u +=1\n",
    "# x_opt_optimize_power  # 优化开启的全部功率\n",
    "\n",
    "z_opt = pd.DataFrame(z_opt.reshape(4,4)) # 变频是否开启，0 /1 变量\n",
    "\n",
    "# 变频泵功率计算\n",
    "z_opt_optimize_power = z_opt.copy()\n",
    "u = 0\n",
    "for i in range(4):\n",
    "    for j in range(4):\n",
    "        if z_opt.iloc[i,j] !=0:\n",
    "            z_opt_optimize_power.iloc[i,j] = pump_bp_cost(flow,z_opt.iloc[i,j],1)[u]  # 功率 = 功率 * 是否开启\n",
    "        u +=1\n",
    "# z_opt_optimize_power\n",
    "\n",
    "bump_choose_output= pd.DataFrame(np.array([0] * 40).reshape(4,10))\n",
    "# bump_choose_output\n",
    "\n",
    "for i in range(4):\n",
    "    for j in range(2):\n",
    "        bump_choose_output.iloc[i,j] = str(x_opt.iloc[i,j]*50)+'/'+str(round(x_opt_optimize_power.iloc[i,j],2))\n",
    "for i in range(4):\n",
    "    for j in range(4):\n",
    "        if z_opt.iloc[i,j] != 0:\n",
    "            bump_choose_output.iloc[i,j+2] = str(round(30 + z_opt.iloc[i,j]*50,2)) + '/' + str(round(z_opt_optimize_power.iloc[i,j],2))\n",
    "        else:\n",
    "            bump_choose_output.iloc[i,j+2] = str(0.0) + '/' + str(0.0)\n",
    "#bump_choose_output\n",
    "\n",
    "bump_choose_output.iloc[:,6] = flow\n",
    "#bump_choose_output\n",
    "\n",
    "# 计算每一站出站压力和下一站的进站压力\n",
    "\n",
    "#[0站出站值，1站进站值\n",
    "# 1站出站值，2站进站值\n",
    "# 2站出站值，3站进站值\n",
    "# 3站出站值，4站进站值]\n",
    "stations_pressure = [value(predict_station0_outbound_pressure(model)),value(get_station1_inbound_pressure(model)),      # 根据流量 和 压力差算出来的出站\n",
    "                        value(get_station1_outbound_pressure(model)), value(get_station2_inbound_pressure(model)),\n",
    "                        value(get_station2_outbound_pressure(model)), value(get_station3_inbound_pressure(model)),\n",
    "                        value(get_station3_outbound_pressure(model)), value(get_station4_inbound_pressure(model))]\n",
    "stations_pressure\n",
    "\n",
    "bump_choose_output\n",
    "\n",
    "in_and_out_pressure = stations_pressure\n",
    "\n",
    "pressure_index = 0\n",
    "for i in range(4):  # 出口压力，下一站入口压力加进去\n",
    "    bump_choose_output.iloc[i,7] = in_and_out_pressure[pressure_index]\n",
    "    pressure_index = pressure_index + 1\n",
    "    bump_choose_output.iloc[i,8] = in_and_out_pressure[pressure_index]\n",
    "    pressure_index = pressure_index + 1\n",
    "# bump_choose_output"
   ]
  },
  {
   "cell_type": "code",
   "execution_count": null,
   "metadata": {},
   "outputs": [],
   "source": [
    "x_opt"
   ]
  },
  {
   "cell_type": "code",
   "execution_count": null,
   "metadata": {},
   "outputs": [],
   "source": [
    "y_opt"
   ]
  },
  {
   "cell_type": "code",
   "execution_count": null,
   "metadata": {},
   "outputs": [],
   "source": [
    "y_opt=pd.DataFrame(y_opt.reshape(4,4))"
   ]
  },
  {
   "cell_type": "code",
   "execution_count": null,
   "metadata": {},
   "outputs": [],
   "source": [
    "y_opt"
   ]
  },
  {
   "cell_type": "code",
   "execution_count": null,
   "metadata": {},
   "outputs": [],
   "source": [
    "z_opt"
   ]
  },
  {
   "cell_type": "code",
   "execution_count": null,
   "metadata": {},
   "outputs": [],
   "source": [
    "obj_values = value(model.obj1)\n",
    "print(\"optimal objective: {}\".format(obj_values))"
   ]
  },
  {
   "cell_type": "code",
   "execution_count": null,
   "metadata": {},
   "outputs": [],
   "source": [
    "# 实际开泵数量\n",
    "bump_data = get_bumps_data_mysql()  # 从数据库读取泵数据\n",
    "    # print('bump_data')\n",
    "    # print(bump_data)\n",
    "mean_bump_data = []\n",
    "for i in range(len(bump_data[0])):\n",
    "    mean_bump_data.append(np.mean(bump_data[0][i]))  # 对输油泵数据进行均值处理,现在只有一个值\n",
    "\n",
    "# 筛选有功率的泵口\n",
    "real_open_bump = [[] for i in range(4)]  # 存储当前正在开启状态的泵口\n",
    "\n",
    "\n",
    "for i in range(4):\n",
    "    temp = 0\n",
    "    for j in range(i * 14, i * 14 + 11, 2):  # 泵压差大于0.3为开启状态\n",
    "        temp = j\n",
    "        if mean_bump_data[j + 1] - mean_bump_data[j] > 0.3:\n",
    "            real_open_bump[i].append(mean_bump_data[j + 1] - mean_bump_data[j])\n",
    "        else:\n",
    "            x = 0\n",
    "            real_open_bump[i].append(x)\n",
    "\n",
    "    #print(len(real_open_bump))\n",
    "    for k in range(2):  # 变频器频率大于20为开启状态\n",
    "        if mean_bump_data[temp + 2 + k] >= 20:\n",
    "            real_open_bump[i].append(mean_bump_data[temp + 2 + k])\n",
    "        else:\n",
    "            x = 0\n",
    "            real_open_bump[i].append(x)\n",
    "# real_open_bump\n",
    "\n",
    "real_open=[]\n",
    "for i in range(4):\n",
    "    per_station_data = real_open_bump[i].copy()\n",
    "    per_bump_weight = []\n",
    "    # 计算工频泵权值\n",
    "    for j in range(6):\n",
    "        if per_station_data[j] > 0.3:\n",
    "            #开启状态\n",
    "            per_bump_weight.append(1)\n",
    "        else:\n",
    "            per_bump_weight.append(0)\n",
    "    real_open.append(per_bump_weight)\n",
    "    # print(per_bump_weight)\n",
    "real_open=pd.DataFrame(real_open)\n",
    "real_open"
   ]
  },
  {
   "cell_type": "code",
   "execution_count": null,
   "metadata": {},
   "outputs": [],
   "source": [
    "real_open_bump = pd.DataFrame(real_open_bump)\n",
    "# real_open_bump"
   ]
  },
  {
   "cell_type": "code",
   "execution_count": null,
   "metadata": {},
   "outputs": [],
   "source": [
    "real_open_bump"
   ]
  },
  {
   "cell_type": "code",
   "execution_count": null,
   "metadata": {},
   "outputs": [],
   "source": [
    "real_open_power = real_open.copy()\n",
    "u = 0\n",
    "for i in range(4):\n",
    "    for j in range(2):\n",
    "        real_open_power.iloc[i,j] = pump_gp_cost(flow,1)[u] *  real_open.iloc[i,j]\n",
    "        u +=1   \n",
    "w=0\n",
    "for i in range(4):\n",
    "    for j in range(4):\n",
    "        if real_open.iloc[i,j+2]==1:\n",
    "            real_open_power.iloc[i,j+2] = pump_bp_cost(flow,(real_open_bump.iloc[i,7]-30)/50,1)[w]# 开启就把功率填进去 \n",
    "        w+=1\n",
    "\n",
    "# 变频器一拖二全开了，就是有一个变频泵以工频开启，把其中一个改为工频运行的效率\n",
    "w=0\n",
    "for i in range(4):\n",
    "    for j in [2,4]:\n",
    "        if (real_open.iloc[i,j]==1 and real_open.iloc[i,j] == real_open.iloc[i,j+1]):  # 一拖二都开，其中一个是工频\n",
    "            # 压差大的改为工频，小的不变\n",
    "            if real_open_bump.iloc[i,j] >= real_open_bump.iloc[i,j+1]:\n",
    "                real_open_power.iloc[i,j] = pump_bp_cost(flow,0.4,1)[w]      \n",
    "            else :\n",
    "                real_open_power.iloc[i,j+1] = pump_bp_cost(flow,0.4,1)[w]   \n",
    "        w += 2\n",
    "real_open_power"
   ]
  },
  {
   "cell_type": "code",
   "execution_count": null,
   "metadata": {},
   "outputs": [],
   "source": [
    "real_all_power = real_open_power.sum().sum()   # 真实开泵全部功率\n",
    "# real_all_power\n",
    "\n",
    "optimize_all_power =  x_opt_optimize_power.sum().sum() + z_opt_optimize_power.sum().sum()  # 优化开泵功率\n",
    "#optimize_all_power\n",
    "\n",
    "bump_choose_output.iloc[0,9] = optimize_all_power  # 优化功耗\n",
    "bump_choose_output.iloc[1,9] = real_all_power  # 实际功耗\n",
    "bump_choose_output.iloc[2,9] = (real_all_power - optimize_all_power)/real_all_power  # 功耗节约百分比\n",
    "# bump_choose_output"
   ]
  },
  {
   "cell_type": "code",
   "execution_count": null,
   "metadata": {},
   "outputs": [],
   "source": [
    "bump_choose_output"
   ]
  },
  {
   "cell_type": "code",
   "execution_count": null,
   "metadata": {},
   "outputs": [],
   "source": [
    "choice = np.array(bump_choose_output).tolist()\n",
    "print('choice',choice)\n",
    "\n",
    "print(\"optimum point: \\n {},{},{} \".format(x_opt, y_opt, z_opt))\n",
    "\n",
    "print('flow=', flow)\n",
    "\n",
    "print('---diff pressure last--')\n",
    "\n",
    "for i in model.station:\n",
    "    print(model.DiffPressureLasttime[i])\n",
    "\n",
    "inbound_pressure = [stations_pressure[i] for i in np.arange(1, stations_pressure.__len__(), 2)]\n",
    "outbound_pressure = [stations_pressure[i] for i in np.arange(0, stations_pressure.__len__(), 2)]\n",
    "\n",
    "print('---pressure--')\n",
    "\n",
    "for i, o in zip(inbound_pressure, outbound_pressure):\n",
    "    print(o, i, o - i)\n",
    "\n",
    "elec_price = list(get_elec_price().values())\n",
    "\n",
    "\n",
    "riyi_success_flag = 1\n",
    "if (riyi_success_flag != 1):\n",
    "    print(\"optimize failed as data problem\")\n",
    "    # write_data_problem_result_to_mysql(2, get_input_json(), get_info_json(), get_json_from_records(choice, elec_price))\n",
    "else:\n",
    "    if (solution.solver.termination_condition == TerminationCondition.optimal):\n",
    "        print(\"optimize success\")\n",
    "        write_optimize_model_result_to_mysql(2, get_input_json(), get_info_json(), get_json_from_records(choice,elec_price))\n",
    "    else:\n",
    "        print(\"optimize failed\")\n",
    "        write_failed_result_to_mysql(2, get_input_json(), get_info_json(), get_json_from_records(choice,elec_price))"
   ]
  },
  {
   "cell_type": "code",
   "execution_count": null,
   "metadata": {},
   "outputs": [],
   "source": [
    "pd.DataFrame(choice)#.iloc[:,0:6]"
   ]
  },
  {
   "cell_type": "markdown",
   "metadata": {},
   "source": [
    "# 验证实际开泵以及其频率，按照公司计算出站压力有没有达标。再与查询实际出站比较"
   ]
  },
  {
   "cell_type": "code",
   "execution_count": null,
   "metadata": {},
   "outputs": [],
   "source": [
    "real_open_bump"
   ]
  },
  {
   "cell_type": "code",
   "execution_count": null,
   "metadata": {},
   "outputs": [],
   "source": [
    "initial_pressure"
   ]
  },
  {
   "cell_type": "code",
   "execution_count": null,
   "metadata": {},
   "outputs": [],
   "source": [
    "flow"
   ]
  },
  {
   "cell_type": "code",
   "execution_count": null,
   "metadata": {},
   "outputs": [],
   "source": [
    "# 站间压力计算\n",
    "DiffPressureLasttime = get_diff_pressure_between_stations_config()\n",
    "DiffPressureLasttime"
   ]
  },
  {
   "cell_type": "markdown",
   "metadata": {},
   "source": [
    "# reg置零"
   ]
  },
  {
   "cell_type": "code",
   "execution_count": null,
   "metadata": {},
   "outputs": [],
   "source": [
    "reg=[0,0,0,0]"
   ]
  },
  {
   "cell_type": "code",
   "execution_count": null,
   "metadata": {},
   "outputs": [],
   "source": [
    "# 第0站出站压力计算  日照\n",
    "predict_station0_outbound_pressure = initial_pressure +\\\n",
    "                                    var_do_predict(flow,0.4)[0] * (1+reg[0])+\\\n",
    "                                    var_do_predict(flow,(42.585938-30)/50)[1] * (1+reg[0])\n",
    "predict_station0_outbound_pressure"
   ]
  },
  {
   "cell_type": "code",
   "execution_count": null,
   "metadata": {},
   "outputs": [],
   "source": [
    "# 第1站出站压力计算  东海\n",
    "station0_outbound_pressure = predict_station0_outbound_pressure\n",
    "predict_station1_outbound_pressure = station0_outbound_pressure - \\\n",
    "                                     pressure_drop(predict_station0_outbound_pressure,flow,0)+ \\\n",
    "                                     do_predict(flow)[2]*(1 + reg[1])  + \\\n",
    "                                     var_do_predict(flow,(37.928905-30)/50)[7] * (1+reg[1])\n",
    "predict_station1_outbound_pressure"
   ]
  },
  {
   "cell_type": "code",
   "execution_count": null,
   "metadata": {},
   "outputs": [],
   "source": [
    "# 第2站出站压力计算   淮安\n",
    "station1_outbound_pressure = predict_station1_outbound_pressure\n",
    "predict_station2_outbound_pressure = station1_outbound_pressure - \\\n",
    "                                     pressure_drop(station1_outbound_pressure,flow,1) + \\\n",
    "                                     do_predict(flow)[5]*(1 + reg[2])  + \\\n",
    "                                     var_do_predict(flow,(34.572655-30)/50)[9] * (1+reg[2])\n",
    "predict_station2_outbound_pressure"
   ]
  },
  {
   "cell_type": "code",
   "execution_count": null,
   "metadata": {},
   "outputs": [],
   "source": [
    "# 第3站出站压力计算    观音\n",
    "station2_outbound_pressure = predict_station2_outbound_pressure\n",
    "predict_station3_outbound_pressure = station2_outbound_pressure - \\\n",
    "                                     pressure_drop(station2_outbound_pressure,flow,2) + \\\n",
    "                                     do_predict(flow)[7]*(1 + reg[3])  + \\\n",
    "                                     var_do_predict(flow,(31.774220-30)/50)[13] * (1+reg[3])\n",
    "predict_station3_outbound_pressure"
   ]
  },
  {
   "cell_type": "markdown",
   "metadata": {},
   "source": [
    "# 第4站进站压力    -仪征"
   ]
  },
  {
   "cell_type": "markdown",
   "metadata": {},
   "source": [
    "先算个小压差"
   ]
  },
  {
   "cell_type": "code",
   "execution_count": null,
   "metadata": {},
   "outputs": [],
   "source": [
    "pressure_drop(predict_station3_outbound_pressure,flow,3)"
   ]
  },
  {
   "cell_type": "code",
   "execution_count": null,
   "metadata": {},
   "outputs": [],
   "source": []
  },
  {
   "cell_type": "code",
   "execution_count": null,
   "metadata": {
    "scrolled": true
   },
   "outputs": [],
   "source": [
    "# 拟合公式计算对应泵提供的出站压力\n",
    "print('拟合公式计算出站压力:')\n",
    "print(predict_station0_outbound_pressure,predict_station1_outbound_pressure,predict_station2_outbound_pressure,predict_station3_outbound_pressure)"
   ]
  },
  {
   "cell_type": "markdown",
   "metadata": {},
   "source": [
    "实际出站压力:  \n",
    "3.2011719、3.651172、3.466406、3.1519532"
   ]
  },
  {
   "cell_type": "markdown",
   "metadata": {},
   "source": [
    "所以拟合公式要提供更大的压力的话就要用更大的功率，所以偏高很多"
   ]
  },
  {
   "cell_type": "code",
   "execution_count": null,
   "metadata": {},
   "outputs": [],
   "source": [
    "#[0站出站值，1站进站值\n",
    "# 1站出站值，2站进站值\n",
    "# 2站出站值，3站进站值\n",
    "# 3站出站值，4站进站值]\n",
    "inbound_pressure = [stations_pressure[i] for i in np.arange(1, stations_pressure.__len__(), 2)]\n",
    "outbound_pressure = [stations_pressure[i] for i in np.arange(0, stations_pressure.__len__(), 2)]\n",
    "\n",
    "print('---pressure--')\n",
    "\n",
    "for i, o in zip(inbound_pressure, outbound_pressure):\n",
    "    print(o, i, o - i,)"
   ]
  },
  {
   "cell_type": "code",
   "execution_count": null,
   "metadata": {},
   "outputs": [],
   "source": [
    "outbound_pressure"
   ]
  },
  {
   "cell_type": "markdown",
   "metadata": {},
   "source": [
    "# 实际功率显示"
   ]
  },
  {
   "cell_type": "code",
   "execution_count": null,
   "metadata": {
    "scrolled": true
   },
   "outputs": [],
   "source": [
    "real_open_bump    #  实际加压"
   ]
  },
  {
   "cell_type": "code",
   "execution_count": null,
   "metadata": {},
   "outputs": [],
   "source": [
    "# 实际出站-进站压力\n",
    "dd = get_df()\n",
    "dd"
   ]
  },
  {
   "cell_type": "code",
   "execution_count": null,
   "metadata": {},
   "outputs": [],
   "source": [
    "rr=get_bump_df()\n",
    "rr = rr.sort_values(by=['id'])\n",
    "# 设置NumPy的显示格式，不以科学计数法显示\n",
    "np.set_printoptions(suppress=True)\n",
    "data = np.array(rr['power'].values)\n",
    "data_reshaped = data.reshape(4, 6)\n",
    "df = pd.DataFrame(data_reshaped)\n",
    "\n",
    "df2=df.copy()\n",
    "#df2=pd.concat([df2,real_open_bump.iloc[:,[6,7]]],axis = 1)\n",
    "for i in range(4):\n",
    "    for j in range(2):\n",
    "        if df.iloc[i,j]>0:\n",
    "            if i ==3:\n",
    "                df2.iloc[i,j] = '50.0/'+str(round(df.iloc[i,j]*1000,4))\n",
    "            else:\n",
    "                df2.iloc[i,j] = '50.0/'+str(df.iloc[i,j])\n",
    "for i in range(4):\n",
    "    for j in range(2,6):\n",
    "        if i == 3:\n",
    "            df2.iloc[i,j]=str(round(real_open_bump4.loc[i,j],2))+'/'+str(round(df.iloc[i,j]*1000,4))\n",
    "        else:\n",
    "            df2.iloc[i,j]=str(round(real_open_bump4.loc[i,j],2))+'/'+str(df.iloc[i,j])\n",
    "df2.index = ['日照','东海','淮安','观音']\n",
    "df2.columns=['0泵频率/功耗','1泵频率/功耗','2泵频率/功耗','3泵频率/功耗','4泵频率/功耗','5泵频率/功耗']\n",
    "df2['流量']=flow\n",
    "df2['此站出站压力'] = dd['outPressure'].to_list()\n",
    "df2['下一站入站压力'] = dd['inPressure'].to_list()\n",
    "\n",
    "df2['实际功耗']=[0,real_all_power,0,0]\n",
    "df2['压降']=df2['此站出站压力']-df2['下一站入站压力']\n",
    "df2"
   ]
  },
  {
   "cell_type": "code",
   "execution_count": null,
   "metadata": {},
   "outputs": [],
   "source": [
    "result = pd.DataFrame(choice)\n",
    "result.index = ['日照','东海','淮安','观音']\n",
    "result.columns=['0泵频率/功耗','1泵频率/功耗','2泵频率/功耗','3泵频率/功耗','4泵频率/功耗','5泵频率/功耗','流量','此站出站压力','下一站入站压力','理论功耗/实际功耗/节约功耗百分比']\n",
    "result['压降']=result['此站出站压力']-result['下一站入站压力']\n",
    "result"
   ]
  },
  {
   "cell_type": "code",
   "execution_count": null,
   "metadata": {},
   "outputs": [],
   "source": [
    "pressure_drop(0.457813,flow,2)"
   ]
  },
  {
   "cell_type": "code",
   "execution_count": null,
   "metadata": {},
   "outputs": [],
   "source": [
    "x = [1,1,2,2,3,3,4,4,5]\n",
    "shiji = [0]+list(df2.loc[:,['此站出站压力','下一站入站压力']].values.flatten())\n",
    "youhua = [0]+list(result.loc[:,['此站出站压力','下一站入站压力']].values.flatten())\n",
    "\n",
    "plt.figure( figsize=(10,4))\n",
    "plt.plot(x,shiji,label='实际', color='royalblue')\n",
    "plt.plot(x,youhua,label='优化',alpha=0.5,color='sandybrown')\n",
    "\n",
    "for i in range(len(x)):\n",
    "    plt.text(x[i], shiji[i], f'{shiji[i]:.2f}', ha='left', va='bottom', fontsize=10, color='royalblue')\n",
    "for i in range(len(x)):\n",
    "    plt.text(x[i], youhua[i], f'{youhua[i]:.2f}', ha='right', va='bottom', fontsize=10,color='sandybrown')   \n",
    "\n",
    "x_labels = ['日照', '日照', '东海', '东海', '淮安', '淮安', '观音', '观音', '仪征']  # 标签列表\n",
    "plt.gca().set_xticks(x)\n",
    "plt.gca().set_xticklabels(x_labels)\n",
    "plt.ylabel('压强',fontsize=15)\n",
    "plt.grid()\n",
    "\n",
    "plt.legend(fontsize=15);"
   ]
  },
  {
   "cell_type": "code",
   "execution_count": null,
   "metadata": {},
   "outputs": [],
   "source": [
    "print('实际(蓝线)')\n",
    "print('日照增压：初始——',round(df2.loc['日照','此站出站压力'],3),'东海增压：',round(df2.loc['东海','此站出站压力']-df2.loc['日照','下一站入站压力'],3),'淮安增压：',round(df2.loc['淮安','此站出站压力']-df2.loc['东海','下一站入站压力'],3),'观音增压：',round(df2.loc['观音','此站出站压力']-df2.loc['淮安','下一站入站压力'],3))\n",
    "print('------------------------------')\n",
    "print('优化(橘线)')\n",
    "print('日照增压：初始——',round(result.loc['日照','此站出站压力'],3),'东海增压：',round(result.loc['东海','此站出站压力']-result.loc['日照','下一站入站压力'],3),'淮安增压：',round(result.loc['淮安','此站出站压力']-result.loc['东海','下一站入站压力'],3),'观音增压：',round(result.loc['观音','此站出站压力']-result.loc['淮安','下一站入站压力'],3))"
   ]
  },
  {
   "cell_type": "code",
   "execution_count": null,
   "metadata": {},
   "outputs": [],
   "source": [
    "x_opt"
   ]
  },
  {
   "cell_type": "code",
   "execution_count": null,
   "metadata": {},
   "outputs": [],
   "source": [
    "y_opt"
   ]
  },
  {
   "cell_type": "code",
   "execution_count": null,
   "metadata": {},
   "outputs": [],
   "source": [
    "z_opt"
   ]
  },
  {
   "cell_type": "code",
   "execution_count": null,
   "metadata": {},
   "outputs": [],
   "source": [
    "regress_coefficient=[0.7503638066177811, -0.00028671881817425907, 2.4831145687651157e-07, 0.9806509973018369]\n",
    "x=[1, 4914.4336, 2884553.3474604534, 3.044047926829268]\n",
    "np.dot(x, regress_coefficient)"
   ]
  },
  {
   "cell_type": "code",
   "execution_count": null,
   "metadata": {},
   "outputs": [],
   "source": [
    "regress_coefficient=[0.7503638066177811, -0.00028671881817425907, 2.4831145687651157e-07]\n",
    "x=[1, 4914.4336, 2884553.3474604534]\n",
    "np.dot(x, regress_coefficient)"
   ]
  }
 ],
 "metadata": {
  "kernelspec": {
   "display_name": "Python 3 (ipykernel)",
   "language": "python",
   "name": "python3"
  },
  "language_info": {
   "codemirror_mode": {
    "name": "ipython",
    "version": 3
   },
   "file_extension": ".py",
   "mimetype": "text/x-python",
   "name": "python",
   "nbconvert_exporter": "python",
   "pygments_lexer": "ipython3",
   "version": "3.10.9"
  }
 },
 "nbformat": 4,
 "nbformat_minor": 2
}
