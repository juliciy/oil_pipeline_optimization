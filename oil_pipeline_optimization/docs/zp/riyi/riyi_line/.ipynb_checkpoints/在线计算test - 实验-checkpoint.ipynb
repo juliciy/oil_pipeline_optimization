{
 "cells": [
  {
   "cell_type": "code",
   "execution_count": 1,
   "metadata": {},
   "outputs": [
    {
     "name": "stdout",
     "output_type": "stream",
     "text": [
      "pipeline 0 start with samples 35\n",
      "max flow  4590.0\n",
      "min flow  3538.1252\n",
      "coef  [-7.69774963e-01  1.23510386e-03 -1.58798068e-07  1.43670924e-01]\n",
      "rmse  0.009157739915246908\n",
      "rsquared  0.9442000827457623\n",
      "pipeline 1 start with samples 180\n",
      "max flow  4702.0312\n",
      "min flow  3489.8435\n",
      "coef  [ 2.59714607e+00 -3.85540504e-04  4.26420204e-08 -4.15894957e-02]\n",
      "rmse  0.018116193563581264\n",
      "rsquared  0.7346907269346132\n",
      "pipeline 2 start with samples 346\n",
      "max flow  4263.9844\n",
      "min flow  3387.8906\n",
      "coef  [ 6.21874702e-01  6.24462206e-04 -9.10459710e-08  1.90148218e-02]\n",
      "rmse  0.01355025719196899\n",
      "rsquared  0.4189493979775458\n",
      "pipeline 3 start with samples 12\n",
      "max flow  4557.1875\n",
      "min flow  4529.7656\n",
      "coef  [ 2.48633360e+03 -1.09589113e+00  1.20895893e-04 -8.09125189e-01]\n",
      "rmse  0.04408792307773821\n",
      "rsquared  -0.8429596222715647\n"
     ]
    },
    {
     "name": "stderr",
     "output_type": "stream",
     "text": [
      "C:\\Users\\Administrator\\Desktop\\虹桥工业\\微信发的代码 - pycharm调试\\history-model\\utils\\input.py:13: SettingWithCopyWarning: \n",
      "A value is trying to be set on a copy of a slice from a DataFrame\n",
      "\n",
      "See the caveats in the documentation: https://pandas.pydata.org/pandas-docs/stable/user_guide/indexing.html#returning-a-view-versus-a-copy\n",
      "  flow[(flow >= (quantile_75 - quantile_25) * 2.5 + quantile_75) | (flow <= quantile_25 - (quantile_75 - quantile_25) * 2.5)] = np.nan\n",
      "C:\\Users\\Administrator\\Desktop\\虹桥工业\\微信发的代码 - pycharm调试\\history-model\\utils\\input.py:13: SettingWithCopyWarning: \n",
      "A value is trying to be set on a copy of a slice from a DataFrame\n",
      "\n",
      "See the caveats in the documentation: https://pandas.pydata.org/pandas-docs/stable/user_guide/indexing.html#returning-a-view-versus-a-copy\n",
      "  flow[(flow >= (quantile_75 - quantile_25) * 2.5 + quantile_75) | (flow <= quantile_25 - (quantile_75 - quantile_25) * 2.5)] = np.nan\n",
      "C:\\Users\\Administrator\\Desktop\\虹桥工业\\微信发的代码 - pycharm调试\\history-model\\utils\\input.py:13: SettingWithCopyWarning: \n",
      "A value is trying to be set on a copy of a slice from a DataFrame\n",
      "\n",
      "See the caveats in the documentation: https://pandas.pydata.org/pandas-docs/stable/user_guide/indexing.html#returning-a-view-versus-a-copy\n",
      "  flow[(flow >= (quantile_75 - quantile_25) * 2.5 + quantile_75) | (flow <= quantile_25 - (quantile_75 - quantile_25) * 2.5)] = np.nan\n",
      "C:\\Users\\Administrator\\Desktop\\虹桥工业\\微信发的代码 - pycharm调试\\history-model\\utils\\input.py:13: SettingWithCopyWarning: \n",
      "A value is trying to be set on a copy of a slice from a DataFrame\n",
      "\n",
      "See the caveats in the documentation: https://pandas.pydata.org/pandas-docs/stable/user_guide/indexing.html#returning-a-view-versus-a-copy\n",
      "  flow[(flow >= (quantile_75 - quantile_25) * 2.5 + quantile_75) | (flow <= quantile_25 - (quantile_75 - quantile_25) * 2.5)] = np.nan\n"
     ]
    },
    {
     "name": "stdout",
     "output_type": "stream",
     "text": [
      "get_all_station_settings \n",
      "    SELECT v.station_id as id,\n",
      "    v.station_hight station_high,\n",
      "    IF(v.station_out_max IS NULL or v.station_out_max = '', '0.0', v.station_out_max) station_out_max,\n",
      "    v.station_low station_low,\n",
      "    v.electricity_fees elec_price \n",
      "FROM fz_station_line as  s \n",
      "LEFT JOIN fz_station v on  s.station_id= v.station_id \n",
      "where s.line_id = 1\n",
      "and s.sl_type in ('first','oil')\n",
      "order by s.pipeline_id\n",
      "    \n"
     ]
    },
    {
     "name": "stderr",
     "output_type": "stream",
     "text": [
      "c:\\Users\\Administrator\\Desktop\\虹桥工业\\微信发的代码 - pycharm调试\\history-model\\riyi_line\\ry_forcast_di_pressure_mysql.py:155: SettingWithCopyWarning: \n",
      "A value is trying to be set on a copy of a slice from a DataFrame\n",
      "\n",
      "See the caveats in the documentation: https://pandas.pydata.org/pandas-docs/stable/user_guide/indexing.html#returning-a-view-versus-a-copy\n",
      "  flow[(flow >= (quantile_75 - quantile_25) * 2.5 + quantile_75) | (\n",
      "c:\\Users\\Administrator\\Desktop\\虹桥工业\\微信发的代码 - pycharm调试\\history-model\\riyi_line\\ry_forcast_di_pressure_mysql.py:155: SettingWithCopyWarning: \n",
      "A value is trying to be set on a copy of a slice from a DataFrame\n",
      "\n",
      "See the caveats in the documentation: https://pandas.pydata.org/pandas-docs/stable/user_guide/indexing.html#returning-a-view-versus-a-copy\n",
      "  flow[(flow >= (quantile_75 - quantile_25) * 2.5 + quantile_75) | (\n",
      "c:\\Users\\Administrator\\Desktop\\虹桥工业\\微信发的代码 - pycharm调试\\history-model\\riyi_line\\ry_forcast_di_pressure_mysql.py:155: SettingWithCopyWarning: \n",
      "A value is trying to be set on a copy of a slice from a DataFrame\n",
      "\n",
      "See the caveats in the documentation: https://pandas.pydata.org/pandas-docs/stable/user_guide/indexing.html#returning-a-view-versus-a-copy\n",
      "  flow[(flow >= (quantile_75 - quantile_25) * 2.5 + quantile_75) | (\n",
      "c:\\Users\\Administrator\\Desktop\\虹桥工业\\微信发的代码 - pycharm调试\\history-model\\riyi_line\\ry_forcast_di_pressure_mysql.py:155: SettingWithCopyWarning: \n",
      "A value is trying to be set on a copy of a slice from a DataFrame\n",
      "\n",
      "See the caveats in the documentation: https://pandas.pydata.org/pandas-docs/stable/user_guide/indexing.html#returning-a-view-versus-a-copy\n",
      "  flow[(flow >= (quantile_75 - quantile_25) * 2.5 + quantile_75) | (\n"
     ]
    }
   ],
   "source": [
    "import time\n",
    "from pyomo.environ import *\n",
    "import sys\n",
    "import os\n",
    "from os.path import dirname\n",
    "import  numpy as np\n",
    "import pandas as pd\n",
    "\n",
    "sys.path.insert(0, \"c:\\\\Users\\\\Administrator\\\\Desktop\\\\虹桥工业\\\\微信发的代码 - pycharm调试\\\\history-model\")\n",
    "sys.path.insert(0, \"c:\\\\Users\\\\Administrator\\\\Desktop\\\\虹桥工业\\\\微信发的代码 - vscod调试\\\\history-model\\\\riyi_line\\\\data\\\\0\\\\pressure\")\n",
    "#sys.path.insert(0, PACKAGE_DIR)\n",
    "\n",
    "from base.config import *\n",
    "from riyi_line.bump_choose import bump_choose\n",
    "from riyi_line.bump_power import predict_fixed_frequency_power,predict_variable_frequency_power\n",
    "from riyi_line.bump_settings import get_max_num_bumps, get_started_num_bumps\n",
    "from riyi_line.bump_pressure import regularize, predict_fixed_frequency_bump_pressure_v3,predict_var_frequency_bump_pressure_v3,\\\n",
    "    predict_var_frequency_bump_pressure_v2,predict_fixed_frequency_bump_pressure_v2, \\\n",
    "    predict_var_frequency_bump_pressure_v1,predict_fixed_frequency_bump_pressure_v1\n",
    "from riyi_line.output_to_json import get_json_from_records\n",
    "from riyi_line.station_settings import predict_diff_pressure_between_stations, \\\n",
    "    get_min_inbound_pressure, get_max_outbound_pressure, \\\n",
    "    get_elec_price, \\\n",
    "    get_flow_in, get_diff_pressure_between_stations,get_last_in_pressure, get_max_inbound_pressure\n",
    "from riyi_line.info_to_json import get_info_json\n",
    "from riyi_line.input_to_json import get_input_json\n",
    "from utils.input import write_optimize_model_result_to_mysql, write_failed_result_to_mysql, \\\n",
    "    write_data_problem_result_to_mysql"
   ]
  },
  {
   "cell_type": "code",
   "execution_count": 2,
   "metadata": {},
   "outputs": [],
   "source": [
    "import math"
   ]
  },
  {
   "cell_type": "code",
   "execution_count": 3,
   "metadata": {},
   "outputs": [],
   "source": [
    "# PACKAGE_DIR = dirname(dirname(os.path.abspath(__file__)))\n",
    "sys.path.insert(0, \"c:\\\\Users\\\\Administrator\\\\Desktop\\\\虹桥工业\\\\微信发的代码 - pycharm调试\\\\history-model\")\n",
    "sys.path.insert(0, \"c:\\\\Users\\\\Administrator\\\\Desktop\\\\虹桥工业\\\\微信发的代码 - vscod调试\\\\history-model\\\\riyi_line\\\\data\\\\0\\\\pressure\")"
   ]
  },
  {
   "cell_type": "code",
   "execution_count": 4,
   "metadata": {},
   "outputs": [
    {
     "data": {
      "text/plain": [
       "4914.4336"
      ]
     },
     "execution_count": 4,
     "metadata": {},
     "output_type": "execute_result"
    }
   ],
   "source": [
    "start = time.time()\n",
    "# solver_path = '/home/prod/anaconda3/envs/optimize/bin/scip'\n",
    "solver_path = 'C:/Program Files/SCIPOptSuite 8.0.3/bin/scip'\n",
    "# solver_path = sys.argv[0]\n",
    "flow = get_flow_in(minutes=flow_minutes)        # 取指定时长流量均值，设定的2分钟\n",
    "flow"
   ]
  },
  {
   "cell_type": "markdown",
   "metadata": {},
   "source": [
    "def func():  \n",
    "    main(solver_path,flow)"
   ]
  },
  {
   "cell_type": "code",
   "execution_count": 5,
   "metadata": {},
   "outputs": [
    {
     "data": {
      "text/plain": [
       "<pyomo.core.base.PyomoModel.ConcreteModel at 0x1e59312e3e0>"
      ]
     },
     "execution_count": 5,
     "metadata": {},
     "output_type": "execute_result"
    }
   ],
   "source": [
    "flow_capacity=flow\n",
    "# def main(solver_path, flow_capacity):\n",
    "    #   *******定义参数************\n",
    "model = ConcreteModel()  # 实例化模型\n",
    "model"
   ]
  },
  {
   "cell_type": "code",
   "execution_count": 6,
   "metadata": {},
   "outputs": [],
   "source": [
    "model.I = Set(initialize=[i for i in np.arange(0, 4)])     # [0, 1, 2, 3]\n",
    "# model.J = Set(initialize=[i for i in np.arange(0, 4)])"
   ]
  },
  {
   "cell_type": "code",
   "execution_count": 7,
   "metadata": {},
   "outputs": [
    {
     "name": "stdout",
     "output_type": "stream",
     "text": [
      "get_elec_price_result {0: 0.751, 1: 0.61, 2: 0.625, 3: 0.622}\n",
      "get_max_num_bumps_num_bumps {0: 6, 1: 6, 2: 6, 3: 6}\n",
      "get_min_inbound_pressure_result {0: 0.4, 1: 0.5, 2: 0.5, 3: 0.5}\n",
      "get_max_inbound_pressure_result {0: 6.4, 1: 6.4, 2: 6.4, 3: 6.4}\n",
      "get_max_outbound_pressure_result {0: 8.5, 1: 8.5, 2: 8.5, 3: 8.5}\n",
      "get_started_num_bumps {0: 3, 1: 2, 2: 2, 3: 2}\n",
      "get_last_in_pressure_result {0: 0.63, 1: 2.0620305195121955, 2: 1.631896356097561, 3: 1.1637927121951217}\n"
     ]
    }
   ],
   "source": [
    "model.ElecPrice = Param(model.I, initialize=get_elec_price())  # 每个站电价                                                    {0: 0.751, 1: 0.61, 2: 0.625, 3: 0.622}\n",
    "model.Bumps = Param(model.I, default=0, initialize=get_max_num_bumps())   # 每个站泵的总数                                      {0: 6, 1: 6, 2: 6, 3: 6}\n",
    "model.MinPressureInbound = Param(model.I, initialize=get_min_inbound_pressure())  # 最小进站压力限制                             {0: 0.4, 1: 0.5, 2: 0.5, 3: 0.5}\n",
    "model.MaxPressureInbound = Param(model.I, initialize=get_max_inbound_pressure(), default=5.0) # 最大进站压力限制                 {0: 6.4, 1: 6.4, 2: 6.4, 3: 6.4}\n",
    "model.MaxPressureOutbound = Param(model.I, initialize=get_max_outbound_pressure())   # 最大出站压力限制                          {0: 8.5, 1: 8.5, 2: 8.5, 3: 8.5}\n",
    "\n",
    "model.StartedBumps = Param(model.I, default=0, initialize=get_started_num_bumps()) # 4个站6个口的出入>0.3 认为泵开启。开启泵的数量 {0: 3, 1: 2, 2: 2, 3: 2}  tag_config 查询，大于阈值的就是开启的。\n",
    "model.DiffPressureLasttime = Param(model.I, initialize=get_diff_pressure_between_stations(minutes=pipe_diff_pressure_minutes)) # view表查询最新时段的  站间压力差{0: 2.9354972556097563, 1: 3.051995792682927, 2: 3.024407002439024, 3: 3.5342503802439023}\n",
    "model.LastInPressure =Param(model.I, initialize=get_last_in_pressure(minutes=pipe_diff_pressure_minutes)) #  最新的进站压力       view表查询最新时段的 {0: 0.63, 1: 1.1227439175609757, 2: 1.047060987804878, 3: 0.9273841609756098}\n",
    "\n",
    "reg, initial_pressure = regularize(flow_capacity)      # 负反馈调节系数\\初始压力                                                 根据流量算的一个值，其余参数都是写死的，包括上面tag_config 查的bump数据\n",
    "model.Regularzations = Param(model.I, initialize=reg)  # 每个站负反馈调节系数                                                    {0: -0.02, 1: -0.04, 2: -0.11, 3: -0.17}\n"
   ]
  },
  {
   "cell_type": "code",
   "execution_count": 8,
   "metadata": {},
   "outputs": [
    {
     "data": {
      "text/plain": [
       "{0: -0.03372539195134929,\n",
       " 1: -0.003104403256206995,\n",
       " 2: 0.005781157250400412,\n",
       " 3: 0.02078756469988256}"
      ]
     },
     "execution_count": 8,
     "metadata": {},
     "output_type": "execute_result"
    }
   ],
   "source": [
    "reg"
   ]
  },
  {
   "cell_type": "code",
   "execution_count": 9,
   "metadata": {},
   "outputs": [
    {
     "data": {
      "text/plain": [
       "0.46350002"
      ]
     },
     "execution_count": 9,
     "metadata": {},
     "output_type": "execute_result"
    }
   ],
   "source": [
    "initial_pressure"
   ]
  },
  {
   "cell_type": "code",
   "execution_count": 7,
   "metadata": {},
   "outputs": [],
   "source": [
    "# 工频泵的开启数量\n",
    "model.x = Var(model.I, within=NonNegativeIntegers, initialize=[1, 1, 0, 0])\n",
    "# 变频泵是否开启\n",
    "model.y = Var(model.I, within=Binary, initialize=[0, 0, 0, 0])\n",
    "# 变频泵的开启频率\n",
    "model.freq = Var(model.I, within=NonNegativeReals, bounds=(0., 0.4), initialize=[0.0, 0.0, 0.0, 0.0])"
   ]
  },
  {
   "cell_type": "code",
   "execution_count": 8,
   "metadata": {},
   "outputs": [],
   "source": [
    "# bump_pressure的riyi_bump_pressure_model的fit_diff_pressure引起输出\n",
    "# station_setting输出\n",
    "#工频成本计算公式\n",
    "def line_freq_costs(flow_capacity,elec_price):\n",
    "    return predict_fixed_frequency_power(flow_capacity) * elec_price\n",
    "\n",
    "#变频成本\n",
    "def variable_freq_costs(flow_capacity,freq,elec_price):\n",
    "    return predict_variable_frequency_power(flow_capacity,freq)*elec_price\n",
    "\n",
    "\n",
    "def total_costs(model):                                                                                                     # 工频价格*工频数量 + 变频（频率为变量）价格*变频数量   +  后面还加了两个什么东西不知道是啥\n",
    "    return sum([line_freq_costs(flow_capacity, model.ElecPrice[i]) * model.x[i] for i in model.I]) + \\\n",
    "        sum([variable_freq_costs(flow_capacity, model.freq[i], model.ElecPrice[i]) * model.y[i] for i in model.I]) + \\\n",
    "        (sum((model.x[i] + model.y[i] - model.StartedBumps[i]) ** 2 for i in model.I)) * 100 + \\\n",
    "        (sum((model.x[i] + model.y[i]) ** 2 for i in model.I)) * 50\n",
    "\n",
    "# ***************定义目标函数*******************\n",
    "model.obj = Objective(rule=total_costs, sense=minimize)   # 最小花费"
   ]
  },
  {
   "cell_type": "code",
   "execution_count": 9,
   "metadata": {},
   "outputs": [],
   "source": [
    "# **************定义约束条件*******************\n",
    "# 输油泵开启数量限制\n",
    "def cons_bump_rule1(model, i):     # 每个站总泵数量大于等于0，前面设置了x y为非负，可以不要\n",
    "    return model.x[i] + model.y[i] >= 0\n",
    "\n",
    "# 输油泵开启数量限制\n",
    "def cons_bump_rule2(model, i):     # 小于等于每个站泵的总数\n",
    "    return model.x[i] + model.y[i] <= model.Bumps[i]\n",
    "\n",
    "# 变频泵开启限制，如果没有开启，则频率为0\n",
    "def cons_bump_rule3(model, i):         # 没开y就是0，频率就要小于0\n",
    "    return model.freq[i] <= model.y[i]\n",
    "\n",
    "# 输油泵开启数量限制，变频泵限制\n",
    "# model.bump_cons1 = Constraint(model.I, rule=cons_bump_rule1)\n",
    "model.bump_cons2 = Constraint(model.I, rule=cons_bump_rule2)\n",
    "model.bump_cons3 = Constraint(model.I, rule=cons_bump_rule3)"
   ]
  },
  {
   "cell_type": "markdown",
   "metadata": {},
   "source": [
    "出站压力值获取"
   ]
  },
  {
   "cell_type": "code",
   "execution_count": 10,
   "metadata": {},
   "outputs": [],
   "source": [
    "# 第0站出站压力计算  =  工频提供压力 + 变频提供压力 + 初始压力\n",
    "def predict_station0_outbound_pressure(model):\n",
    "    predict_station0_outbound_pressure = predict_fixed_frequency_bump_pressure_v1(flow_capacity,  model.Regularzations[0], 0 ) * model.x[0] + \\\n",
    "                                         predict_var_frequency_bump_pressure_v1(flow_capacity, model.freq[0],  model.Regularzations[0], 0 ) * model.y[0] + initial_pressure\n",
    "    return predict_station0_outbound_pressure\n",
    "\n",
    "\n",
    "# 获得第1站出站压力\n",
    "def get_station1_outbound_pressure(model):  # （直接获得第0站和第1站的值，返回第1站的值）    \n",
    "    station0_outbound_pressure = predict_station0_outbound_pressure(model)    # 获得第0站出站压力\n",
    "    \n",
    "    #                                  预测值 = 上一站出站压力 - 压降 + 这一站工频和变频提供压力\n",
    "    station1_outbound_pressure = station0_outbound_pressure -  predict_diff_pressure_between_stations(flow_capacity,model.DiffPressureLasttime[0], 0) + \\\n",
    "                                    predict_fixed_frequency_bump_pressure_v1(flow_capacity,model.Regularzations[1], 1) * model.x[1] + \\\n",
    "                                    predict_var_frequency_bump_pressure_v1(flow_capacity,model.freq[1],model.Regularzations[1], 1) * model.y[1]\n",
    "    return station1_outbound_pressure\n",
    "\n",
    "\n",
    "# 计算第2站出站压力  \n",
    "def get_station2_outbound_pressure(model): # （直接获得第1站和第2站的值，返回第2站的值）        \n",
    "    station1_outbound_pressure = get_station1_outbound_pressure(model)     # 获得第1站出站压力\n",
    "    #                                  预测值 = 上一站出站压力-压降 + 这一站工频和变频提供压力\n",
    "    station2_outbound_pressure = station1_outbound_pressure - predict_diff_pressure_between_stations(flow_capacity,model.DiffPressureLasttime[1], 1) + \\\n",
    "                                    predict_fixed_frequency_bump_pressure_v1(flow_capacity,model.Regularzations[2], 2) * model.x[2] + \\\n",
    "                                    predict_var_frequency_bump_pressure_v1(flow_capacity,model.freq[2],model.Regularzations[2], 2) * model.y[2]\n",
    "    return station2_outbound_pressure\n",
    "\n",
    "# 计算第3站出站压力 \n",
    "def get_station3_outbound_pressure(model):  # （直接获得第2站和第3站的值，返回第3站的值）\n",
    "    station2_outbound_pressure = get_station2_outbound_pressure(model)\n",
    "    station3_outbound_pressure = station2_outbound_pressure -predict_diff_pressure_between_stations(flow_capacity,model.DiffPressureLasttime[2], 2) + \\\n",
    "                                    predict_fixed_frequency_bump_pressure_v1(flow_capacity,model.Regularzations[3], 3) * model.x[ 3] + \\\n",
    "                                    predict_var_frequency_bump_pressure_v1(flow_capacity, model.freq[3],model.Regularzations[3], 3) * model.y[3]\n",
    "    return station3_outbound_pressure"
   ]
  },
  {
   "cell_type": "markdown",
   "metadata": {},
   "source": [
    "出站压力限制:      min < 各站压力 < max"
   ]
  },
  {
   "cell_type": "code",
   "execution_count": 11,
   "metadata": {},
   "outputs": [],
   "source": [
    "# 出站压力<max   0——3\n",
    "def cons_outbound_rule1(model):\n",
    "    station0_outbound_pressure = predict_station0_outbound_pressure(model)   # 出站值\n",
    "    return station0_outbound_pressure <= model.MaxPressureOutbound[0]        # 出站值<最大限制[0]    最大出站压力限制为：  {0: 8.5, 1: 8.5, 2: 8.5, 3: 8.5}\n",
    "def cons_outbound_rule2(model):\n",
    "    station1_outbound_pressure = get_station1_outbound_pressure(model)\n",
    "    return station1_outbound_pressure <= model.MaxPressureOutbound[1]\n",
    "def cons_outbound_rule3(model):\n",
    "    station2_outbound_pressure = get_station2_outbound_pressure(model)\n",
    "    return station2_outbound_pressure <= model.MaxPressureOutbound[2]\n",
    "def cons_outbound_rule4(model):\n",
    "    station3_outbound_pressure = get_station3_outbound_pressure(model)\n",
    "    return station3_outbound_pressure <= model.MaxPressureOutbound[3]\n",
    "\n",
    "# 出站压力>0      0——3\n",
    "def cons_outbound_rule5(model):\n",
    "    station0_outbound_pressure = predict_station0_outbound_pressure(model)\n",
    "    return station0_outbound_pressure >= 0\n",
    "def cons_outbound_rule6(model):\n",
    "    station1_outbound_pressure = get_station1_outbound_pressure(model)\n",
    "    return station1_outbound_pressure >= 0\n",
    "def cons_outbound_rule7(model):\n",
    "    station2_outbound_pressure = get_station2_outbound_pressure(model)\n",
    "    return station2_outbound_pressure >= 0\n",
    "def cons_outbound_rule8(model):\n",
    "    station3_outbound_pressure = get_station3_outbound_pressure(model)\n",
    "    return station3_outbound_pressure >= 0\n",
    "\n",
    "# 出站限制写到constraint里面\n",
    "model.outbound_cons1 = Constraint(rule=cons_outbound_rule1)  \n",
    "model.outbound_cons2 = Constraint(rule=cons_outbound_rule2) \n",
    "model.outbound_cons3 = Constraint(rule=cons_outbound_rule3) \n",
    "model.outbound_cons4 = Constraint(rule=cons_outbound_rule4) \n",
    "model.outbound_cons5 = Constraint(rule=cons_outbound_rule5) \n",
    "model.outbound_cons6 = Constraint(rule=cons_outbound_rule6)\n",
    "model.outbound_cons7 = Constraint(rule=cons_outbound_rule7)\n",
    "model.outbound_cons8 = Constraint(rule=cons_outbound_rule8)"
   ]
  },
  {
   "cell_type": "markdown",
   "metadata": {},
   "source": [
    "进站压力值获取"
   ]
  },
  {
   "cell_type": "code",
   "execution_count": 12,
   "metadata": {},
   "outputs": [],
   "source": [
    "# 进站压力获取，上面出站公式的前一半\n",
    "def get_station1_inbound_pressure(model):      # 上一站的出站压力 - 站间的压降\n",
    "    station0_inbound_pressure = predict_station0_outbound_pressure(model) - predict_diff_pressure_between_stations(flow_capacity,model.DiffPressureLasttime[0],0)\n",
    "    return station0_inbound_pressure\n",
    "\n",
    "def get_station2_inbound_pressure(model):\n",
    "    station1_outbound_pressure = get_station1_outbound_pressure(model) - predict_diff_pressure_between_stations(flow_capacity,model.DiffPressureLasttime[1], 1)\n",
    "    return station1_outbound_pressure\n",
    "\n",
    "def get_station3_inbound_pressure(model):\n",
    "    station2_inbound_pressure = get_station2_outbound_pressure(model) - predict_diff_pressure_between_stations(flow_capacity,model.DiffPressureLasttime[2], 2)\n",
    "    return station2_inbound_pressure\n",
    "\n",
    "def get_station4_inbound_pressure(model):\n",
    "    station3_inbound_pressure = get_station3_outbound_pressure(model) - predict_diff_pressure_between_stations(flow_capacity,model.DiffPressureLasttime[3], 3)\n",
    "    return station3_inbound_pressure"
   ]
  },
  {
   "cell_type": "markdown",
   "metadata": {},
   "source": [
    "进站压力限制:      min < 各站压力 < max"
   ]
  },
  {
   "cell_type": "code",
   "execution_count": 13,
   "metadata": {},
   "outputs": [],
   "source": [
    "# 入站压力 > min\n",
    "def cons_inbound_rule1(model):\n",
    "    return get_station1_inbound_pressure(model) >= model.MinPressureInbound[0]     # 最小进站压力限制  {0: 0.4, 1: 0.5, 2: 0.5, 3: 0.5}\n",
    "def cons_inbound_rule2(model):\n",
    "    return get_station2_inbound_pressure(model) >= model.MinPressureInbound[1]\n",
    "def cons_inbound_rule3(model):\n",
    "    return get_station3_inbound_pressure(model) >= model.MinPressureInbound[2]\n",
    "def cons_inbound_rule4(model):\n",
    "    return get_station4_inbound_pressure(model) >= model.MinPressureInbound[3]\n",
    "\n",
    "# 入站压力 < max\n",
    "def cons_inbound_rule5(model):\n",
    "    return get_station1_inbound_pressure(model) <= model.MaxPressureInbound[0]\n",
    "def cons_inbound_rule6(model):\n",
    "    return get_station2_inbound_pressure(model) <= model.MaxPressureInbound[1]\n",
    "def cons_inbound_rule7(model):\n",
    "    return get_station3_inbound_pressure(model) <= model.MaxPressureInbound[2]\n",
    "def cons_inbound_rule8(model):\n",
    "    return get_station4_inbound_pressure(model) <= model.MaxPressureInbound[3]\n",
    "\n",
    "# 进站限制写到constraint里面\n",
    "model.inbound_cons1 = Constraint(rule=cons_inbound_rule1)\n",
    "model.inbound_cons2 = Constraint(rule=cons_inbound_rule2)\n",
    "model.inbound_cons3 = Constraint(rule=cons_inbound_rule3)\n",
    "model.inbound_cons4 = Constraint(rule=cons_inbound_rule4)\n",
    "model.inbound_cons5 = Constraint(rule=cons_inbound_rule5)\n",
    "model.inbound_cons6 = Constraint(rule=cons_inbound_rule6)\n",
    "model.inbound_cons7 = Constraint(rule=cons_inbound_rule7)\n",
    "model.inbound_cons8 = Constraint(rule=cons_inbound_rule8)"
   ]
  },
  {
   "cell_type": "code",
   "execution_count": 14,
   "metadata": {},
   "outputs": [
    {
     "name": "stdout",
     "output_type": "stream",
     "text": [
      "1 Set Declarations\n",
      "    I : Size=1, Index=None, Ordered=Insertion\n",
      "        Key  : Dimen : Domain : Size : Members\n",
      "        None :     1 :    Any :    4 : {0, 1, 2, 3}\n",
      "\n",
      "9 Param Declarations\n",
      "    Bumps : Size=4, Index=I, Domain=Any, Default=0, Mutable=False\n",
      "        Key : Value\n",
      "          0 :     4\n",
      "          1 :     6\n",
      "          2 :     6\n",
      "          3 :     6\n",
      "    DiffPressureLasttime : Size=4, Index=I, Domain=Any, Default=None, Mutable=False\n",
      "        Key : Value\n",
      "          0 :  3.044047926829268\n",
      "          1 : 3.5396261195121954\n",
      "          2 : 3.5660091439024404\n",
      "          3 :  4.103557201634146\n",
      "    ElecPrice : Size=4, Index=I, Domain=Any, Default=None, Mutable=False\n",
      "        Key : Value\n",
      "          0 : 0.751\n",
      "          1 :  0.61\n",
      "          2 : 0.625\n",
      "          3 : 0.622\n",
      "    LastInPressure : Size=4, Index=I, Domain=Any, Default=None, Mutable=False\n",
      "        Key : Value\n",
      "          0 :               0.63\n",
      "          1 : 2.0620305195121955\n",
      "          2 :  1.631896356097561\n",
      "          3 : 1.1637927121951217\n",
      "    MaxPressureInbound : Size=4, Index=I, Domain=Any, Default=5.0, Mutable=False\n",
      "        Key : Value\n",
      "          0 :   6.4\n",
      "          1 :   6.4\n",
      "          2 :   6.4\n",
      "          3 :   6.4\n",
      "    MaxPressureOutbound : Size=4, Index=I, Domain=Any, Default=None, Mutable=False\n",
      "        Key : Value\n",
      "          0 :   8.5\n",
      "          1 :   8.5\n",
      "          2 :   8.5\n",
      "          3 :   8.5\n",
      "    MinPressureInbound : Size=4, Index=I, Domain=Any, Default=None, Mutable=False\n",
      "        Key : Value\n",
      "          0 :   0.4\n",
      "          1 :   0.5\n",
      "          2 :   0.5\n",
      "          3 :   0.5\n",
      "    Regularzations : Size=4, Index=I, Domain=Any, Default=None, Mutable=False\n",
      "        Key : Value\n",
      "          0 :  -0.03372539195134929\n",
      "          1 : -0.003104403256206995\n",
      "          2 :  0.005781157250400412\n",
      "          3 :   0.02078756469988256\n",
      "    StartedBumps : Size=4, Index=I, Domain=Any, Default=0, Mutable=False\n",
      "        Key : Value\n",
      "          0 :     3\n",
      "          1 :     2\n",
      "          2 :     2\n",
      "          3 :     2\n",
      "\n",
      "3 Var Declarations\n",
      "    freq : Size=4, Index=I\n",
      "        Key : Lower : Value : Upper : Fixed : Stale : Domain\n",
      "          0 :   0.0 :   0.0 :   0.4 : False : False : NonNegativeReals\n",
      "          1 :   0.0 :   0.0 :   0.4 : False : False : NonNegativeReals\n",
      "          2 :   0.0 :   0.0 :   0.4 : False : False : NonNegativeReals\n",
      "          3 :   0.0 :   0.0 :   0.4 : False : False : NonNegativeReals\n",
      "    x : Size=4, Index=I\n",
      "        Key : Lower : Value : Upper : Fixed : Stale : Domain\n",
      "          0 :     0 :     1 :  None : False : False : NonNegativeIntegers\n",
      "          1 :     0 :     1 :  None : False : False : NonNegativeIntegers\n",
      "          2 :     0 :     0 :  None : False : False : NonNegativeIntegers\n",
      "          3 :     0 :     0 :  None : False : False : NonNegativeIntegers\n",
      "    y : Size=4, Index=I\n",
      "        Key : Lower : Value : Upper : Fixed : Stale : Domain\n",
      "          0 :     0 :     0 :     1 : False : False : Binary\n",
      "          1 :     0 :     0 :     1 : False : False : Binary\n",
      "          2 :     0 :     0 :     1 : False : False : Binary\n",
      "          3 :     0 :     0 :     1 : False : False : Binary\n",
      "\n",
      "1 Objective Declarations\n",
      "    obj : Size=1, Index=None, Active=True\n",
      "        Key  : Active : Sense    : Expression\n",
      "        None :   True : minimize : ((freq[0] + 0.6)**3*395.6312 + (freq[0] + 0.6)**2*0.7192*4914.4336 + (freq[0] + 0.6)*-5.2654*1e-05*24151657.608808964)*1.05*0.751*y[0] + ((freq[1] + 0.6)**3*395.6312 + (freq[1] + 0.6)**2*0.7192*4914.4336 + (freq[1] + 0.6)*-5.2654*1e-05*24151657.608808964)*1.05*0.61*y[1] + ((freq[2] + 0.6)**3*395.6312 + (freq[2] + 0.6)**2*0.7192*4914.4336 + (freq[2] + 0.6)*-5.2654*1e-05*24151657.608808964)*1.05*0.625*y[2] + ((freq[3] + 0.6)**3*395.6312 + (freq[3] + 0.6)**2*0.7192*4914.4336 + (freq[3] + 0.6)*-5.2654*1e-05*24151657.608808964)*1.05*0.622*y[3] + (1996.4662595047148*x[0] + 1621.630383885321*x[1] + 1661.5065408661076*x[2] + 1653.5313094699502*x[3]) + ((x[0] + y[0] - 3)**2 + (x[1] + y[1] - 2)**2 + (x[2] + y[2] - 2)**2 + (x[3] + y[3] - 2)**2)*100 + ((x[0] + y[0])**2 + (x[1] + y[1])**2 + (x[2] + y[2])**2 + (x[3] + y[3])**2)*50\n",
      "\n",
      "18 Constraint Declarations\n",
      "    bump_cons2 : Size=4, Index=I, Active=True\n",
      "        Key : Lower : Body        : Upper : Active\n",
      "          0 :  -Inf : x[0] + y[0] :   4.0 :   True\n",
      "          1 :  -Inf : x[1] + y[1] :   6.0 :   True\n",
      "          2 :  -Inf : x[2] + y[2] :   6.0 :   True\n",
      "          3 :  -Inf : x[3] + y[3] :   6.0 :   True\n",
      "    bump_cons3 : Size=4, Index=I, Active=True\n",
      "        Key : Lower : Body           : Upper : Active\n",
      "          0 :  -Inf : freq[0] - y[0] :   0.0 :   True\n",
      "          1 :  -Inf : freq[1] - y[1] :   0.0 :   True\n",
      "          2 :  -Inf : freq[2] - y[2] :   0.0 :   True\n",
      "          3 :  -Inf : freq[3] - y[3] :   0.0 :   True\n",
      "    inbound_cons1 : Size=1, Index=None, Active=True\n",
      "        Key  : Lower : Body                                                                                                                                                                           : Upper : Active\n",
      "        None :   0.4 : 1.5750859399999997*x[0] + ((freq[0] + 0.6)**2*1.6359 + (freq[0] + 0.6)*1.0057*0.0001*4914.4336 - 0.5000842224479985)*0.9662746080486507*y[0] + 0.46350002 - 3.0427194922555456 :  +Inf :   True\n",
      "    inbound_cons2 : Size=1, Index=None, Active=True\n",
      "        Key  : Lower : Body                                                                                                                                                                                                                                                                                                                                             : Upper : Active\n",
      "        None :   0.5 : 1.5750859399999997*x[0] + ((freq[0] + 0.6)**2*1.6359 + (freq[0] + 0.6)*1.0057*0.0001*4914.4336 - 0.5000842224479985)*0.9662746080486507*y[0] + 0.46350002 - 3.0427194922555456 + 1.6250000000000004*x[1] + ((freq[1] + 0.6)**2*1.6359 + (freq[1] + 0.6)*1.0057*0.0001*4914.4336 - 0.5000842224479985)*0.996895596743793*y[1] - 3.539543589901495 :  +Inf :   True\n",
      "    inbound_cons3 : Size=1, Index=None, Active=True\n",
      "        Key  : Lower : Body                                                                                                                                                                                                                                                                                                                                                                                                                                                                                                                 : Upper : Active\n",
      "        None :   0.5 : 1.5750859399999997*x[0] + ((freq[0] + 0.6)**2*1.6359 + (freq[0] + 0.6)*1.0057*0.0001*4914.4336 - 0.5000842224479985)*0.9662746080486507*y[0] + 0.46350002 - 3.0427194922555456 + 1.6250000000000004*x[1] + ((freq[1] + 0.6)**2*1.6359 + (freq[1] + 0.6)*1.0057*0.0001*4914.4336 - 0.5000842224479985)*0.996895596743793*y[1] - 3.539543589901495 + 1.6394840000000006*x[2] + ((freq[2] + 0.6)**2*1.6359 + (freq[2] + 0.6)*1.0057*0.0001*4914.4336 - 0.5000842224479985)*1.0057811572504005*y[2] - 3.5702239701902396 :  +Inf :   True\n",
      "    inbound_cons4 : Size=1, Index=None, Active=True\n",
      "        Key  : Lower : Body                                                                                                                                                                                                                                                                                                                                                                                                                                                                                                                                                                                                                                                                            : Upper : Active\n",
      "        None :   0.5 : 1.5750859399999997*x[0] + ((freq[0] + 0.6)**2*1.6359 + (freq[0] + 0.6)*1.0057*0.0001*4914.4336 - 0.5000842224479985)*0.9662746080486507*y[0] + 0.46350002 - 3.0427194922555456 + 1.6250000000000004*x[1] + ((freq[1] + 0.6)**2*1.6359 + (freq[1] + 0.6)*1.0057*0.0001*4914.4336 - 0.5000842224479985)*0.996895596743793*y[1] - 3.539543589901495 + 1.6394840000000006*x[2] + ((freq[2] + 0.6)**2*1.6359 + (freq[2] + 0.6)*1.0057*0.0001*4914.4336 - 0.5000842224479985)*1.0057811572504005*y[2] - 3.5702239701902396 + 1.66394535*x[3] + ((freq[3] + 0.6)**2*1.6359 + (freq[3] + 0.6)*1.0057*0.0001*4914.4336 - 0.5000842224479985)*1.0207875646998825*y[3] - 4.116530937868166 :  +Inf :   True\n",
      "    inbound_cons5 : Size=1, Index=None, Active=True\n",
      "        Key  : Lower : Body                                                                                                                                                                           : Upper : Active\n",
      "        None :  -Inf : 1.5750859399999997*x[0] + ((freq[0] + 0.6)**2*1.6359 + (freq[0] + 0.6)*1.0057*0.0001*4914.4336 - 0.5000842224479985)*0.9662746080486507*y[0] + 0.46350002 - 3.0427194922555456 :   6.4 :   True\n",
      "    inbound_cons6 : Size=1, Index=None, Active=True\n",
      "        Key  : Lower : Body                                                                                                                                                                                                                                                                                                                                             : Upper : Active\n",
      "        None :  -Inf : 1.5750859399999997*x[0] + ((freq[0] + 0.6)**2*1.6359 + (freq[0] + 0.6)*1.0057*0.0001*4914.4336 - 0.5000842224479985)*0.9662746080486507*y[0] + 0.46350002 - 3.0427194922555456 + 1.6250000000000004*x[1] + ((freq[1] + 0.6)**2*1.6359 + (freq[1] + 0.6)*1.0057*0.0001*4914.4336 - 0.5000842224479985)*0.996895596743793*y[1] - 3.539543589901495 :   6.4 :   True\n",
      "    inbound_cons7 : Size=1, Index=None, Active=True\n",
      "        Key  : Lower : Body                                                                                                                                                                                                                                                                                                                                                                                                                                                                                                                 : Upper : Active\n",
      "        None :  -Inf : 1.5750859399999997*x[0] + ((freq[0] + 0.6)**2*1.6359 + (freq[0] + 0.6)*1.0057*0.0001*4914.4336 - 0.5000842224479985)*0.9662746080486507*y[0] + 0.46350002 - 3.0427194922555456 + 1.6250000000000004*x[1] + ((freq[1] + 0.6)**2*1.6359 + (freq[1] + 0.6)*1.0057*0.0001*4914.4336 - 0.5000842224479985)*0.996895596743793*y[1] - 3.539543589901495 + 1.6394840000000006*x[2] + ((freq[2] + 0.6)**2*1.6359 + (freq[2] + 0.6)*1.0057*0.0001*4914.4336 - 0.5000842224479985)*1.0057811572504005*y[2] - 3.5702239701902396 :   6.4 :   True\n",
      "    inbound_cons8 : Size=1, Index=None, Active=True\n",
      "        Key  : Lower : Body                                                                                                                                                                                                                                                                                                                                                                                                                                                                                                                                                                                                                                                                            : Upper : Active\n",
      "        None :  -Inf : 1.5750859399999997*x[0] + ((freq[0] + 0.6)**2*1.6359 + (freq[0] + 0.6)*1.0057*0.0001*4914.4336 - 0.5000842224479985)*0.9662746080486507*y[0] + 0.46350002 - 3.0427194922555456 + 1.6250000000000004*x[1] + ((freq[1] + 0.6)**2*1.6359 + (freq[1] + 0.6)*1.0057*0.0001*4914.4336 - 0.5000842224479985)*0.996895596743793*y[1] - 3.539543589901495 + 1.6394840000000006*x[2] + ((freq[2] + 0.6)**2*1.6359 + (freq[2] + 0.6)*1.0057*0.0001*4914.4336 - 0.5000842224479985)*1.0057811572504005*y[2] - 3.5702239701902396 + 1.66394535*x[3] + ((freq[3] + 0.6)**2*1.6359 + (freq[3] + 0.6)*1.0057*0.0001*4914.4336 - 0.5000842224479985)*1.0207875646998825*y[3] - 4.116530937868166 :   6.4 :   True\n",
      "    outbound_cons1 : Size=1, Index=None, Active=True\n",
      "        Key  : Lower : Body                                                                                                                                                      : Upper : Active\n",
      "        None :  -Inf : 1.5750859399999997*x[0] + ((freq[0] + 0.6)**2*1.6359 + (freq[0] + 0.6)*1.0057*0.0001*4914.4336 - 0.5000842224479985)*0.9662746080486507*y[0] + 0.46350002 :   8.5 :   True\n",
      "    outbound_cons2 : Size=1, Index=None, Active=True\n",
      "        Key  : Lower : Body                                                                                                                                                                                                                                                                                                                         : Upper : Active\n",
      "        None :  -Inf : 1.5750859399999997*x[0] + ((freq[0] + 0.6)**2*1.6359 + (freq[0] + 0.6)*1.0057*0.0001*4914.4336 - 0.5000842224479985)*0.9662746080486507*y[0] + 0.46350002 - 3.0427194922555456 + 1.6250000000000004*x[1] + ((freq[1] + 0.6)**2*1.6359 + (freq[1] + 0.6)*1.0057*0.0001*4914.4336 - 0.5000842224479985)*0.996895596743793*y[1] :   8.5 :   True\n",
      "    outbound_cons3 : Size=1, Index=None, Active=True\n",
      "        Key  : Lower : Body                                                                                                                                                                                                                                                                                                                                                                                                                                                                                            : Upper : Active\n",
      "        None :  -Inf : 1.5750859399999997*x[0] + ((freq[0] + 0.6)**2*1.6359 + (freq[0] + 0.6)*1.0057*0.0001*4914.4336 - 0.5000842224479985)*0.9662746080486507*y[0] + 0.46350002 - 3.0427194922555456 + 1.6250000000000004*x[1] + ((freq[1] + 0.6)**2*1.6359 + (freq[1] + 0.6)*1.0057*0.0001*4914.4336 - 0.5000842224479985)*0.996895596743793*y[1] - 3.539543589901495 + 1.6394840000000006*x[2] + ((freq[2] + 0.6)**2*1.6359 + (freq[2] + 0.6)*1.0057*0.0001*4914.4336 - 0.5000842224479985)*1.0057811572504005*y[2] :   8.5 :   True\n",
      "    outbound_cons4 : Size=1, Index=None, Active=True\n",
      "        Key  : Lower : Body                                                                                                                                                                                                                                                                                                                                                                                                                                                                                                                                                                                                                                                        : Upper : Active\n",
      "        None :  -Inf : 1.5750859399999997*x[0] + ((freq[0] + 0.6)**2*1.6359 + (freq[0] + 0.6)*1.0057*0.0001*4914.4336 - 0.5000842224479985)*0.9662746080486507*y[0] + 0.46350002 - 3.0427194922555456 + 1.6250000000000004*x[1] + ((freq[1] + 0.6)**2*1.6359 + (freq[1] + 0.6)*1.0057*0.0001*4914.4336 - 0.5000842224479985)*0.996895596743793*y[1] - 3.539543589901495 + 1.6394840000000006*x[2] + ((freq[2] + 0.6)**2*1.6359 + (freq[2] + 0.6)*1.0057*0.0001*4914.4336 - 0.5000842224479985)*1.0057811572504005*y[2] - 3.5702239701902396 + 1.66394535*x[3] + ((freq[3] + 0.6)**2*1.6359 + (freq[3] + 0.6)*1.0057*0.0001*4914.4336 - 0.5000842224479985)*1.0207875646998825*y[3] :   8.5 :   True\n",
      "    outbound_cons5 : Size=1, Index=None, Active=True\n",
      "        Key  : Lower : Body                                                                                                                                                      : Upper : Active\n",
      "        None :   0.0 : 1.5750859399999997*x[0] + ((freq[0] + 0.6)**2*1.6359 + (freq[0] + 0.6)*1.0057*0.0001*4914.4336 - 0.5000842224479985)*0.9662746080486507*y[0] + 0.46350002 :  +Inf :   True\n",
      "    outbound_cons6 : Size=1, Index=None, Active=True\n",
      "        Key  : Lower : Body                                                                                                                                                                                                                                                                                                                         : Upper : Active\n",
      "        None :   0.0 : 1.5750859399999997*x[0] + ((freq[0] + 0.6)**2*1.6359 + (freq[0] + 0.6)*1.0057*0.0001*4914.4336 - 0.5000842224479985)*0.9662746080486507*y[0] + 0.46350002 - 3.0427194922555456 + 1.6250000000000004*x[1] + ((freq[1] + 0.6)**2*1.6359 + (freq[1] + 0.6)*1.0057*0.0001*4914.4336 - 0.5000842224479985)*0.996895596743793*y[1] :  +Inf :   True\n",
      "    outbound_cons7 : Size=1, Index=None, Active=True\n",
      "        Key  : Lower : Body                                                                                                                                                                                                                                                                                                                                                                                                                                                                                            : Upper : Active\n",
      "        None :   0.0 : 1.5750859399999997*x[0] + ((freq[0] + 0.6)**2*1.6359 + (freq[0] + 0.6)*1.0057*0.0001*4914.4336 - 0.5000842224479985)*0.9662746080486507*y[0] + 0.46350002 - 3.0427194922555456 + 1.6250000000000004*x[1] + ((freq[1] + 0.6)**2*1.6359 + (freq[1] + 0.6)*1.0057*0.0001*4914.4336 - 0.5000842224479985)*0.996895596743793*y[1] - 3.539543589901495 + 1.6394840000000006*x[2] + ((freq[2] + 0.6)**2*1.6359 + (freq[2] + 0.6)*1.0057*0.0001*4914.4336 - 0.5000842224479985)*1.0057811572504005*y[2] :  +Inf :   True\n",
      "    outbound_cons8 : Size=1, Index=None, Active=True\n",
      "        Key  : Lower : Body                                                                                                                                                                                                                                                                                                                                                                                                                                                                                                                                                                                                                                                        : Upper : Active\n",
      "        None :   0.0 : 1.5750859399999997*x[0] + ((freq[0] + 0.6)**2*1.6359 + (freq[0] + 0.6)*1.0057*0.0001*4914.4336 - 0.5000842224479985)*0.9662746080486507*y[0] + 0.46350002 - 3.0427194922555456 + 1.6250000000000004*x[1] + ((freq[1] + 0.6)**2*1.6359 + (freq[1] + 0.6)*1.0057*0.0001*4914.4336 - 0.5000842224479985)*0.996895596743793*y[1] - 3.539543589901495 + 1.6394840000000006*x[2] + ((freq[2] + 0.6)**2*1.6359 + (freq[2] + 0.6)*1.0057*0.0001*4914.4336 - 0.5000842224479985)*1.0057811572504005*y[2] - 3.5702239701902396 + 1.66394535*x[3] + ((freq[3] + 0.6)**2*1.6359 + (freq[3] + 0.6)*1.0057*0.0001*4914.4336 - 0.5000842224479985)*1.0207875646998825*y[3] :  +Inf :   True\n",
      "\n",
      "32 Declarations: I ElecPrice Bumps MinPressureInbound MaxPressureInbound MaxPressureOutbound StartedBumps DiffPressureLasttime LastInPressure Regularzations x y freq obj bump_cons2 bump_cons3 outbound_cons1 outbound_cons2 outbound_cons3 outbound_cons4 outbound_cons5 outbound_cons6 outbound_cons7 outbound_cons8 inbound_cons1 inbound_cons2 inbound_cons3 inbound_cons4 inbound_cons5 inbound_cons6 inbound_cons7 inbound_cons8\n"
     ]
    }
   ],
   "source": [
    "model.pprint()\n",
    "# model_file = model.write('model.lp')  # 输出模型文件"
   ]
  },
  {
   "cell_type": "code",
   "execution_count": 15,
   "metadata": {},
   "outputs": [
    {
     "name": "stdout",
     "output_type": "stream",
     "text": [
      "SCIP version 8.0.3 [precision: 8 byte] [memory: block] [mode: optimized] [LP solver: Soplex 6.0.3] [GitHash: 62fab8a2e3]\n",
      "Copyright (C) 2002-2022 Konrad-Zuse-Zentrum fuer Informationstechnik Berlin (ZIB)\n",
      "\n",
      "External libraries: \n",
      "  Soplex 6.0.3         Linear Programming Solver developed at Zuse Institute Berlin (soplex.zib.de) [GitHash: f900e3d0]\n",
      "  CppAD 20180000.0     Algorithmic Differentiation of C++ algorithms developed by B. Bell (github.com/coin-or/CppAD)\n",
      "  MPIR 3.0.0           Multiple Precision Integers and Rationals Library developed by W. Hart (mpir.org)\n",
      "  ZIMPL 3.5.3          Zuse Institute Mathematical Programming Language developed by T. Koch (zimpl.zib.de)\n",
      "  AMPL/MP 4e2d45c4     AMPL .nl file reader library (github.com/ampl/mp)\n",
      "  PaPILO 2.1.2         parallel presolve for integer and linear optimization (github.com/scipopt/papilo) [GitHash: 2fe2543]\n",
      "  bliss 0.77           Computing Graph Automorphism Groups by T. Junttila and P. Kaski (www.tcs.hut.fi/Software/bliss/)\n",
      "  Ipopt 3.12.9         Interior Point Optimizer developed by A. Waechter et.al. (github.com/coin-or/Ipopt)\n",
      "\n",
      "user parameter file <scip.set> not found - using default parameters\n",
      "read problem <C:\\Users\\Administrator\\AppData\\Local\\Temp\\tmpqwp2c3q0.pyomo.nl>\n",
      "============\n",
      "\n",
      "original problem has 13 variables (0 bin, 8 int, 0 impl, 5 cont) and 25 constraints\n",
      "\n",
      "solve problem\n",
      "=============\n",
      "\n",
      "  [nonlinear] <objcons>: (0.78855*((-1271.68)*<x0>+395.631*((<x0>+0.6))^3+3534.46*((<x0>+0.6))^2+(-763.009)))*<i4>+(0.6405*((-1271.68)*<x1>+395.631*((<x1>+0.6))^3+3534.46*((<x1>+0.6))^2+(-763.009)))*<i5>+(0.65625*((-1271.68)*<x2>+395.631*((<x2>+0.6))^3+3534.46*((<x2>+0.6))^2+(-763.009)))*<i6>+(0.6531*((-1271.68)*<x3>+395.631*((<x3>+0.6))^3+3534.46*((<x3>+0.6))^2+(-763.009)))*<i7>+100*(((<i8>+<i4>+(-3)))^2+((<i9>+<i5>+(-2)))^2+((<i10>+<i6>+(-2)))^2+((<i11>+<i7>+(-2)))^2)+50*(((<i8>+<i4>))^2+((<i9>+<i5>))^2+((<i10>+<i6>))^2+((<i11>+<i7>))^2)-<nlobjvar> <= 0;\n",
      "violation: right hand side is violated by 1400\n",
      "all 1 solutions given by solution candidate storage are infeasible\n",
      "\n",
      "presolving:\n",
      "(round 1, fast)       0 del vars, 3 del conss, 0 add conss, 7 chg bounds, 0 chg sides, 4 chg coeffs, 0 upgd conss, 0 impls, 0 clqs\n",
      "(round 2, fast)       0 del vars, 4 del conss, 0 add conss, 7 chg bounds, 0 chg sides, 4 chg coeffs, 0 upgd conss, 0 impls, 0 clqs\n",
      "(round 3, exhaustive) 0 del vars, 4 del conss, 0 add conss, 7 chg bounds, 0 chg sides, 4 chg coeffs, 7 upgd conss, 0 impls, 0 clqs\n",
      "   (0.0s) probing cycle finished: starting next cycle\n",
      "   (0.0s) symmetry computation started: requiring (bin +, int -, cont -), (fixed: bin -, int +, cont +)\n",
      "   (0.0s) no symmetry present\n",
      "   (0.0s) symmetry computation started: requiring (bin +, int +, cont +), (fixed: bin -, int -, cont -)\n",
      "   (0.0s) no symmetry present\n",
      "presolving (4 rounds: 4 fast, 2 medium, 2 exhaustive):\n",
      " 0 deleted vars, 4 deleted constraints, 0 added constraints, 7 tightened bounds, 0 added holes, 0 changed sides, 4 changed coefficients\n",
      " 13 implications, 0 cliques\n",
      "presolved problem has 13 variables (4 bin, 4 int, 0 impl, 5 cont) and 12 constraints\n",
      "      7 constraints of type <varbound>\n",
      "      5 constraints of type <nonlinear>\n",
      "Presolving Time: 0.00\n",
      "\n",
      " time | node  | left  |LP iter|LP it/n|mem/heur|mdpt |vars |cons |rows |cuts |sepa|confs|strbr|  dualbound   | primalbound  |  gap   | compl. \n",
      "t 0.0s|     1 |     0 |    12 |     - |  trysol|   0 |  46 |  12 |  73 |   0 |  0 |   0 |   0 | 2.696466e+03 | 1.800336e+04 | 567.67%| unknown\n",
      "  0.0s|     1 |     0 |    60 |     - |  1696k |   0 |  46 |  12 |  73 |   0 |  0 |   0 |   0 | 1.382534e+04 | 1.800336e+04 |  30.22%| unknown\n",
      "L 0.0s|     1 |     0 |    60 |     - |undercov|   0 |  46 |  12 |  73 |   0 |  0 |   0 |   0 | 1.382534e+04 | 1.725939e+04 |  24.84%| unknown\n",
      "L 0.0s|     1 |     0 |    60 |     - |undercov|   0 |  46 |  12 |  73 |   0 |  0 |   0 |   0 | 1.382534e+04 | 1.684888e+04 |  21.87%| unknown\n",
      "  0.0s|     1 |     0 |    88 |     - |  1755k |   0 |  46 |  12 |  84 |  11 |  1 |   0 |   0 | 1.501285e+04 | 1.684888e+04 |  12.23%| unknown\n",
      "  0.0s|     1 |     0 |    88 |     - |  1757k |   0 |  46 |  12 |  84 |  11 |  1 |   0 |   0 | 1.501285e+04 | 1.684888e+04 |  12.23%| unknown\n",
      "  0.0s|     1 |     0 |   101 |     - |  1787k |   0 |  46 |  12 |  92 |  19 |  2 |   0 |   0 | 1.515568e+04 | 1.684888e+04 |  11.17%| unknown\n",
      "  0.0s|     1 |     0 |   101 |     - |  1788k |   0 |  46 |  12 |  92 |  19 |  2 |   0 |   0 | 1.515568e+04 | 1.684888e+04 |  11.17%| unknown\n",
      "  0.0s|     1 |     0 |   125 |     - |  1873k |   0 |  46 |  12 | 100 |  27 |  3 |   0 |   0 | 1.557834e+04 | 1.684888e+04 |   8.16%| unknown\n",
      "  0.0s|     1 |     0 |   125 |     - |  1874k |   0 |  46 |  12 | 100 |  27 |  3 |   0 |   0 | 1.557834e+04 | 1.684888e+04 |   8.16%| unknown\n",
      "  0.0s|     1 |     0 |   136 |     - |  1884k |   0 |  46 |  12 | 103 |  30 |  4 |   0 |   0 | 1.605453e+04 | 1.684888e+04 |   4.95%| unknown\n",
      "  0.0s|     1 |     0 |   143 |     - |  1900k |   0 |  46 |  12 | 106 |  33 |  5 |   0 |   0 | 1.614852e+04 | 1.684888e+04 |   4.34%| unknown\n",
      "  0.0s|     1 |     0 |   156 |     - |  1933k |   0 |  46 |  12 | 109 |  36 |  6 |   0 |   0 | 1.626008e+04 | 1.684888e+04 |   3.62%| unknown\n",
      "  0.0s|     1 |     0 |   163 |     - |  1969k |   0 |  46 |  12 | 113 |  40 |  7 |   0 |   0 | 1.632652e+04 | 1.684888e+04 |   3.20%| unknown\n",
      "  0.0s|     1 |     0 |   168 |     - |  1990k |   0 |  46 |  12 | 115 |  42 |  8 |   0 |   0 | 1.633074e+04 | 1.684888e+04 |   3.17%| unknown\n",
      " time | node  | left  |LP iter|LP it/n|mem/heur|mdpt |vars |cons |rows |cuts |sepa|confs|strbr|  dualbound   | primalbound  |  gap   | compl. \n",
      "  0.0s|     1 |     0 |   173 |     - |  2048k |   0 |  46 |  12 | 117 |  44 |  9 |   0 |   0 | 1.635173e+04 | 1.684888e+04 |   3.04%| unknown\n",
      "  0.0s|     1 |     0 |   384 |     - |  2203k |   0 |  46 |   9 | 117 |  44 | 11 |   0 |   0 | 1.635173e+04 | 1.684888e+04 |   3.04%| unknown\n",
      "  0.0s|     1 |     0 |   387 |     - |  2203k |   0 |  46 |   9 | 120 |  47 | 12 |   0 |   0 | 1.635644e+04 | 1.684888e+04 |   3.01%| unknown\n",
      "  0.0s|     1 |     0 |   390 |     - |  2224k |   0 |  46 |   9 | 123 |  50 | 13 |   0 |   0 | 1.638064e+04 | 1.684888e+04 |   2.86%| unknown\n",
      "  0.0s|     1 |     0 |   392 |     - |  2259k |   0 |  46 |   9 | 126 |  53 | 14 |   0 |   0 | 1.638101e+04 | 1.684888e+04 |   2.86%| unknown\n",
      "  0.0s|     1 |     0 |   393 |     - |  2273k |   0 |  46 |   9 | 127 |  54 | 15 |   0 |   0 | 1.638145e+04 | 1.684888e+04 |   2.85%| unknown\n",
      "  0.0s|     1 |     0 |   395 |     - |  2287k |   0 |  46 |   9 |  72 |  57 | 16 |   0 |   0 | 1.638280e+04 | 1.684888e+04 |   2.84%| unknown\n",
      "  0.0s|     1 |     0 |   397 |     - |  2294k |   0 |  46 |   9 |  75 |  60 | 17 |   0 |   0 | 1.638346e+04 | 1.684888e+04 |   2.84%| unknown\n",
      "  0.0s|     1 |     0 |   399 |     - |  2303k |   0 |  46 |   9 |  76 |  61 | 18 |   0 |   0 | 1.638401e+04 | 1.684888e+04 |   2.84%| unknown\n",
      "  0.0s|     1 |     0 |   402 |     - |  2311k |   0 |  46 |   9 |  78 |  63 | 19 |   0 |   0 | 1.638459e+04 | 1.684888e+04 |   2.83%| unknown\n",
      "  0.0s|     1 |     0 |   405 |     - |  2320k |   0 |  46 |   9 |  80 |  65 | 20 |   0 |   0 | 1.638642e+04 | 1.684888e+04 |   2.82%| unknown\n",
      "  0.0s|     1 |     0 |   406 |     - |  2329k |   0 |  46 |   9 |  81 |  66 | 21 |   0 |   0 | 1.638687e+04 | 1.684888e+04 |   2.82%| unknown\n",
      "  0.0s|     1 |     0 |   407 |     - |  2330k |   0 |  46 |   9 |  64 |  67 | 22 |   0 |   0 | 1.638691e+04 | 1.684888e+04 |   2.82%| unknown\n",
      "  0.0s|     1 |     0 |   414 |     - |  2330k |   0 |  46 |   9 |  66 |  69 | 23 |   0 |   0 | 1.639161e+04 | 1.684888e+04 |   2.79%| unknown\n",
      "  0.0s|     1 |     0 |   418 |     - |  2357k |   0 |  46 |   9 |  68 |  71 | 24 |   0 |   0 | 1.639401e+04 | 1.684888e+04 |   2.77%| unknown\n",
      " time | node  | left  |LP iter|LP it/n|mem/heur|mdpt |vars |cons |rows |cuts |sepa|confs|strbr|  dualbound   | primalbound  |  gap   | compl. \n",
      "  0.0s|     1 |     0 |   420 |     - |  2357k |   0 |  46 |   9 |  70 |  73 | 25 |   0 |   0 | 1.639583e+04 | 1.684888e+04 |   2.76%| unknown\n",
      "  0.0s|     1 |     0 |   421 |     - |  2374k |   0 |  46 |   9 |  71 |  74 | 26 |   0 |   0 | 1.639588e+04 | 1.684888e+04 |   2.76%| unknown\n",
      "  0.0s|     1 |     0 |   423 |     - |  2404k |   0 |  46 |   9 |  74 |  77 | 27 |   0 |   0 | 1.639784e+04 | 1.684888e+04 |   2.75%| unknown\n",
      "  0.0s|     1 |     0 |   425 |     - |  2406k |   0 |  46 |   9 |  65 |  79 | 28 |   0 |   0 | 1.639863e+04 | 1.684888e+04 |   2.75%| unknown\n",
      "  0.0s|     1 |     0 |   426 |     - |  2418k |   0 |  46 |   9 |  66 |  80 | 29 |   0 |   0 | 1.639917e+04 | 1.684888e+04 |   2.74%| unknown\n",
      "  0.0s|     1 |     0 |   427 |     - |  2418k |   0 |  46 |   9 |  67 |  81 | 30 |   0 |   0 | 1.640005e+04 | 1.684888e+04 |   2.74%| unknown\n",
      "  0.0s|     1 |     0 |   428 |     - |  2419k |   0 |  46 |   9 |  68 |  82 | 31 |   0 |   0 | 1.640138e+04 | 1.684888e+04 |   2.73%| unknown\n",
      "  0.0s|     1 |     0 |   431 |     - |  2419k |   0 |  46 |   9 |  70 |  84 | 32 |   0 |   0 | 1.640167e+04 | 1.684888e+04 |   2.73%| unknown\n",
      "  0.0s|     1 |     0 |   434 |     - |  2419k |   0 |  46 |   9 |  71 |  85 | 33 |   0 |   0 | 1.640189e+04 | 1.684888e+04 |   2.73%| unknown\n",
      "  0.0s|     1 |     0 |   437 |     - |  2419k |   0 |  46 |   9 |  60 |  86 | 34 |   0 |   0 | 1.640467e+04 | 1.684888e+04 |   2.71%| unknown\n",
      "  0.0s|     1 |     0 |   439 |     - |  2419k |   0 |  46 |   9 |  61 |  87 | 35 |   0 |   0 | 1.640488e+04 | 1.684888e+04 |   2.71%| unknown\n",
      "  0.0s|     1 |     0 |   440 |     - |  2420k |   0 |  46 |   9 |  62 |  88 | 36 |   0 |   0 | 1.640502e+04 | 1.684888e+04 |   2.71%| unknown\n",
      "  0.0s|     1 |     0 |   442 |     - |  2421k |   0 |  46 |   9 |  63 |  89 | 37 |   0 |   0 | 1.640590e+04 | 1.684888e+04 |   2.70%| unknown\n",
      "  0.0s|     1 |     0 |   444 |     - |  2425k |   0 |  46 |   9 |  64 |  90 | 38 |   0 |   0 | 1.640663e+04 | 1.684888e+04 |   2.70%| unknown\n",
      "  0.0s|     1 |     0 |   446 |     - |  2428k |   0 |  46 |   9 |  65 |  91 | 39 |   0 |   0 | 1.640694e+04 | 1.684888e+04 |   2.69%| unknown\n",
      " time | node  | left  |LP iter|LP it/n|mem/heur|mdpt |vars |cons |rows |cuts |sepa|confs|strbr|  dualbound   | primalbound  |  gap   | compl. \n",
      "  0.0s|     1 |     0 |   447 |     - |  2430k |   0 |  46 |   9 |  58 |  92 | 40 |   0 |   0 | 1.640694e+04 | 1.684888e+04 |   2.69%| unknown\n",
      "  0.0s|     1 |     0 |   450 |     - |  2434k |   0 |  46 |   9 |  60 |  94 | 41 |   0 |   0 | 1.640712e+04 | 1.684888e+04 |   2.69%| unknown\n",
      "  0.0s|     1 |     0 |   452 |     - |  2435k |   0 |  46 |   9 |  61 |  95 | 42 |   0 |   0 | 1.640719e+04 | 1.684888e+04 |   2.69%| unknown\n",
      "  0.0s|     1 |     0 |   455 |     - |  2443k |   0 |  46 |   9 |  62 |  96 | 43 |   0 |   0 | 1.640728e+04 | 1.684888e+04 |   2.69%| unknown\n",
      "  0.0s|     1 |     0 |   456 |     - |  2443k |   0 |  46 |   9 |  63 |  97 | 44 |   0 |   0 | 1.640728e+04 | 1.684888e+04 |   2.69%| unknown\n",
      "r 0.0s|     1 |     0 |   484 |     - |shifting|   0 |  46 |   9 |  63 |  97 | 44 |   0 |   0 | 1.640728e+04 | 1.647967e+04 |   0.44%| unknown\n",
      "  0.0s|     1 |     0 |   484 |     - |  2473k |   0 |  46 |   9 |  63 |  97 | 44 |   0 |   0 | 1.640728e+04 | 1.647967e+04 |   0.44%| unknown\n",
      "  0.0s|     1 |     0 |   486 |     - |  2473k |   0 |  46 |   9 |  56 |  99 | 45 |   0 |   0 | 1.640936e+04 | 1.647967e+04 |   0.43%| unknown\n",
      "  0.0s|     1 |     0 |   488 |     - |  2473k |   0 |  46 |   9 |  57 | 100 | 46 |   0 |   0 | 1.640938e+04 | 1.647967e+04 |   0.43%| unknown\n",
      "  0.0s|     1 |     0 |   488 |     - |  2474k |   0 |  46 |   9 |  57 | 100 | 46 |   0 |   8 | 1.642141e+04 | 1.647967e+04 |   0.35%| unknown\n",
      "  0.0s|     1 |     0 |   490 |     - |  2474k |   0 |  46 |   9 |  58 | 101 | 47 |   0 |   8 | 1.642141e+04 | 1.647967e+04 |   0.35%| unknown\n",
      "  0.0s|     1 |     0 |   491 |     - |  2476k |   0 |  46 |   9 |  59 | 102 | 48 |   0 |   8 | 1.642141e+04 | 1.647967e+04 |   0.35%| unknown\n",
      "  0.0s|     1 |     2 |   491 |     - |  2477k |   0 |  46 |   9 |  59 | 102 | 48 |   0 |   8 | 1.642141e+04 | 1.647967e+04 |   0.35%| unknown\n",
      "t 0.0s|     3 |     2 |   508 | 134.0 |  trysol|   2 |  46 |  10 |  52 | 107 |  2 |   1 |  10 | 1.642141e+04 | 1.643461e+04 |   0.08%| unknown\n",
      "* 0.0s|     3 |     2 |   511 | 135.5 |    LP  |   2 |  46 |  10 |  55 | 110 |  7 |   1 |  10 | 1.642141e+04 | 1.643461e+04 |   0.08%| unknown\n",
      "\n",
      "SCIP Status        : problem is solved [optimal solution found]\n",
      "Solving Time (sec) : 0.00\n",
      "Solving Nodes      : 9\n",
      "Primal Bound       : +1.64346101518438e+04 (30 solutions)\n",
      "Dual Bound         : +1.64346101518438e+04\n",
      "Gap                : 0.00 %\n"
     ]
    }
   ],
   "source": [
    "#solver_path = 'C:/Program Files/SCIPOptSuite 8.0.3/bin/scip'\n",
    "opt = SolverFactory('scip', executable= 'C:/Program Files/SCIPOptSuite 8.0.3/bin/scip')  # 指定求解器\n",
    "solution = opt.solve(model, tee=True)  # 调用求解器求解, tee = True 表示打印求解器的输出"
   ]
  },
  {
   "cell_type": "code",
   "execution_count": 16,
   "metadata": {},
   "outputs": [
    {
     "name": "stdout",
     "output_type": "stream",
     "text": [
      "None\n"
     ]
    }
   ],
   "source": [
    "for i in model.obj:\n",
    "    print(i)"
   ]
  },
  {
   "cell_type": "code",
   "execution_count": 17,
   "metadata": {},
   "outputs": [
    {
     "name": "stdout",
     "output_type": "stream",
     "text": [
      "optimal\n",
      "[2. 3. 1. 2.] [0. 0. 1. 0.] [0.   0.   0.31 0.  ]\n"
     ]
    }
   ],
   "source": [
    "# 打印最优解\n",
    "x_opt = np.array([round(model.x[i].value, 0) for i in model.I])                # 工频泵的开启数量\n",
    "y_opt = np.array([round(model.y[j].value, 0) for j in model.I])                # 变频泵是否开启\n",
    "z_opt = np.array(  [round(model.freq[j].value, 3) for j in model.I]     )      # 变频泵的开启频率\n",
    "print(solution.solver.termination_condition)\n",
    "print(x_opt, y_opt, z_opt)\n"
   ]
  },
  {
   "cell_type": "code",
   "execution_count": 18,
   "metadata": {},
   "outputs": [
    {
     "name": "stdout",
     "output_type": "stream",
     "text": [
      "optimal objective: 16434.610151844005\n"
     ]
    }
   ],
   "source": [
    "obj_values = value(model.obj)\n",
    "print(\"optimal objective: {}\".format(obj_values))"
   ]
  },
  {
   "cell_type": "code",
   "execution_count": 19,
   "metadata": {},
   "outputs": [
    {
     "data": {
      "text/plain": [
       "array([2., 3., 1., 2.])"
      ]
     },
     "execution_count": 19,
     "metadata": {},
     "output_type": "execute_result"
    }
   ],
   "source": [
    "x_opt"
   ]
  },
  {
   "cell_type": "code",
   "execution_count": 20,
   "metadata": {},
   "outputs": [
    {
     "data": {
      "text/plain": [
       "array([0., 0., 1., 0.])"
      ]
     },
     "execution_count": 20,
     "metadata": {},
     "output_type": "execute_result"
    }
   ],
   "source": [
    "y_opt"
   ]
  },
  {
   "cell_type": "code",
   "execution_count": 21,
   "metadata": {},
   "outputs": [
    {
     "data": {
      "text/plain": [
       "[(2.0, 0.0, 0.0), (3.0, 0.0, 0.0), (1.0, 1.0, 0.31), (2.0, 0.0, 0.0)]"
      ]
     },
     "execution_count": 21,
     "metadata": {},
     "output_type": "execute_result"
    }
   ],
   "source": [
    "[*zip(x_opt, y_opt, z_opt)]"
   ]
  },
  {
   "cell_type": "code",
   "execution_count": 22,
   "metadata": {},
   "outputs": [
    {
     "data": {
      "text/plain": [
       "[[2.0, 0], [3.0, 0], [1.0, 45.5], [2.0, 0]]"
      ]
     },
     "execution_count": 22,
     "metadata": {},
     "output_type": "execute_result"
    }
   ],
   "source": [
    "bump_status = []\n",
    "for x, y, z in zip(x_opt, y_opt, z_opt):    # 工频数量，变频频率\n",
    "    bump_status.append([x, 30 + z * 50 if y == 1 else 0])\n",
    "bump_status"
   ]
  },
  {
   "cell_type": "code",
   "execution_count": 23,
   "metadata": {},
   "outputs": [
    {
     "data": {
      "text/plain": [
       "[3.6136718999999995,\n",
       " 0.5709524077444539,\n",
       " 5.445952407744455,\n",
       " 1.9064088178429603,\n",
       " 4.858864208058499,\n",
       " 1.2886402378682593,\n",
       " 4.6165309378682595,\n",
       " 0.5000000000000933]"
      ]
     },
     "execution_count": 23,
     "metadata": {},
     "output_type": "execute_result"
    }
   ],
   "source": [
    "#[0站出站值，1站进站值\n",
    "# 1站出站值，2站进站值\n",
    "# 2站出站值，3站进站值\n",
    "# 3站出站值，4站进站值]\n",
    "stations_pressure = [value(predict_station0_outbound_pressure(model)),value(get_station1_inbound_pressure(model)),      # 根据流量 和 压力差算出来的出站\n",
    "                        value(get_station1_outbound_pressure(model)), value(get_station2_inbound_pressure(model)),\n",
    "                        value(get_station2_outbound_pressure(model)), value(get_station3_inbound_pressure(model)),\n",
    "                        value(get_station3_outbound_pressure(model)), value(get_station4_inbound_pressure(model))]\n",
    "stations_pressure"
   ]
  },
  {
   "cell_type": "code",
   "execution_count": 24,
   "metadata": {},
   "outputs": [
    {
     "data": {
      "text/plain": [
       "[[2.0, 0], [3.0, 0], [1.0, 45.5], [2.0, 0]]"
      ]
     },
     "execution_count": 24,
     "metadata": {},
     "output_type": "execute_result"
    }
   ],
   "source": [
    "bump_status  # 工频数量，变频频率"
   ]
  },
  {
   "cell_type": "code",
   "execution_count": 25,
   "metadata": {},
   "outputs": [
    {
     "data": {
      "text/plain": [
       "4914.4336"
      ]
     },
     "execution_count": 25,
     "metadata": {},
     "output_type": "execute_result"
    }
   ],
   "source": [
    "flow"
   ]
  },
  {
   "cell_type": "markdown",
   "metadata": {},
   "source": [
    "bump_choose函数拆开看下"
   ]
  },
  {
   "cell_type": "code",
   "execution_count": 26,
   "metadata": {},
   "outputs": [],
   "source": [
    "# def bump_choose(xres, flow, in_and_out_pressure):\n",
    "xres=bump_status  # 工频数量，变频频率\n",
    "in_and_out_pressure=stations_pressure"
   ]
  },
  {
   "cell_type": "code",
   "execution_count": 27,
   "metadata": {},
   "outputs": [],
   "source": [
    "import pymysql\n",
    "def get_conn():\n",
    "    conn = pymysql.connect(host=mysql_host, user=mysql_user,\n",
    "                           password=mysql_password, db=mysql_db, port=mysql_port,\n",
    "                           charset='utf8mb4', cursorclass=pymysql.cursors.DictCursor, autocommit=True)\n",
    "\n",
    "    return conn\n",
    "# 从数据库读取泵数据\n",
    "def get_bumps_data_mysql():\n",
    "    conn = get_conn()\n",
    "\n",
    "    sql = \"\"\"\n",
    "    select a.station_name,IFNULL(b.tagc_fz08,0) as tagValue \n",
    "    from  fz_tag_station  a  left join  fz_tag_config b \n",
    "    on  a.tag_name =b.tagc_name  \n",
    "    where  a.type =2 order by   a.station_id,a.sort\n",
    "    \"\"\"\n",
    "\n",
    "    result = [[]]\n",
    "\n",
    "    with conn.cursor() as cursor:\n",
    "        cursor.execute(sql)\n",
    "        sql_data = cursor.fetchall()\n",
    "    for elem in sql_data:\n",
    "        result[0].append(float(elem['tagValue']))\n",
    "    conn.close()\n",
    "\n",
    "    return result"
   ]
  },
  {
   "cell_type": "code",
   "execution_count": 28,
   "metadata": {},
   "outputs": [
    {
     "data": {
      "text/plain": [
       "[[0.46350002,\n",
       "  2.01875,\n",
       "  1.9967501,\n",
       "  2.0203125,\n",
       "  2.0046875,\n",
       "  3.5996094,\n",
       "  3.601953,\n",
       "  5.092969,\n",
       "  5.109375,\n",
       "  5.09375,\n",
       "  5.086875,\n",
       "  5.080625,\n",
       "  0.30234373,\n",
       "  48.396095,\n",
       "  2.19575,\n",
       "  3.7697499,\n",
       "  3.77425,\n",
       "  3.770703,\n",
       "  3.7660158,\n",
       "  3.7597656,\n",
       "  3.7414062,\n",
       "  3.7515626,\n",
       "  3.7160156,\n",
       "  3.73625,\n",
       "  3.714375,\n",
       "  5.339375,\n",
       "  0.13125,\n",
       "  0.065625,\n",
       "  1.717,\n",
       "  3.32975,\n",
       "  3.332,\n",
       "  4.971484,\n",
       "  4.9601564,\n",
       "  4.9601564,\n",
       "  4.9621096,\n",
       "  4.959375,\n",
       "  4.938281,\n",
       "  4.930625,\n",
       "  4.91875,\n",
       "  4.91875,\n",
       "  -0.05390625,\n",
       "  0.098437496,\n",
       "  1.1785,\n",
       "  1.1815,\n",
       "  1.1750001,\n",
       "  2.8285158,\n",
       "  2.817578,\n",
       "  2.8035154,\n",
       "  2.7964842,\n",
       "  2.811719,\n",
       "  2.8003907,\n",
       "  2.791875,\n",
       "  2.784375,\n",
       "  4.45875,\n",
       "  0.05859375,\n",
       "  49.174217]]"
      ]
     },
     "execution_count": 28,
     "metadata": {},
     "output_type": "execute_result"
    }
   ],
   "source": [
    "bump_data = get_bumps_data_mysql()    # 从数据库tag_config，读取4各站6个泵的出入口压力；  以及变频器的频率\n",
    "bump_data"
   ]
  },
  {
   "cell_type": "code",
   "execution_count": 29,
   "metadata": {},
   "outputs": [
    {
     "data": {
      "text/plain": [
       "[0.46350002,\n",
       " 2.01875,\n",
       " 1.9967501,\n",
       " 2.0203125,\n",
       " 2.0046875,\n",
       " 3.5996094,\n",
       " 3.601953,\n",
       " 5.092969,\n",
       " 5.109375,\n",
       " 5.09375,\n",
       " 5.086875,\n",
       " 5.080625,\n",
       " 0.30234373,\n",
       " 48.396095,\n",
       " 2.19575,\n",
       " 3.7697499,\n",
       " 3.77425,\n",
       " 3.770703,\n",
       " 3.7660158,\n",
       " 3.7597656,\n",
       " 3.7414062,\n",
       " 3.7515626,\n",
       " 3.7160156,\n",
       " 3.73625,\n",
       " 3.714375,\n",
       " 5.339375,\n",
       " 0.13125,\n",
       " 0.065625,\n",
       " 1.717,\n",
       " 3.32975,\n",
       " 3.332,\n",
       " 4.971484,\n",
       " 4.9601564,\n",
       " 4.9601564,\n",
       " 4.9621096,\n",
       " 4.959375,\n",
       " 4.938281,\n",
       " 4.930625,\n",
       " 4.91875,\n",
       " 4.91875,\n",
       " -0.05390625,\n",
       " 0.098437496,\n",
       " 1.1785,\n",
       " 1.1815,\n",
       " 1.1750001,\n",
       " 2.8285158,\n",
       " 2.817578,\n",
       " 2.8035154,\n",
       " 2.7964842,\n",
       " 2.811719,\n",
       " 2.8003907,\n",
       " 2.791875,\n",
       " 2.784375,\n",
       " 4.45875,\n",
       " 0.05859375,\n",
       " 49.174217]"
      ]
     },
     "execution_count": 29,
     "metadata": {},
     "output_type": "execute_result"
    }
   ],
   "source": [
    "mean_bump_data = []\n",
    "for i in range(len(bump_data[0])):\n",
    "    # print(11,bump_data[0][i])\n",
    "    mean_bump_data.append(np.mean(bump_data[0][i]))  # 对输油泵数据进行均值处理,现在只有一个值\n",
    "mean_bump_data\n"
   ]
  },
  {
   "cell_type": "code",
   "execution_count": 30,
   "metadata": {},
   "outputs": [
    {
     "name": "stdout",
     "output_type": "stream",
     "text": [
      "1 - 0 1.5552499799999997\n",
      "3 - 2 0.023562400000000094\n",
      "5 - 4 1.5949218999999997\n",
      "7 - 6 1.4910160000000001\n",
      "9 - 8 -0.015625\n",
      "11 - 10 -0.006249999999999645\n",
      "done\n",
      "15 - 14 1.5739999\n",
      "17 - 16 -0.003546999999999745\n",
      "19 - 18 -0.0062501999999997615\n",
      "21 - 20 0.010156400000000065\n",
      "23 - 22 0.020234400000000097\n",
      "25 - 24 1.6250000000000004\n",
      "done\n",
      "29 - 28 1.6127500000000001\n",
      "31 - 30 1.6394840000000004\n",
      "33 - 32 0.0\n",
      "35 - 34 -0.0027346000000001425\n",
      "37 - 36 -0.007655999999999885\n",
      "39 - 38 0.0\n",
      "done\n",
      "43 - 42 0.0029999999999998916\n",
      "45 - 44 1.6535156999999998\n",
      "47 - 46 -0.014062599999999925\n",
      "49 - 48 0.015234799999999993\n",
      "51 - 50 -0.008515699999999793\n",
      "53 - 52 1.6743750000000004\n",
      "done\n"
     ]
    },
    {
     "data": {
      "text/plain": [
       "[[1.5552499799999997,\n",
       "  0,\n",
       "  1.5949218999999997,\n",
       "  1.4910160000000001,\n",
       "  0,\n",
       "  0,\n",
       "  0,\n",
       "  48.396095],\n",
       " [1.5739999, 0, 0, 0, 0, 1.6250000000000004, 0, 0],\n",
       " [1.6127500000000001, 1.6394840000000004, 0, 0, 0, 0, 0, 0],\n",
       " [0, 1.6535156999999998, 0, 0, 0, 1.6743750000000004, 0, 49.174217]]"
      ]
     },
     "execution_count": 30,
     "metadata": {},
     "output_type": "execute_result"
    }
   ],
   "source": [
    "# 对上面的数判断一下，看看泵有没有开\n",
    "real_open_bump = [[] for i in range(4)]  # 存储当前正在开启状态的泵口\n",
    "\n",
    "# 判断泵是否开启，工频：出入口压差 > 0.3认为开启；  变频：频率 > 20认为开启\n",
    "for i in range(4):\n",
    "    temp = 0\n",
    "    for j in range(i * 14, i * 14 + 11, 2):  # 泵压差大于0.3为开启状态\n",
    "        temp = j\n",
    "        #print('j',j)\n",
    "        print((j+1), '-', (j),mean_bump_data[j + 1] - mean_bump_data[j])\n",
    "        \n",
    "        if mean_bump_data[j + 1] - mean_bump_data[j] > 0.3:\n",
    "            real_open_bump[i].append(mean_bump_data[j + 1] - mean_bump_data[j])   # 输出压差\n",
    "\n",
    "        else:\n",
    "            x = 0\n",
    "            real_open_bump[i].append(x)\n",
    "    print('done')\n",
    "    #print(temp)\n",
    "\n",
    "    for k in range(2):  # 变频器频率大于20为开启状态\n",
    "        if mean_bump_data[temp + 2 + k] >= 20:\n",
    "            real_open_bump[i].append(mean_bump_data[temp + 2 + k])   # 输出频率\n",
    "        else:\n",
    "            x = 0\n",
    "            real_open_bump[i].append(x)\n",
    "real_open_bump    # 4个站的出入统计：6个站的出入压降    和   变频输出频率"
   ]
  },
  {
   "cell_type": "code",
   "execution_count": 42,
   "metadata": {},
   "outputs": [],
   "source": [
    "from pulp import *"
   ]
  },
  {
   "cell_type": "code",
   "execution_count": 43,
   "metadata": {},
   "outputs": [
    {
     "name": "stdout",
     "output_type": "stream",
     "text": [
      "sql \n",
      "    select b.station_id as guanduan, a.id as id , a.p_name as name , a.p_flag as flag\n",
      "        FROM fz_beng a \n",
      "        left JOIN fz_station_line b \n",
      "        on a.fk_station = b.station_id\n",
      "        where  a.p_type = 1  \n",
      "        and a.p_bengtype ='B_TYPE_0' \n",
      "        and b.line_id = 1\n",
      "        order by guanduan, id\n",
      "    \n"
     ]
    },
    {
     "data": {
      "text/plain": [
       "[['rizhao', 1, 0, 0, 1, 1, 1, 1],\n",
       " ['donghai', 2, 1, 1, 1, 1, 1, 1],\n",
       " ['huaian', 3, 1, 1, 1, 1, 1, 1],\n",
       " ['guanyin', 4, 1, 1, 1, 1, 1, 1]]"
      ]
     },
     "execution_count": 43,
     "metadata": {},
     "output_type": "execute_result"
    }
   ],
   "source": [
    "# 数据库获取每个站泵的状态、编号\n",
    "def get_bumps_open_mysql():\n",
    "    conn = get_conn()\n",
    "    sql = \"\"\"\n",
    "    select b.station_id as guanduan, a.id as id , a.p_name as name , a.p_flag as flag\n",
    "        FROM fz_beng a \n",
    "        left JOIN fz_station_line b \n",
    "        on a.fk_station = b.station_id\n",
    "        where  a.p_type = 1  \n",
    "        and a.p_bengtype ='B_TYPE_0' \n",
    "        and b.line_id = 1\n",
    "        order by guanduan, id\n",
    "    \"\"\"\n",
    "    print('sql',sql)\n",
    "    result = [[], [], [], []]\n",
    "    with conn.cursor() as cursor:\n",
    "        cursor.execute(sql)\n",
    "        sql_data = cursor.fetchall()\n",
    "    result[0].append('rizhao')\n",
    "    result[0].append(1)\n",
    "    result[1].append('donghai')\n",
    "    result[1].append(2)\n",
    "    result[2].append('huaian')\n",
    "    result[2].append(3)\n",
    "    result[3].append('guanyin')\n",
    "    result[3].append(4)\n",
    "    for elem in sql_data:\n",
    "        guanduan = int(elem['guanduan'])\n",
    "        flag = int(elem['flag'])\n",
    "        result[guanduan - 1].append(flag - 1)\n",
    "    conn.close()\n",
    "    return result\n",
    "bump_setting = get_bumps_open_mysql()   # 泵是否能开，表中1是禁用，2是可以开。代码是0禁用，1是可以开。\n",
    "bump_setting"
   ]
  },
  {
   "cell_type": "code",
   "execution_count": 32,
   "metadata": {},
   "outputs": [
    {
     "data": {
      "text/plain": [
       "[[1.5552499799999997,\n",
       "  0,\n",
       "  1.5949218999999997,\n",
       "  1.4910160000000001,\n",
       "  0,\n",
       "  0,\n",
       "  0,\n",
       "  48.396095],\n",
       " [1.5739999, 0, 0, 0, 0, 1.6250000000000004, 0, 0],\n",
       " [1.6127500000000001, 1.6394840000000004, 0, 0, 0, 0, 0, 0],\n",
       " [0, 1.6535156999999998, 0, 0, 0, 1.6743750000000004, 0, 49.174217]]"
      ]
     },
     "execution_count": 32,
     "metadata": {},
     "output_type": "execute_result"
    }
   ],
   "source": [
    "real_open_bump   # 4个站的出入统计：6  工频输出压差， 2    变频输出频率                   数据是从tag_config来的"
   ]
  },
  {
   "cell_type": "code",
   "execution_count": 33,
   "metadata": {},
   "outputs": [
    {
     "data": {
      "text/plain": [
       "[[2.0, 0], [3.0, 0], [1.0, 45.5], [2.0, 0]]"
      ]
     },
     "execution_count": 33,
     "metadata": {},
     "output_type": "execute_result"
    }
   ],
   "source": [
    "bump_status  # 优化值"
   ]
  },
  {
   "cell_type": "code",
   "execution_count": 34,
   "metadata": {},
   "outputs": [],
   "source": [
    "# 计算权值\n",
    "bump_choose_result = [[0, 0, 0, 0, 0, 0], [0, 0, 0, 0, 0, 0], [0, 0, 0, 0, 0, 0], [0, 0, 0, 0, 0, 0]]  # 存储最终选择的泵口\n"
   ]
  },
  {
   "cell_type": "code",
   "execution_count": 35,
   "metadata": {},
   "outputs": [
    {
     "data": {
      "text/plain": [
       "[[2.0, 0], [3.0, 0], [1.0, 45.5], [2.0, 0]]"
      ]
     },
     "execution_count": 35,
     "metadata": {},
     "output_type": "execute_result"
    }
   ],
   "source": [
    "xres"
   ]
  },
  {
   "cell_type": "code",
   "execution_count": 44,
   "metadata": {},
   "outputs": [
    {
     "name": "stdout",
     "output_type": "stream",
     "text": [
      "open\n",
      "[0, 0, 151, 252, 0, 0]\n",
      "num 2.0\n",
      "[0.0, 0.0, 1.0, 1.0, 0.0, 0.0]\n",
      "open\n",
      "[101, 1, 0, 0, 51, 151]\n",
      "num 3.0\n",
      "[1.0, 0.0, 0.0, 0.0, 1.0, 1.0]\n",
      "open\n",
      "[101, 101, 0, 0, 51, 51]\n",
      "num 2.0\n",
      "[1.0, 1.0, 0.0, 0.0, 0.0, 0.0]\n",
      "open\n",
      "[1, 202, 0, 0, 51, 151]\n",
      "num 2.0\n",
      "[0.0, 1.0, 0.0, 0.0, 0.0, 1.0]\n"
     ]
    }
   ],
   "source": [
    "for i in range(4):\n",
    "    per_station_data = real_open_bump[i].copy()   # 拿出一个站的：[1.55,0,1.59,1.49,0,0,     0,48.396095]    泵开启数量，变频频率\n",
    "\n",
    "    per_bump_weight = []\n",
    "\n",
    "    # 计算权值，大于0.3认为开启了。权值给1\n",
    "    for j in range(6):\n",
    "        if per_station_data[j] > 0.3:\n",
    "            #开启状态\n",
    "            per_bump_weight.append(1)\n",
    "        else:\n",
    "            per_bump_weight.append(0)  #  [1,0,1,1,0,0]\n",
    "\n",
    "\n",
    "    #优先开启的泵\n",
    "    per_bump_weight = [num * 100 + 1 for num in per_bump_weight]   # [1,0,1,1,0,0]变[101,1,101,101,1,1]\n",
    "    fixed_bump_data = real_open_bump[i][:6].copy()  # 取出泵压差，6个值   [1.55, 0, 1.59, 1.49, 0, 0]\n",
    "    for j in range(6):\n",
    "        if fixed_bump_data[j] == 0:\n",
    "            fixed_bump_data[j] = 100    # 压降为0，赋值为100。[1.55, 100, 1.59, 1.49, 100, 100]\n",
    "\n",
    "    # 取出变频泵频率\n",
    "    mean1 = np.mean(per_station_data[7])   # 48.39\n",
    "    mean2 = np.mean(per_station_data[6])   # 0\n",
    "    \n",
    "    if (mean1 >= 20) | (mean2 >= 20):   # 代表开了变频。变频压差最小，最小的变频压差权值给到最高\n",
    "        min_index = fixed_bump_data.index(min(fixed_bump_data))\n",
    "        per_bump_weight[min_index] = per_bump_weight[min_index] * 2 # 变频压差最小，最小的变频压差权值给到最高 [101, 1, 101, 202, 1, 1]\n",
    "\n",
    "\n",
    "     # 一拖二变频器互斥 + 不开启泵口排除\n",
    "    for j in range(6):     \n",
    "        if bump_setting[i][j + 2] == 0:    # 泵为禁用的话，权值直接设为0  ['rizhao', 1号,  1, 1, 1, 1, 1, 1]\n",
    "            per_bump_weight[j] = 0    #                                                  [101, 1, 101, 202, 1, 1]\n",
    "        \n",
    "        \n",
    "        # 日仪线3号和5号泵对应同一个变频器，要做互斥，只能开启一个。\n",
    "        # 假设3号泵原本处于开启状态，那么就把5号权值设为零\n",
    "        # 同样的道理，4号和6号也是只开启一个\n",
    "        # 权值为0的泵口就不会参与后面线性规划的计算\n",
    "        if (j == 2) | (j == 3):\n",
    "            if per_station_data[j] > per_station_data[j + 2]:        # per_station_data = [101, 1, 101, 202, 1, 1]\n",
    "                per_bump_weight[j + 2] = 0 \n",
    "\n",
    "                # 这个就属于零个工频一个变频的情况，这种情况是将变频泵的权值，提高到高于已经开启的工频泵\n",
    "                if (xres[i][0] == 0) & (xres[i][1] != 0):    # xres=bump_status[[2.0, 0], [2.0, 45.45], [2.0, 0], [2.0, 0]]工频数量，变频频率\n",
    "                    per_bump_weight[j] += 150  # 提高变频的优先级\n",
    "                else:\n",
    "                    per_bump_weight[j] += 50   # [101, 1, 151, 202, 1, 1]\n",
    "\n",
    "                    \n",
    "            else:\n",
    "                per_bump_weight[j] = 0\n",
    "                if (xres[i][0] == 0) & (xres[i][1] != 0):\n",
    "                    per_bump_weight[j + 2] += 150  # 提高变频的优先级\n",
    "                else:\n",
    "                    per_bump_weight[j + 2] += 50\n",
    "                #per_bump_weight[j + 2] += 150  # 提高变频的优先级\n",
    "    print(\"open\")\n",
    "    print(per_bump_weight)   # 第一个站的权值[101, 1, 151, 252, 0, 0]\n",
    "\n",
    "\n",
    "\n",
    "    # 准备开始选择输油泵\n",
    "    #变频频率\n",
    "    var_freq = xres[i][1]   # xres=bump_status[[2.0, 0], [2.0, 45.45], [2.0, 0], [2.0, 0]]工频数量，变频频率\n",
    "\n",
    "    num_bumps_to_start = xres[i][0] + math.ceil(var_freq / 500)  # 第一个站开启泵的数量\n",
    "\n",
    "    print(\"num\", num_bumps_to_start)  # 2\n",
    "\n",
    "\n",
    "\n",
    "    # print(n)\n",
    "    c = per_bump_weight  # 目标函数的系数      per_bump_weight = [101, 1, 151, 252, 0, 0]\n",
    "    # print(c)\n",
    "    m = LpProblem(\"bumpchoose\", LpMaximize)  # 确定求极大值\n",
    "    x1 = LpVariable(\"x1\", 0, 1, LpInteger)\n",
    "    x2 = LpVariable(\"x2\", 0, 1, LpInteger)\n",
    "    x3 = LpVariable(\"x3\", 0, 1, LpInteger)\n",
    "    x4 = LpVariable(\"x4\", 0, 1, LpInteger)\n",
    "    x5 = LpVariable(\"x5\", 0, 1, LpInteger)\n",
    "    x6 = LpVariable(\"x6\", 0, 1, LpInteger)  # 自变量\n",
    "    all_x = [x1, x2, x3, x4, x5, x6]\n",
    "    m += pulp.lpDot(c, all_x)\n",
    "\n",
    "    # 约束条件\n",
    "    m += x1 + x2 + x3 + x4 + x5 + x6 <= num_bumps_to_start\n",
    "\n",
    "    # 求解\n",
    "    m.solve()\n",
    "    math_result = []\n",
    "    for j in m.variables():\n",
    "        math_result.append(j.varValue)\n",
    "    print(math_result)  # 开哪几个泵。[0.0, 0.0, 1.0, 1.0, 0.0, 0.0]  这里为什么要用求解器，开最大两个权值不就可以了吗\n",
    "\n",
    "\n",
    "\n",
    "    # 选择变频泵位置，取出索引\n",
    "    flag = 0\n",
    "    use_index = [k for k in range(len(math_result)) if math_result[k] == 1]    # 取出索引 [2, 3]\n",
    "\n",
    "    # 开了变频泵，flag设为1\n",
    "    for j in use_index:\n",
    "        if (j == 2) | (j == 3) | (j == 4) | (j == 5):\n",
    "            flag = 1\n",
    "\n",
    "\n",
    "    use_index = use_index[::-1]     # 排序倒过来   [3, 2]\n",
    "    min_data = 1000                 # 设定最小值数据，最小值坐标初值\n",
    "    min_use_index = 1000\n",
    "\n",
    "    if flag == 1:  # 有变频泵被选中：1、有频率设为这个频率 2、没频率，直接设为50hz\n",
    "        for j in use_index:\n",
    "            if min_data > fixed_bump_data[j]:   # 工频泵压差 100shi 为0的[1.55, 100, 1.59, 1.49, 100, 100]\n",
    "                min_data = fixed_bump_data[j]\n",
    "                min_use_index = j               # 取出最小的压的索引 1.49对应 的  3\n",
    "        if var_freq != 0:\n",
    "            bump_choose_result[i][min_use_index] = var_freq  # 选择压差最小的点位赋值变频频率。  3号变频赋值41的频率\n",
    "        else:\n",
    "            bump_choose_result[i][min_use_index] =   50 # 变频为0，则赋值为50\n",
    "\n",
    "    else:  # 没有变频泵被选\n",
    "        for j in range(6):\n",
    "            if math_result[j] == 1:\n",
    "                bump_choose_result[i][j] = 50   # 没有变频泵被选，直接设为50hz\n",
    "    '''\n",
    "    use_index = [k for k in range(len(math_result)) if math_result[k] == 1]\n",
    "    use_index = use_index[::-1]\n",
    "    # print(use_index)\n",
    "    min_data = 1000  # 设定最小值数据，最小值坐标初值\n",
    "    min_use_index = 1000\n",
    "    # print(per_station_data)  #ok\n",
    "    # print(\"up is data\")\n",
    "    for j in use_index:\n",
    "        if min_data > per_station_data[j]:\n",
    "            min_data = per_station_data[j]\n",
    "            min_use_index = j\n",
    "\n",
    "    if var_freq != 0:\n",
    "        bump_choose_result[i][min_use_index] = var_freq  # 选择压差最小的点位赋值变频频率\n",
    "    else:\n",
    "        bump_choose_result[i][min_use_index] = 50\n",
    "    # print(min_use_index)\n",
    "    # print(\"up is minindex\")\n",
    "    '''\n",
    "    for j in range(6):     # math_result = [0.0, 0.0, 1.0, 1.0, 0.0, 0.0]\n",
    "        if (math_result[j] == 1) & (j != min_use_index):    # 选中的工频泵直接设为50\n",
    "            bump_choose_result[i][j] = 50\n"
   ]
  },
  {
   "cell_type": "code",
   "execution_count": 45,
   "metadata": {},
   "outputs": [
    {
     "name": "stdout",
     "output_type": "stream",
     "text": [
      "9\n"
     ]
    }
   ],
   "source": [
    "\n",
    "# 按流量-功率关系计算功率\n",
    "w = predict_fixed_frequency_power(flow)    # 根据流量求工频泵功率    p = f（flow）\n",
    "\n",
    "bump_choose_output = [[0, 0, 0, 0, 0, 0, 0, 0, 0, 0],\n",
    "                        [0, 0, 0, 0, 0, 0, 0, 0, 0, 0],\n",
    "                        [0, 0, 0, 0, 0, 0, 0, 0, 0, 0],\n",
    "                        [0, 0, 0, 0, 0, 0, 0, 0, 0, 0]]  # 每行一个站点，前六个存储泵口选择\n",
    "for i in range(4):   # 频率/功率 加进去\n",
    "    for j in range(6):\n",
    "        if bump_choose_result[i][j] == 50:\n",
    "            bump_choose_output[i][j] = str(bump_choose_result[i][j]) \\\n",
    "                                    + '/' + str(w)\n",
    "        else:\n",
    "            bump_choose_output[i][j] = str(bump_choose_result[i][j]) \\\n",
    "                                        + '/' + str(predict_variable_frequency_power(flow, (bump_choose_result[i][j] - 30.0)/50.0))\n",
    "    bump_choose_output[i][6] = flow\n",
    "\n",
    "\n",
    "pressure_index = 0\n",
    "for i in range(4):  # 出口压力，下一站入口压力加进去\n",
    "    bump_choose_output[i][7] = in_and_out_pressure[pressure_index]\n",
    "    pressure_index = pressure_index + 1\n",
    "    bump_choose_output[i][8] = in_and_out_pressure[pressure_index]\n",
    "    pressure_index = pressure_index + 1\n",
    "\n",
    "# 计算功耗对比\n",
    "sum_open_bump = 0\n",
    "for i in range(4):\n",
    "    for j in range(6):\n",
    "        if math.ceil(real_open_bump[i][j] / 30):\n",
    "            sum_open_bump = sum_open_bump + 1  # 计算正在工作的所有泵的数量\n",
    "print(sum_open_bump)  # 原本开了9个泵\n"
   ]
  },
  {
   "cell_type": "code",
   "execution_count": 46,
   "metadata": {},
   "outputs": [
    {
     "name": "stdout",
     "output_type": "stream",
     "text": [
      "real 23841.618509192664\n",
      "theory 23925.69418847195\n"
     ]
    }
   ],
   "source": [
    "real_power = 0\n",
    "theory_power = 0\n",
    "for i in range(4):\n",
    "    for j in range(6, 8):  # 筛选出变频泵，计算功率\n",
    "        if real_open_bump[i][j] > 10:\n",
    "            if real_open_bump[i][j] > 30:\n",
    "                real_power = real_power + predict_variable_frequency_power(flow, (real_open_bump[i][j] - 30.0) / 50.0)\n",
    "            else:\n",
    "                real_power = real_power + w * (real_open_bump[i][j] / 50) ** 3\n",
    "            sum_open_bump = sum_open_bump - 1   # 减去变频泵数量\n",
    "real_power = real_power + sum_open_bump * w   # 实际功率  =  变频功率 + 工频泵数量*工频功率\n",
    "\n",
    "for i in range(4):\n",
    "    for j in range(6):  # 计算按优化设想的理论功耗\n",
    "        if bump_choose_result[i][j] == 50:\n",
    "            theory_power = theory_power + w\n",
    "        elif bump_choose_result[i][j] >= 30:\n",
    "            theory_power = theory_power + predict_variable_frequency_power(flow, (bump_choose_result[i][j] - 30.0) / 50.0)\n",
    "        else:\n",
    "            theory_power = theory_power + w * (bump_choose_result[i][j] / 50) ** 3\n",
    "\n",
    "bump_choose_output[0][9] = theory_power\n",
    "bump_choose_output[1][9] = real_power\n",
    "if real_power == 0:\n",
    "    bump_choose_output[2][9] = 0\n",
    "else:\n",
    "    bump_choose_output[2][9] = ((real_power - theory_power) / real_power) if real_power>0 else 1.0\n",
    "print(\"real\", real_power)\n",
    "print(\"theory\", theory_power)\n",
    "# return return bump_choose_output"
   ]
  },
  {
   "cell_type": "code",
   "execution_count": 49,
   "metadata": {},
   "outputs": [
    {
     "data": {
      "text/html": [
       "<div>\n",
       "<style scoped>\n",
       "    .dataframe tbody tr th:only-of-type {\n",
       "        vertical-align: middle;\n",
       "    }\n",
       "\n",
       "    .dataframe tbody tr th {\n",
       "        vertical-align: top;\n",
       "    }\n",
       "\n",
       "    .dataframe thead th {\n",
       "        text-align: right;\n",
       "    }\n",
       "</style>\n",
       "<table border=\"1\" class=\"dataframe\">\n",
       "  <thead>\n",
       "    <tr style=\"text-align: right;\">\n",
       "      <th></th>\n",
       "      <th>1泵频率/功耗</th>\n",
       "      <th>2泵频率/功耗</th>\n",
       "      <th>3泵频率/功耗</th>\n",
       "      <th>4泵频率/功耗</th>\n",
       "      <th>5泵频率/功耗</th>\n",
       "      <th>6泵频率/功耗</th>\n",
       "      <th>流量</th>\n",
       "      <th>此站出站压力</th>\n",
       "      <th>下一站入站压力</th>\n",
       "      <th>理论功耗/实际功耗/节约功耗百分比</th>\n",
       "    </tr>\n",
       "  </thead>\n",
       "  <tbody>\n",
       "    <tr>\n",
       "      <th>日照</th>\n",
       "      <td>0/0.0</td>\n",
       "      <td>0/0.0</td>\n",
       "      <td>50/2658.410465385772</td>\n",
       "      <td>50/2658.410465385772</td>\n",
       "      <td>0/0.0</td>\n",
       "      <td>0/0.0</td>\n",
       "      <td>4914.4336</td>\n",
       "      <td>3.613672</td>\n",
       "      <td>0.570952</td>\n",
       "      <td>23925.694188</td>\n",
       "    </tr>\n",
       "    <tr>\n",
       "      <th>东海</th>\n",
       "      <td>50/2658.410465385772</td>\n",
       "      <td>0/0.0</td>\n",
       "      <td>0/0.0</td>\n",
       "      <td>0/0.0</td>\n",
       "      <td>50/2658.410465385772</td>\n",
       "      <td>50/2658.410465385772</td>\n",
       "      <td>4914.4336</td>\n",
       "      <td>5.445952</td>\n",
       "      <td>1.906409</td>\n",
       "      <td>23841.618509</td>\n",
       "    </tr>\n",
       "    <tr>\n",
       "      <th>淮安</th>\n",
       "      <td>50/2658.410465385772</td>\n",
       "      <td>50/2658.410465385772</td>\n",
       "      <td>0/0.0</td>\n",
       "      <td>0/0.0</td>\n",
       "      <td>0/0.0</td>\n",
       "      <td>0/0.0</td>\n",
       "      <td>4914.4336</td>\n",
       "      <td>4.858864</td>\n",
       "      <td>1.288640</td>\n",
       "      <td>-0.003526</td>\n",
       "    </tr>\n",
       "    <tr>\n",
       "      <th>观音</th>\n",
       "      <td>0/0.0</td>\n",
       "      <td>50/2658.410465385772</td>\n",
       "      <td>0/0.0</td>\n",
       "      <td>0/0.0</td>\n",
       "      <td>0/0.0</td>\n",
       "      <td>50/2658.410465385772</td>\n",
       "      <td>4914.4336</td>\n",
       "      <td>4.616531</td>\n",
       "      <td>0.500000</td>\n",
       "      <td>0.000000</td>\n",
       "    </tr>\n",
       "  </tbody>\n",
       "</table>\n",
       "</div>"
      ],
      "text/plain": [
       "                 1泵频率/功耗               2泵频率/功耗               3泵频率/功耗  \\\n",
       "日照                 0/0.0                 0/0.0  50/2658.410465385772   \n",
       "东海  50/2658.410465385772                 0/0.0                 0/0.0   \n",
       "淮安  50/2658.410465385772  50/2658.410465385772                 0/0.0   \n",
       "观音                 0/0.0  50/2658.410465385772                 0/0.0   \n",
       "\n",
       "                 4泵频率/功耗               5泵频率/功耗               6泵频率/功耗  \\\n",
       "日照  50/2658.410465385772                 0/0.0                 0/0.0   \n",
       "东海                 0/0.0  50/2658.410465385772  50/2658.410465385772   \n",
       "淮安                 0/0.0                 0/0.0                 0/0.0   \n",
       "观音                 0/0.0                 0/0.0  50/2658.410465385772   \n",
       "\n",
       "           流量    此站出站压力   下一站入站压力  理论功耗/实际功耗/节约功耗百分比  \n",
       "日照  4914.4336  3.613672  0.570952       23925.694188  \n",
       "东海  4914.4336  5.445952  1.906409       23841.618509  \n",
       "淮安  4914.4336  4.858864  1.288640          -0.003526  \n",
       "观音  4914.4336  4.616531  0.500000           0.000000  "
      ]
     },
     "execution_count": 49,
     "metadata": {},
     "output_type": "execute_result"
    }
   ],
   "source": [
    "result = pd.DataFrame(bump_choose_output)\n",
    "result.index = ['日照','东海','淮安','观音']\n",
    "result.columns=['1泵频率/功耗','2泵频率/功耗','3泵频率/功耗','4泵频率/功耗','5泵频率/功耗','6泵频率/功耗','流量','此站出站压力','下一站入站压力','理论功耗/实际功耗/节约功耗百分比']\n",
    "result"
   ]
  },
  {
   "cell_type": "code",
   "execution_count": null,
   "metadata": {},
   "outputs": [
    {
     "data": {
      "text/html": [
       "<div>\n",
       "<style scoped>\n",
       "    .dataframe tbody tr th:only-of-type {\n",
       "        vertical-align: middle;\n",
       "    }\n",
       "\n",
       "    .dataframe tbody tr th {\n",
       "        vertical-align: top;\n",
       "    }\n",
       "\n",
       "    .dataframe thead th {\n",
       "        text-align: right;\n",
       "    }\n",
       "</style>\n",
       "<table border=\"1\" class=\"dataframe\">\n",
       "  <thead>\n",
       "    <tr style=\"text-align: right;\">\n",
       "      <th></th>\n",
       "      <th>0</th>\n",
       "      <th>1</th>\n",
       "      <th>2</th>\n",
       "      <th>3</th>\n",
       "      <th>4</th>\n",
       "      <th>5</th>\n",
       "      <th>6</th>\n",
       "      <th>7</th>\n",
       "      <th>8</th>\n",
       "      <th>9</th>\n",
       "    </tr>\n",
       "  </thead>\n",
       "  <tbody>\n",
       "    <tr>\n",
       "      <th>0</th>\n",
       "      <td>0/0.0</td>\n",
       "      <td>0/0.0</td>\n",
       "      <td>50/2658.410465385772</td>\n",
       "      <td>50/2658.410465385772</td>\n",
       "      <td>0/0.0</td>\n",
       "      <td>0/0.0</td>\n",
       "      <td>4914.4336</td>\n",
       "      <td>3.613672</td>\n",
       "      <td>0.570952</td>\n",
       "      <td>23432.020123</td>\n",
       "    </tr>\n",
       "    <tr>\n",
       "      <th>1</th>\n",
       "      <td>45.45/2164.7363999463</td>\n",
       "      <td>0/0.0</td>\n",
       "      <td>0/0.0</td>\n",
       "      <td>0/0.0</td>\n",
       "      <td>50/2658.410465385772</td>\n",
       "      <td>50/2658.410465385772</td>\n",
       "      <td>4914.4336</td>\n",
       "      <td>5.119440</td>\n",
       "      <td>1.579896</td>\n",
       "      <td>23841.618509</td>\n",
       "    </tr>\n",
       "    <tr>\n",
       "      <th>2</th>\n",
       "      <td>50/2658.410465385772</td>\n",
       "      <td>50/2658.410465385772</td>\n",
       "      <td>0/0.0</td>\n",
       "      <td>0/0.0</td>\n",
       "      <td>0/0.0</td>\n",
       "      <td>0/0.0</td>\n",
       "      <td>4914.4336</td>\n",
       "      <td>4.858864</td>\n",
       "      <td>1.288640</td>\n",
       "      <td>0.017180</td>\n",
       "    </tr>\n",
       "    <tr>\n",
       "      <th>3</th>\n",
       "      <td>0/0.0</td>\n",
       "      <td>50/2658.410465385772</td>\n",
       "      <td>0/0.0</td>\n",
       "      <td>0/0.0</td>\n",
       "      <td>0/0.0</td>\n",
       "      <td>50/2658.410465385772</td>\n",
       "      <td>4914.4336</td>\n",
       "      <td>4.616531</td>\n",
       "      <td>0.500000</td>\n",
       "      <td>0.000000</td>\n",
       "    </tr>\n",
       "  </tbody>\n",
       "</table>\n",
       "</div>"
      ],
      "text/plain": [
       "                       0                     1                     2  \\\n",
       "0                  0/0.0                 0/0.0  50/2658.410465385772   \n",
       "1  45.45/2164.7363999463                 0/0.0                 0/0.0   \n",
       "2   50/2658.410465385772  50/2658.410465385772                 0/0.0   \n",
       "3                  0/0.0  50/2658.410465385772                 0/0.0   \n",
       "\n",
       "                      3                     4                     5  \\\n",
       "0  50/2658.410465385772                 0/0.0                 0/0.0   \n",
       "1                 0/0.0  50/2658.410465385772  50/2658.410465385772   \n",
       "2                 0/0.0                 0/0.0                 0/0.0   \n",
       "3                 0/0.0                 0/0.0  50/2658.410465385772   \n",
       "\n",
       "           6         7         8             9  \n",
       "0  4914.4336  3.613672  0.570952  23432.020123  \n",
       "1  4914.4336  5.119440  1.579896  23841.618509  \n",
       "2  4914.4336  4.858864  1.288640      0.017180  \n",
       "3  4914.4336  4.616531  0.500000      0.000000  "
      ]
     },
     "execution_count": 100,
     "metadata": {},
     "output_type": "execute_result"
    }
   ],
   "source": [
    "# 根据泵状态（求解器求出来的值）， 流量（一开始给的）， 站点进出站压力。选择泵\n",
    "#choice = bump_choose(bump_status, flow, stations_pressure)\n",
    "# print('************* increase ',choice[2][9])\n",
    "choice = bump_choose_output\n",
    "pd.DataFrame(choice)\n"
   ]
  },
  {
   "cell_type": "code",
   "execution_count": 101,
   "metadata": {},
   "outputs": [
    {
     "name": "stdout",
     "output_type": "stream",
     "text": [
      "optimum point:  [2. 2. 2. 2.],[0. 1. 0. 0.],[0.    0.309 0.    0.   ] \n",
      "bump_status [[2.0, 0], [2.0, 45.45], [2.0, 0], [2.0, 0]]\n",
      "flow= 4914.4336\n"
     ]
    }
   ],
   "source": [
    "print(\"optimum point:  {},{},{} \".format(x_opt, y_opt, z_opt))\n",
    "print('bump_status',bump_status)\n",
    "print('flow=', flow_capacity)"
   ]
  },
  {
   "cell_type": "code",
   "execution_count": 102,
   "metadata": {},
   "outputs": [
    {
     "name": "stdout",
     "output_type": "stream",
     "text": [
      "---diff pressure last--\n",
      "3.044047926829268\n",
      "3.5396261195121954\n",
      "3.5660091439024404\n",
      "4.103557201634146\n"
     ]
    }
   ],
   "source": [
    "print('---diff pressure last--')   # view表取出的最新压力差\n",
    "for i in model.I:\n",
    "    print(model.DiffPressureLasttime[i])"
   ]
  },
  {
   "cell_type": "code",
   "execution_count": 103,
   "metadata": {},
   "outputs": [
    {
     "data": {
      "text/plain": [
       "[3.6136718999999986,\n",
       " 0.570952407744453,\n",
       " 5.119439797963814,\n",
       " 1.5798962080623191,\n",
       " 4.85886420806232,\n",
       " 1.2886402378720803,\n",
       " 4.6165309378720805,\n",
       " 0.5000000000039142]"
      ]
     },
     "execution_count": 103,
     "metadata": {},
     "output_type": "execute_result"
    }
   ],
   "source": [
    "stations_pressure   # 进出站压力，可以算出上面显示的压力差"
   ]
  },
  {
   "cell_type": "code",
   "execution_count": 104,
   "metadata": {},
   "outputs": [
    {
     "name": "stdout",
     "output_type": "stream",
     "text": [
      "---pressure--\n",
      "3.6136718999999986 0.570952407744453 3.0427194922555456\n",
      "5.119439797963814 1.5798962080623191 3.539543589901495\n",
      "4.85886420806232 1.2886402378720803 3.5702239701902396\n",
      "4.6165309378720805 0.5000000000039142 4.116530937868166\n"
     ]
    }
   ],
   "source": [
    "# 上面两个的计算过程，线段的压降。\n",
    "# 0出站 - 1进站 = 改线段的压降\n",
    "inbound_pressure = [stations_pressure[i] for i in np.arange(1, stations_pressure.__len__(), 2)]\n",
    "outbound_pressure = [stations_pressure[i] for i in np.arange(0, stations_pressure.__len__(), 2)]\n",
    "print('---pressure--')\n",
    "for i, o in zip(inbound_pressure, outbound_pressure):\n",
    "    print(o, i, o - i)"
   ]
  },
  {
   "cell_type": "code",
   "execution_count": 105,
   "metadata": {},
   "outputs": [
    {
     "data": {
      "text/plain": [
       "[0.751, 0.61, 0.625, 0.622]"
      ]
     },
     "execution_count": 105,
     "metadata": {},
     "output_type": "execute_result"
    }
   ],
   "source": [
    "\n",
    "elec_price = [model.ElecPrice[i] for i in model.I]\n",
    "elec_price\n"
   ]
  },
  {
   "cell_type": "code",
   "execution_count": 106,
   "metadata": {},
   "outputs": [],
   "source": [
    "riyi_success_flag=1  # wtj"
   ]
  },
  {
   "cell_type": "code",
   "execution_count": 107,
   "metadata": {},
   "outputs": [
    {
     "data": {
      "text/plain": [
       "'optimal'"
      ]
     },
     "execution_count": 107,
     "metadata": {},
     "output_type": "execute_result"
    }
   ],
   "source": [
    "TerminationCondition.optimal.value"
   ]
  },
  {
   "cell_type": "code",
   "execution_count": 108,
   "metadata": {},
   "outputs": [],
   "source": [
    "def write_optimize_model_result_to_mysql(model_id, input_json, info_json, output_json):\n",
    "    #conn = get_conn()\n",
    "    sql=\"insert into fz_model_res(`model_id`,`input`,`information`,`output`,`run_status`,`run_time`) \" \\\n",
    "        \"values(%s,%s,%s,%s,%s,%s)\"\n",
    "    print('成功sql',sql)\n",
    "    # with conn.cursor() as cursor:\n",
    "    #     cursor.execute(sql,(model_id, input_json, info_json, output_json, \"成功\",\n",
    "    #                         datetime.datetime.now().strftime(\"%Y-%m-%d %H:%M:%S\")))\n",
    "    #     conn.commit()\n",
    "    print(\"insert 成功 success\")\n",
    "\n",
    "    #conn.close()\n",
    "\n",
    "def write_failed_result_to_mysql(model_id, input_json, info_json, output_json):\n",
    "    #conn = get_conn()\n",
    "    sql = \"insert into fz_model_res(`model_id`,`input`,`information`,`output`,`run_status`,`run_time`) \" \\\n",
    "          \"values(%s,%s,%s,%s,%s,%s)\"\n",
    "    print('失败sql',sql)\n",
    "    # with conn.cursor() as cursor:\n",
    "    #     cursor.execute(sql, (model_id, input_json, info_json, output_json, \"失败\",\n",
    "    #                          datetime.datetime.now().strftime(\"%Y-%m-%d %H:%M:%S\")))\n",
    "    #     conn.commit()\n",
    "    print(\"insert 失败 success\")\n",
    "\n",
    "    #conn.close()"
   ]
  },
  {
   "cell_type": "code",
   "execution_count": 109,
   "metadata": {},
   "outputs": [
    {
     "name": "stdout",
     "output_type": "stream",
     "text": [
      "optimize success\n",
      "get_elec_price_result {0: 0.751, 1: 0.61, 2: 0.625, 3: 0.622}\n",
      "成功sql insert into fz_model_res(`model_id`,`input`,`information`,`output`,`run_status`,`run_time`) values(%s,%s,%s,%s,%s,%s)\n",
      "insert 成功 success\n"
     ]
    },
    {
     "data": {
      "text/plain": [
       "\"\\nchoice_df = pd.DataFrame.from_records(choice)\\npath = os.path.abspath(os.path.dirname(sys.argv[0]))\\nchoice_df.to_csv(os.path.join(path,'结果.csv'),header=False,index=False,encoding='utf-8')\\n\\n\\ndiff_pressure = [[predict_diff_pressure_between_stations(\\n    flow_capacity,model.DiffPressureLasttime[i],i) for i in model.I]]\\ndiff_pressure_df = pd.DataFrame.from_records(diff_pressure)\\ndiff_pressure_df.columns=['日照 - 东海段计算压差',\\n                          '东海 - 淮安段计算压差',\\n                          '淮安 - 观音段计算压差',\\n                            '观音 - 仪征段计算压差']\\ndiff_pressure_df.to_csv(os.path.join(path,'压差.csv'),\\n                        header=True,index=False,encoding='utf-8')\\n\""
      ]
     },
     "execution_count": 109,
     "metadata": {},
     "output_type": "execute_result"
    }
   ],
   "source": [
    "if (riyi_success_flag != 1):    # 数据有问题就会赋值为0\n",
    "    print(\"optimize failed as data problem\")\n",
    "    # write_data_problem_result_to_mysql(2, get_input_json(), get_info_json(), get_json_from_records(choice, elec_price))\n",
    "else:\n",
    "    if (solution.solver.termination_condition == TerminationCondition.optimal):\n",
    "        print(\"optimize success\")\n",
    "        write_optimize_model_result_to_mysql(2, get_input_json(), get_info_json(),\n",
    "                                                get_json_from_records(choice, elec_price))\n",
    "    else:\n",
    "        print(\"optimize failed\")\n",
    "        write_failed_result_to_mysql(2, get_input_json(), get_info_json(),\n",
    "                                        get_json_from_records(choice, elec_price))\n",
    "\n",
    "# print(value(predict_variable_frequency_bump_pressure_with_reg_v2(flow_capacity,.4,0.0)))\n",
    "\n",
    "\n",
    "'''\n",
    "choice_df = pd.DataFrame.from_records(choice)\n",
    "path = os.path.abspath(os.path.dirname(sys.argv[0]))\n",
    "choice_df.to_csv(os.path.join(path,'结果.csv'),header=False,index=False,encoding='utf-8')\n",
    "\n",
    "\n",
    "diff_pressure = [[predict_diff_pressure_between_stations(\n",
    "    flow_capacity,model.DiffPressureLasttime[i],i) for i in model.I]]\n",
    "diff_pressure_df = pd.DataFrame.from_records(diff_pressure)\n",
    "diff_pressure_df.columns=['日照 - 东海段计算压差',\n",
    "                          '东海 - 淮安段计算压差',\n",
    "                          '淮安 - 观音段计算压差',\n",
    "                            '观音 - 仪征段计算压差']\n",
    "diff_pressure_df.to_csv(os.path.join(path,'压差.csv'),\n",
    "                        header=True,index=False,encoding='utf-8')\n",
    "'''\n"
   ]
  },
  {
   "cell_type": "code",
   "execution_count": 110,
   "metadata": {},
   "outputs": [],
   "source": [
    "\n",
    "# if __name__ == \"__main__\":\n",
    "#     import threading\n",
    "#     import sys\n",
    "#     start = time.time()\n",
    "#     # solver_path = '/home/prod/anaconda3/envs/optimize/bin/scip'\n",
    "#     solver_path = 'C:/Program Files/SCIPOptSuite 8.0.3/bin/scip'\n",
    "#     # solver_path = sys.argv[0]\n",
    "#     flow = get_flow_in(minutes=flow_minutes)        # 取指定时长流量均值，设定的2分钟\n",
    "\n",
    "\n",
    "\n",
    "#     def func():\n",
    "#         main(solver_path,flow)\n",
    "\n",
    "#     t = threading.Thread(target=func)\n",
    "#     t.setDaemon(True)\n",
    "#     t.start()\n",
    "\n",
    "#     t.join(timeout=60 * 59)\n",
    "#     end = time.time()\n",
    "#     print(\"程序process_1的运行时间为：{}\".format(end - start))\n",
    "\n",
    "\n",
    "#     import os\n",
    "#     import platform\n",
    "#     system_name = platform.system()\n",
    "\n",
    "#     if ( (\"Windows\" in system_name) and (os.system(\"tasklist | findstr /i scip.exe && taskkill /f /im scip.exe\") == 0)):\n",
    "#         print(\"kill scip.exe success\")\n",
    "#     print(\"riyi main thread over\")"
   ]
  }
 ],
 "metadata": {
  "kernelspec": {
   "display_name": "Python 3 (ipykernel)",
   "language": "python",
   "name": "python3"
  },
  "language_info": {
   "codemirror_mode": {
    "name": "ipython",
    "version": 3
   },
   "file_extension": ".py",
   "mimetype": "text/x-python",
   "name": "python",
   "nbconvert_exporter": "python",
   "pygments_lexer": "ipython3",
   "version": "3.10.9"
  }
 },
 "nbformat": 4,
 "nbformat_minor": 2
}
